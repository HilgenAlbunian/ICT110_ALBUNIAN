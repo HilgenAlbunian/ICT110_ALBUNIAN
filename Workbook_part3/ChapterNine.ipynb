{
 "cells": [
  {
   "cell_type": "markdown",
   "id": "866dcd1d",
   "metadata": {},
   "source": [
    "## EXERCISES"
   ]
  },
  {
   "cell_type": "markdown",
   "id": "a7d1eca4",
   "metadata": {},
   "source": [
    "#### Exercise 1\n",
    "\n",
    "Create a dictionary with the following keys and values showing a partial list of Real GDP growth in Annual percent change from IMF (Source: http://www.imf.org/external/datamapper/NGDP_RPCH@WEO/OEMDC/ADVEC/WEOWORLD)\n",
    "\n",
    "    China 6.5\n",
    "    Japan 0.7\n",
    "    Philippines 6.7\n",
    "    United States 2.3\n",
    "    "
   ]
  },
  {
   "cell_type": "code",
   "execution_count": 3,
   "id": "eaa6a96a",
   "metadata": {},
   "outputs": [],
   "source": [
    "GDP_growth = {}\n",
    "GDP_growth['China'] = 6.5\n",
    "GDP_growth['Japan'] = 0.7\n",
    "GDP_growth['Philippines'] = 6.7\n",
    "GDP_growth['United States'] = 2.3"
   ]
  },
  {
   "cell_type": "markdown",
   "id": "4a1e258c",
   "metadata": {},
   "source": [
    "#### Exercise 2\n",
    "\n",
    "Display all the keys and values from the dictionary you created above\n"
   ]
  },
  {
   "cell_type": "code",
   "execution_count": 4,
   "id": "a445cece",
   "metadata": {},
   "outputs": [
    {
     "name": "stdout",
     "output_type": "stream",
     "text": [
      "China 6.5\n",
      "Japan 0.7\n",
      "Philippines 6.7\n",
      "United States 2.3\n"
     ]
    }
   ],
   "source": [
    "#print(GDP_growth)\n",
    "for key in GDP_growth:\n",
    "    print(key, GDP_growth[key])"
   ]
  },
  {
   "cell_type": "markdown",
   "id": "e324702c",
   "metadata": {},
   "source": [
    "#### Exercise 3\n",
    "\n",
    "Write a program that asks the user to enter a line of text and then counts the number of each word that appeared in the line of text.\n",
    "Use the string function `split()` to make a list of words from a given string\n",
    "e.g.:\n",
    "\n",
    "```python\n",
    "word_list = line.split()\n",
    "```\n",
    "\n",
    "will return a list of words from the string `line` and store it in the variable `word_list`.\n",
    "\n",
    "\n",
    "(Adapted from [PES])"
   ]
  },
  {
   "cell_type": "code",
   "execution_count": 1,
   "id": "4991d338",
   "metadata": {
    "scrolled": true
   },
   "outputs": [
    {
     "name": "stdout",
     "output_type": "stream",
     "text": [
      "Enter a line of text: Write a program that asks the user to enter a line of text and then counts the number of each word that appeared in the line of text\n",
      "Write = 1\n",
      "a = 2\n",
      "program = 1\n",
      "that = 2\n",
      "asks = 1\n",
      "the = 3\n",
      "user = 1\n",
      "to = 1\n",
      "enter = 1\n",
      "line = 2\n",
      "of = 3\n",
      "text = 2\n",
      "and = 1\n",
      "then = 1\n",
      "counts = 1\n",
      "number = 1\n",
      "each = 1\n",
      "word = 1\n",
      "appeared = 1\n",
      "in = 1\n"
     ]
    }
   ],
   "source": [
    "line = input(\"Enter a line of text: \")\n",
    "word_list = line.split()\n",
    "count_word = {}\n",
    "for word in word_list :\n",
    "    if word in count_word:\n",
    "        count_word[word] += 1\n",
    "    else:\n",
    "        count_word[word] = 1\n",
    "for key in count_word :\n",
    "    print(key, \"=\" , count_word[key])"
   ]
  }
 ],
 "metadata": {
  "kernelspec": {
   "display_name": "Python 3 (ipykernel)",
   "language": "python",
   "name": "python3"
  },
  "language_info": {
   "codemirror_mode": {
    "name": "ipython",
    "version": 3
   },
   "file_extension": ".py",
   "mimetype": "text/x-python",
   "name": "python",
   "nbconvert_exporter": "python",
   "pygments_lexer": "ipython3",
   "version": "3.11.5"
  }
 },
 "nbformat": 4,
 "nbformat_minor": 5
}
