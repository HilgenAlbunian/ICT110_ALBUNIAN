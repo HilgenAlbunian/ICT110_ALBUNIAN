{
 "cells": [
  {
   "cell_type": "markdown",
   "metadata": {
    "id": "SKRY2230B_rS"
   },
   "source": [
    "# PYTHON FUNDAMENTALS, Part 3\n",
    "\n",
    "[CC BY 4.0](https://creativecommons.org/licenses/by/4.0/)"
   ]
  },
  {
   "cell_type": "markdown",
   "metadata": {
    "id": "4s9-Da_UB_rU"
   },
   "source": [
    "## Credits\n",
    "\n",
    "Most code snippets and explanatory texts from:\n",
    "- Charles Russel Severance's [Python for Everybody](https://www.py4e.com/) lecture slides\n",
    "  -  Unless annotated as indicated below, text and code came from this source. Additionally, they could be explicitly indicated by the marker `[PES]`\n",
    "\n",
    "and\n",
    "- Charles Russel Severance's [Python for Everybody - Online HTML Book](https://www.py4e.com/html3/)\n",
    "  - Notes and codes from this source are indicated by this the marker `[PEW]`\n",
    "\n",
    "Additional codes and comments from:\n",
    "- J.R. Johansson's [Introduction to Scientific Computing with Python](http://github.com/jrjohansson/scientific-python-lectures)\n",
    "  - Notes and codes from this source are indicated by this the marker `[JRJ]`"
   ]
  },
  {
   "cell_type": "markdown",
   "metadata": {
    "id": "k7-Dsmm8B_rV"
   },
   "source": [
    "# Before you begin\n",
    "\n",
    "First, make a copy of this notebook so that you can make changes as you please. Run and edit the copy instead of this original notebook. To copy this notebook, go to `File|Make a Copy`.\n",
    "\n",
    "If this notebook is already a copy of the original, clear all outputs in this notebook. Go to the Menu and click on `Cell| All Outputs| Clear`. Once this is done, you're ready to go."
   ]
  },
  {
   "cell_type": "markdown",
   "metadata": {
    "id": "_7cs_0udB_rW"
   },
   "source": [
    "# Suggestions for Learning\n",
    "\n",
    "- Code snippets in Raw Cells are meant to be written by Beginners.\n",
    "- Code snippets in Code Cells are for illustration purposes. They are meant to be executed by both Beginners and more experienced Learners. (Beginners, may wish to also type them, if they so choose).\n",
    "\n",
    "For better learning experience, the following are suggested:\n",
    "\n",
    "### For Beginners\n",
    "1. Create a new Code Cell below the code snippets inside Raw Cells (Insert Cell below then convert the cell type to Code Cell).\n",
    "2. Go to your newly-created Code Cell and re-type what you see in the code snippet (don't copy-paste)\n",
    "3. Execute (and experiment) on the Code Cell.\n",
    "4. Remember to learn by doing (not just by reading or seeing)\n",
    "\n",
    "### For Coders\n",
    "1. If you are not yet familiar with the concept, follow Steps 1&2 of the Instructions for Beginners\n",
    "2. If you are already familiar with the concept being presented, convert the Raw Cell into a Code Cell.\n",
    "3. Execute (and experiment) on the Code Cell.\n",
    "4. Learn the \"adjacent concepts\", e.g. read related documentation.\n",
    "5. Help your classmates, because teaching is a wonderful way to learn.\n",
    "\n",
    "### For All\n",
    "* Make this your personal notebook.\n",
    "    * Add your own text annotations in Markup Cells.\n",
    "    * Add comments to parts of code that you find difficult to understand\n",
    "    * Breakdown difficult code into several small pieces (maybe, several Code Cells) that are easier to understand"
   ]
  },
  {
   "cell_type": "markdown",
   "metadata": {
    "id": "1AT4Qrp5B_rW"
   },
   "source": [
    "<a id='contents'></a>"
   ]
  },
  {
   "cell_type": "markdown",
   "metadata": {
    "id": "XvJuNVDJB_rX"
   },
   "source": [
    "# TABLE OF CONTENTS"
   ]
  },
  {
   "cell_type": "markdown",
   "metadata": {
    "id": "FyHwbP_rB_rX"
   },
   "source": [
    "[Chapter 8 Lists](#chapter8)<br>\n",
    "[Chapter 9 Dictionaries](#chapter9)<br>\n",
    "[Chapter 10 Tuples](#chapter10)<br>\n"
   ]
  },
  {
   "cell_type": "markdown",
   "metadata": {
    "id": "6SP6sCZRB_rY"
   },
   "source": [
    "<a id='chapter8'></a>\n",
    "\n",
    "# CHAPTER  8 - Lists"
   ]
  },
  {
   "cell_type": "markdown",
   "metadata": {
    "id": "yCgJP1FiB_rY"
   },
   "source": [
    "Like a string, a list is a sequence of values. In a string, the values are characters; in a list, they can be any type. The values in a list are called `elements` or, sometimes, `items`.   \n",
    "\n",
    "[PEW]"
   ]
  },
  {
   "cell_type": "markdown",
   "metadata": {
    "id": "TkhrwsA1B_rZ"
   },
   "source": [
    "Lists play an important role in Python. They are often used in `for` loops\n",
    "and in defining other more complex data structures (e.g. arrays, pandas Series and Dataframes)."
   ]
  },
  {
   "cell_type": "markdown",
   "metadata": {
    "id": "ILZkYGvWB_rZ"
   },
   "source": [
    "## List Constants"
   ]
  },
  {
   "cell_type": "markdown",
   "metadata": {
    "id": "xRMpa6uKB_rZ"
   },
   "source": [
    "- List constants are surrounded by square brackets and the elements in the list are separated by commas\n",
    "- A list element can be any Python object - even another list\n",
    "- A list can be empty"
   ]
  },
  {
   "cell_type": "code",
   "execution_count": 10,
   "metadata": {
    "id": "JS496ekwB_ra"
   },
   "outputs": [
    {
     "name": "stdout",
     "output_type": "stream",
     "text": [
      "[]\n",
      "[3, 7, 9, 1]\n",
      "['elven-kings', 'dwarf-lords', 'mortal men', 'Dark Lord']\n",
      "[1, 'ring', 2.0, 'rule them all']\n",
      "[3, [7, 9, 4, 6, 8], 1]\n",
      "[3, [3, 7, 9, 1], 1]\n"
     ]
    }
   ],
   "source": [
    "empty_list = []\n",
    "int_list = [3, 7, 9, 1]\n",
    "string_list = ['elven-kings', 'dwarf-lords', 'mortal men', 'Dark Lord']\n",
    "mixed_list = [1, 'ring', 2.0, 'rule them all']\n",
    "list_with_a_list = [3, [7, 9, 4, 6, 8], 1]\n",
    "list_with_a_list2 = [3, int_list, 1]\n",
    "\n",
    "print(empty_list)\n",
    "print(int_list)\n",
    "print(string_list)\n",
    "print(mixed_list)\n",
    "print(list_with_a_list)\n",
    "print(list_with_a_list2)\n",
    "#あ"
   ]
  },
  {
   "cell_type": "markdown",
   "metadata": {
    "id": "8WXGCY_SB_rb"
   },
   "source": [
    "## Lists and `for` Loops"
   ]
  },
  {
   "cell_type": "markdown",
   "metadata": {
    "id": "MdGLoYiQB_rc"
   },
   "source": [
    "Lists are often used in `for` loops.\n",
    "#あ"
   ]
  },
  {
   "cell_type": "code",
   "execution_count": 2,
   "metadata": {
    "id": "joJBwy1wB_rc"
   },
   "outputs": [
    {
     "name": "stdout",
     "output_type": "stream",
     "text": [
      "Happy New Year: Joseph\n",
      "Happy New Year: Glenn\n",
      "Happy New Year: Sally\n",
      "Done!\n"
     ]
    }
   ],
   "source": [
    "friends = ['Joseph', 'Glenn', 'Sally']\n",
    "for f in friends:\n",
    "    print('Happy New Year:',  f)\n",
    "print('Done!')"
   ]
  },
  {
   "cell_type": "markdown",
   "metadata": {
    "id": "jLqoceiCB_rc"
   },
   "source": [
    "## Looking Inside Lists"
   ]
  },
  {
   "cell_type": "markdown",
   "metadata": {
    "id": "3UR1ia1-B_rc"
   },
   "source": [
    "- The syntax for accessing the elements of a list is the same as for accessing the characters of a string: the **bracket operator**.\n",
    "- The expression inside the brackets specifies the **index**.\n",
    "- **Remember that the indices start at 0**.\n",
    "\n",
    "[PEW]"
   ]
  },
  {
   "cell_type": "code",
   "execution_count": 3,
   "metadata": {
    "id": "HOPInZiRB_rc"
   },
   "outputs": [
    {
     "name": "stdout",
     "output_type": "stream",
     "text": [
      "Glenn\n"
     ]
    }
   ],
   "source": [
    "friends = [ 'Joseph', 'Glenn', 'Sally' ]\n",
    "print(friends[1])"
   ]
  },
  {
   "cell_type": "code",
   "execution_count": 11,
   "metadata": {
    "id": "E5LGmqo1B_rd"
   },
   "outputs": [
    {
     "data": {
      "text/plain": [
       "[3, [7, 9, 4, 6, 8], 1]"
      ]
     },
     "execution_count": 11,
     "metadata": {},
     "output_type": "execute_result"
    }
   ],
   "source": [
    "list_with_a_list"
   ]
  },
  {
   "cell_type": "code",
   "execution_count": 12,
   "metadata": {
    "id": "eaQN9_M_B_rd",
    "scrolled": true
   },
   "outputs": [
    {
     "data": {
      "text/plain": [
       "6"
      ]
     },
     "execution_count": 12,
     "metadata": {},
     "output_type": "execute_result"
    }
   ],
   "source": [
    "list_with_a_list[1][3]"
   ]
  },
  {
   "cell_type": "markdown",
   "metadata": {
    "id": "zIdkobEsB_rd"
   },
   "source": [
    "The expression below access the 2nd element, which is itself a list."
   ]
  },
  {
   "cell_type": "code",
   "execution_count": 15,
   "metadata": {
    "id": "K60y2_rWB_re"
   },
   "outputs": [
    {
     "data": {
      "text/plain": [
       "[7, 9, 4, 6, 8]"
      ]
     },
     "execution_count": 15,
     "metadata": {},
     "output_type": "execute_result"
    }
   ],
   "source": [
    "list_with_a_list[1]"
   ]
  },
  {
   "cell_type": "markdown",
   "metadata": {
    "id": "MacEm9fWB_re"
   },
   "source": [
    "We can access the elements of the inner list in a similar manner. The expression below accesses the first element of the inner list."
   ]
  },
  {
   "cell_type": "code",
   "execution_count": 13,
   "metadata": {
    "id": "RLDYFOrUB_re"
   },
   "outputs": [
    {
     "data": {
      "text/plain": [
       "7"
      ]
     },
     "execution_count": 13,
     "metadata": {},
     "output_type": "execute_result"
    }
   ],
   "source": [
    "list_with_a_list[1][0]"
   ]
  },
  {
   "cell_type": "markdown",
   "metadata": {
    "id": "rVIccRmGB_re"
   },
   "source": [
    "You can break down the code above in the following manner:"
   ]
  },
  {
   "cell_type": "code",
   "execution_count": 14,
   "metadata": {
    "id": "5ERxKZp9B_rf"
   },
   "outputs": [
    {
     "data": {
      "text/plain": [
       "[7, 9, 4, 6, 8]"
      ]
     },
     "execution_count": 14,
     "metadata": {},
     "output_type": "execute_result"
    }
   ],
   "source": [
    "inner_list = list_with_a_list[1]\n",
    "inner_list"
   ]
  },
  {
   "cell_type": "code",
   "execution_count": 16,
   "metadata": {
    "id": "4zyzwcPQB_rf"
   },
   "outputs": [
    {
     "data": {
      "text/plain": [
       "7"
      ]
     },
     "execution_count": 16,
     "metadata": {},
     "output_type": "execute_result"
    }
   ],
   "source": [
    "inner_list[0]"
   ]
  },
  {
   "cell_type": "markdown",
   "metadata": {
    "id": "CoXbTM1-B_rf"
   },
   "source": [
    "## Lists are Mutable"
   ]
  },
  {
   "cell_type": "markdown",
   "metadata": {
    "id": "Yh_AWx92B_rg"
   },
   "source": [
    "Strings are “immutable” - we cannot change the contents of a string..."
   ]
  },
  {
   "cell_type": "code",
   "execution_count": null,
   "metadata": {
    "id": "BA4kmG3FB_rg"
   },
   "outputs": [],
   "source": [
    "fruit = 'Banana'\n",
    "fruit[0] = 'b'"
   ]
  },
  {
   "cell_type": "markdown",
   "metadata": {
    "id": "sSKsUwapB_rg"
   },
   "source": [
    "...we must make a new string to make any change"
   ]
  },
  {
   "cell_type": "code",
   "execution_count": 18,
   "metadata": {
    "id": "428AopdOB_rg"
   },
   "outputs": [
    {
     "name": "stdout",
     "output_type": "stream",
     "text": [
      "banana\n"
     ]
    }
   ],
   "source": [
    "x = fruit.lower()\n",
    "print(x)"
   ]
  },
  {
   "cell_type": "markdown",
   "metadata": {
    "id": "oHDDryYbB_rg"
   },
   "source": [
    "Lists are *mutable* - we can change an element of a list using the index operator."
   ]
  },
  {
   "cell_type": "code",
   "execution_count": 19,
   "metadata": {
    "id": "bLkf-K5hB_rh"
   },
   "outputs": [
    {
     "name": "stdout",
     "output_type": "stream",
     "text": [
      "[2, 14, 26, 41, 63]\n"
     ]
    }
   ],
   "source": [
    "lotto_numbers = [2, 14, 26, 41, 63]\n",
    "print(lotto_numbers)"
   ]
  },
  {
   "cell_type": "code",
   "execution_count": 22,
   "metadata": {
    "id": "LJYldR_EB_rh",
    "scrolled": true
   },
   "outputs": [
    {
     "name": "stdout",
     "output_type": "stream",
     "text": [
      "[9, 14, 26, 41, 63]\n"
     ]
    }
   ],
   "source": [
    "lotto_numbers[0] = 9\n",
    "print(lotto_numbers)\n",
    "\n",
    "#あ"
   ]
  },
  {
   "cell_type": "markdown",
   "metadata": {
    "id": "FRP_y-epB_rh"
   },
   "source": [
    "## How Long is a List?"
   ]
  },
  {
   "cell_type": "markdown",
   "metadata": {
    "id": "pIYSyQzyB_rh"
   },
   "source": [
    "- The `len()` function takes a list as a parameter and returns the number of elements in the list\n",
    "- Actually `len()` tells us the number of elements of any set or sequence (such as a string...)"
   ]
  },
  {
   "cell_type": "code",
   "execution_count": 23,
   "metadata": {
    "id": "5-ijKi_-B_ri"
   },
   "outputs": [
    {
     "name": "stdout",
     "output_type": "stream",
     "text": [
      "9\n"
     ]
    }
   ],
   "source": [
    "greeting = 'Hello Bob'\n",
    "print(len(greeting))"
   ]
  },
  {
   "cell_type": "code",
   "execution_count": 24,
   "metadata": {
    "id": "UxC_dnQ4B_rv"
   },
   "outputs": [
    {
     "name": "stdout",
     "output_type": "stream",
     "text": [
      "4\n"
     ]
    }
   ],
   "source": [
    "x = [ 1, 2, 'joe', 99]\n",
    "print(len(x))"
   ]
  },
  {
   "cell_type": "markdown",
   "metadata": {
    "id": "7FQc20wVB_rv"
   },
   "source": [
    "Can you guess how many elements there are in this list?"
   ]
  },
  {
   "cell_type": "code",
   "execution_count": 25,
   "metadata": {
    "id": "DF9sEdrvB_rw"
   },
   "outputs": [
    {
     "data": {
      "text/plain": [
       "3"
      ]
     },
     "execution_count": 25,
     "metadata": {},
     "output_type": "execute_result"
    }
   ],
   "source": [
    "list_with_a_list = [3, [7, 9], 1]\n",
    "len(list_with_a_list)"
   ]
  },
  {
   "cell_type": "markdown",
   "metadata": {
    "id": "9r6An2aDB_rw"
   },
   "source": [
    "## Generating a list of integers using the `range()`"
   ]
  },
  {
   "cell_type": "markdown",
   "metadata": {
    "id": "k6vn0DLyB_rw"
   },
   "source": [
    "- The built-in function `range()` returns an object that produces a sequence of integers\n",
    "- Parameters: `start`, `stop`, `step`.\n",
    "-  the sequence of integers produced are from `start` (inclusive) to `stop` (exclusive) with intervals set by `step`.\n",
    "- We can transform this object by passing it to the **`list()`** function. This list can then be used in a `for` loop."
   ]
  },
  {
   "cell_type": "markdown",
   "metadata": {
    "id": "4QC3YWadB_rw"
   },
   "source": [
    "Let's get some information on range by passing it to the `help()` function."
   ]
  },
  {
   "cell_type": "code",
   "execution_count": 26,
   "metadata": {
    "id": "Epj_S641B_rx"
   },
   "outputs": [
    {
     "name": "stdout",
     "output_type": "stream",
     "text": [
      "Help on class range in module builtins:\n",
      "\n",
      "class range(object)\n",
      " |  range(stop) -> range object\n",
      " |  range(start, stop[, step]) -> range object\n",
      " |  \n",
      " |  Return an object that produces a sequence of integers from start (inclusive)\n",
      " |  to stop (exclusive) by step.  range(i, j) produces i, i+1, i+2, ..., j-1.\n",
      " |  start defaults to 0, and stop is omitted!  range(4) produces 0, 1, 2, 3.\n",
      " |  These are exactly the valid indices for a list of 4 elements.\n",
      " |  When step is given, it specifies the increment (or decrement).\n",
      " |  \n",
      " |  Methods defined here:\n",
      " |  \n",
      " |  __bool__(self, /)\n",
      " |      True if self else False\n",
      " |  \n",
      " |  __contains__(self, key, /)\n",
      " |      Return key in self.\n",
      " |  \n",
      " |  __eq__(self, value, /)\n",
      " |      Return self==value.\n",
      " |  \n",
      " |  __ge__(self, value, /)\n",
      " |      Return self>=value.\n",
      " |  \n",
      " |  __getattribute__(self, name, /)\n",
      " |      Return getattr(self, name).\n",
      " |  \n",
      " |  __getitem__(self, key, /)\n",
      " |      Return self[key].\n",
      " |  \n",
      " |  __gt__(self, value, /)\n",
      " |      Return self>value.\n",
      " |  \n",
      " |  __hash__(self, /)\n",
      " |      Return hash(self).\n",
      " |  \n",
      " |  __iter__(self, /)\n",
      " |      Implement iter(self).\n",
      " |  \n",
      " |  __le__(self, value, /)\n",
      " |      Return self<=value.\n",
      " |  \n",
      " |  __len__(self, /)\n",
      " |      Return len(self).\n",
      " |  \n",
      " |  __lt__(self, value, /)\n",
      " |      Return self<value.\n",
      " |  \n",
      " |  __ne__(self, value, /)\n",
      " |      Return self!=value.\n",
      " |  \n",
      " |  __reduce__(...)\n",
      " |      Helper for pickle.\n",
      " |  \n",
      " |  __repr__(self, /)\n",
      " |      Return repr(self).\n",
      " |  \n",
      " |  __reversed__(...)\n",
      " |      Return a reverse iterator.\n",
      " |  \n",
      " |  count(...)\n",
      " |      rangeobject.count(value) -> integer -- return number of occurrences of value\n",
      " |  \n",
      " |  index(...)\n",
      " |      rangeobject.index(value) -> integer -- return index of value.\n",
      " |      Raise ValueError if the value is not present.\n",
      " |  \n",
      " |  ----------------------------------------------------------------------\n",
      " |  Static methods defined here:\n",
      " |  \n",
      " |  __new__(*args, **kwargs) from builtins.type\n",
      " |      Create and return a new object.  See help(type) for accurate signature.\n",
      " |  \n",
      " |  ----------------------------------------------------------------------\n",
      " |  Data descriptors defined here:\n",
      " |  \n",
      " |  start\n",
      " |  \n",
      " |  step\n",
      " |  \n",
      " |  stop\n",
      "\n"
     ]
    }
   ],
   "source": [
    "help(range)"
   ]
  },
  {
   "cell_type": "markdown",
   "metadata": {
    "id": "RN2zEOrHB_rx"
   },
   "source": [
    "Below are the important portions of the documentation"
   ]
  },
  {
   "cell_type": "markdown",
   "metadata": {
    "id": "iuieKc6yB_ry"
   },
   "source": [
    "    range(stop) -> range object\n",
    "    range(start, stop [, step]) -> range object\n",
    "    \n",
    "    Return an object that produces a sequence of integers from start (inclusive) to stop (exclusive) by step.  \n",
    "        range(i, j) produces i, i+1, i+2, ..., j-1.\n",
    "    \n",
    "    start defaults to 0 and stop is omitted!  \n",
    "        range(4) produces 0, 1, 2, 3.\n",
    "        \n",
    "    When step is given, it specifies the increment (or decrement)."
   ]
  },
  {
   "cell_type": "markdown",
   "metadata": {
    "id": "uVg1Ap5sB_ry"
   },
   "source": [
    "#### Specifying only the `stop` parameter"
   ]
  },
  {
   "cell_type": "code",
   "execution_count": 2,
   "metadata": {
    "id": "Qek_m0Z_B_ry"
   },
   "outputs": [
    {
     "data": {
      "text/plain": [
       "range(0, 20)"
      ]
     },
     "execution_count": 2,
     "metadata": {},
     "output_type": "execute_result"
    }
   ],
   "source": [
    "stop = 20\n",
    "a = range(stop)\n",
    "a"
   ]
  },
  {
   "cell_type": "markdown",
   "metadata": {
    "id": "smKVU9JeB_rz"
   },
   "source": [
    "What is returned is a `range` object.\n",
    "We can also pass an integer value directly to the function."
   ]
  },
  {
   "cell_type": "code",
   "execution_count": 6,
   "metadata": {
    "id": "nstGV0EJB_rz",
    "scrolled": true
   },
   "outputs": [
    {
     "data": {
      "text/plain": [
       "range(1, 10)"
      ]
     },
     "execution_count": 6,
     "metadata": {},
     "output_type": "execute_result"
    }
   ],
   "source": [
    "a = range(1, 10)\n",
    "a"
   ]
  },
  {
   "cell_type": "code",
   "execution_count": null,
   "metadata": {},
   "outputs": [],
   "source": []
  },
  {
   "cell_type": "markdown",
   "metadata": {
    "id": "_gC__rSLB_rz"
   },
   "source": [
    "You can convert `range` into a `list`  using  the `list()` function"
   ]
  },
  {
   "cell_type": "code",
   "execution_count": 30,
   "metadata": {
    "id": "Xt0EqeasB_r0"
   },
   "outputs": [
    {
     "data": {
      "text/plain": [
       "[1, 2, 3]"
      ]
     },
     "execution_count": 30,
     "metadata": {},
     "output_type": "execute_result"
    }
   ],
   "source": [
    "b = list(range(4))\n",
    "b"
   ]
  },
  {
   "cell_type": "markdown",
   "metadata": {
    "id": "HRNgoCdLB_r0"
   },
   "source": [
    "Note that 4 is not included in the generated list."
   ]
  },
  {
   "cell_type": "markdown",
   "metadata": {
    "id": "beezODIcB_r1"
   },
   "source": [
    "#### Specifying `start` and  `stop` parameters"
   ]
  },
  {
   "cell_type": "code",
   "execution_count": 14,
   "metadata": {
    "id": "-J4PWgRtB_r1",
    "scrolled": true
   },
   "outputs": [
    {
     "data": {
      "text/plain": [
       "[2, 7, 12, 17]"
      ]
     },
     "execution_count": 14,
     "metadata": {},
     "output_type": "execute_result"
    }
   ],
   "source": [
    "start = 2\n",
    "stop = 20\n",
    "c = range(start, stop, 5)\n",
    "list(c)"
   ]
  },
  {
   "cell_type": "markdown",
   "metadata": {
    "id": "56vq4HcNB_r2"
   },
   "source": [
    "We can compact the above code to"
   ]
  },
  {
   "cell_type": "code",
   "execution_count": 37,
   "metadata": {
    "id": "Z01KyRGHB_r2"
   },
   "outputs": [
    {
     "data": {
      "text/plain": [
       "[2, 3, 4, 5, 6, 7, 8, 9, 10, 11, 12, 13, 14, 15, 16, 17, 18, 19]"
      ]
     },
     "execution_count": 37,
     "metadata": {},
     "output_type": "execute_result"
    }
   ],
   "source": [
    "list(range(2,20))"
   ]
  },
  {
   "cell_type": "markdown",
   "metadata": {
    "id": "qtvdXJ8hB_r2"
   },
   "source": [
    "#### Specifying `start`,  `stop` and `step` parameters"
   ]
  },
  {
   "cell_type": "code",
   "execution_count": 38,
   "metadata": {
    "id": "CKVtDxh5B_r3"
   },
   "outputs": [
    {
     "data": {
      "text/plain": [
       "[2, 4, 6, 8, 10, 12, 14, 16, 18]"
      ]
     },
     "execution_count": 38,
     "metadata": {},
     "output_type": "execute_result"
    }
   ],
   "source": [
    "start = 2\n",
    "stop = 20\n",
    "step = 2\n",
    "d = range(start, stop, step)\n",
    "list(d)"
   ]
  },
  {
   "cell_type": "code",
   "execution_count": 39,
   "metadata": {
    "id": "C4H156xzB_r3"
   },
   "outputs": [
    {
     "data": {
      "text/plain": [
       "[2, 4, 6, 8, 10, 12, 14, 16, 18]"
      ]
     },
     "execution_count": 39,
     "metadata": {},
     "output_type": "execute_result"
    }
   ],
   "source": [
    "list(range(2, 20, 2))"
   ]
  },
  {
   "cell_type": "markdown",
   "metadata": {
    "id": "ZExYLNebB_r3"
   },
   "source": [
    "Using a negative `step` parameter"
   ]
  },
  {
   "cell_type": "code",
   "execution_count": 40,
   "metadata": {
    "id": "mEefpihUB_r3"
   },
   "outputs": [
    {
     "data": {
      "text/plain": [
       "[20, 18, 16, 14, 12, 10, 8, 6, 4]"
      ]
     },
     "execution_count": 40,
     "metadata": {},
     "output_type": "execute_result"
    }
   ],
   "source": [
    "list(range(20, 2, -2))"
   ]
  },
  {
   "cell_type": "code",
   "execution_count": 41,
   "metadata": {
    "id": "CpysR9x-B_r4"
   },
   "outputs": [
    {
     "data": {
      "text/plain": [
       "[]"
      ]
     },
     "execution_count": 41,
     "metadata": {},
     "output_type": "execute_result"
    }
   ],
   "source": [
    "list(range(2, 20, -2))"
   ]
  },
  {
   "cell_type": "markdown",
   "metadata": {
    "id": "6mz38wljB_r4"
   },
   "source": [
    "### Using `range` in `for` loops"
   ]
  },
  {
   "cell_type": "markdown",
   "metadata": {
    "id": "sn9q4JlGB_r4"
   },
   "source": [
    "The result of the `range()` function could directly be used in a for loop without converting it to a list."
   ]
  },
  {
   "cell_type": "code",
   "execution_count": 44,
   "metadata": {
    "id": "gsD8iWzPB_r5",
    "scrolled": false
   },
   "outputs": [
    {
     "name": "stdout",
     "output_type": "stream",
     "text": [
      "The square of 1 is 1\n",
      "The square of 2 is 4\n",
      "The square of 3 is 9\n",
      "The square of 4 is 16\n",
      "The square of 5 is 25\n"
     ]
    }
   ],
   "source": [
    "for i in range(1,6):\n",
    "    print('The square of {} is {}'.format(i, i**2))"
   ]
  },
  {
   "cell_type": "markdown",
   "metadata": {
    "id": "fpfrOSsoB_r5"
   },
   "source": [
    "## Generating lists using the List Comprehenion"
   ]
  },
  {
   "cell_type": "markdown",
   "metadata": {
    "id": "lzEEM9zNB_r7"
   },
   "source": [
    "The code below generates a list of squares of the numbers from 1 to 5"
   ]
  },
  {
   "cell_type": "code",
   "execution_count": 45,
   "metadata": {
    "id": "33OwNTtmB_r8"
   },
   "outputs": [
    {
     "name": "stdout",
     "output_type": "stream",
     "text": [
      "[1, 4, 9, 16, 25]\n"
     ]
    }
   ],
   "source": [
    "my_list = []\n",
    "for num in range(1,6):\n",
    "    my_list.append(num**2)\n",
    "print(my_list)\n",
    "\n",
    "#あ"
   ]
  },
  {
   "cell_type": "markdown",
   "metadata": {
    "id": "MC7ch0CLB_r8"
   },
   "source": [
    "The same list could be generated usin **list comprehension**:"
   ]
  },
  {
   "cell_type": "code",
   "execution_count": 46,
   "metadata": {
    "id": "3J1S4lrUB_r9"
   },
   "outputs": [
    {
     "data": {
      "text/plain": [
       "[0, 1, 8, 27, 64]"
      ]
     },
     "execution_count": 46,
     "metadata": {},
     "output_type": "execute_result"
    }
   ],
   "source": [
    "[num**3 for num in range(0,5)]"
   ]
  },
  {
   "cell_type": "markdown",
   "metadata": {
    "id": "An1apbtHB_r9"
   },
   "source": [
    "To use list comprehension:\n",
    "- surround the expression with square brackets\n",
    "- write the expression that should be added to the list\n",
    "    - this is `num**2` in the above example\n",
    "    - this should contain a variable which appears in the `for` statement below\n",
    "        - this is `num` in the above example\n",
    "- write `for` statement to loop to a set of values\n",
    "    - this is `for num in range(0,5)` in the above example\n",
    "    - the `for` statement should **not** have a colon at the end\n",
    "   "
   ]
  },
  {
   "cell_type": "markdown",
   "metadata": {
    "id": "spup8rt9B_r-"
   },
   "source": [
    "#### List comprehension with an `if` condition."
   ]
  },
  {
   "cell_type": "markdown",
   "metadata": {
    "id": "P9WoT_GUB_r-"
   },
   "source": [
    "You can put more power to list comprehensions by adding an  `if` condition after the `for` statement."
   ]
  },
  {
   "cell_type": "markdown",
   "metadata": {
    "id": "Dn2t3-twB_r-"
   },
   "source": [
    "The list comprehension below returns odd numbers from 1 to 20"
   ]
  },
  {
   "cell_type": "code",
   "execution_count": 47,
   "metadata": {
    "id": "BT6dPo_vB_r-"
   },
   "outputs": [
    {
     "data": {
      "text/plain": [
       "[1, 3, 5, 7, 9, 11, 13, 15, 17, 19]"
      ]
     },
     "execution_count": 47,
     "metadata": {},
     "output_type": "execute_result"
    }
   ],
   "source": [
    "[num for num in range(1,21) if num % 2 != 0]"
   ]
  },
  {
   "cell_type": "markdown",
   "metadata": {
    "id": "e4409DcpB_r_"
   },
   "source": [
    "The expression below returns numbers from 1 to 20 that are divisible by 3"
   ]
  },
  {
   "cell_type": "code",
   "execution_count": 48,
   "metadata": {
    "id": "3nnh0JwEB_r_"
   },
   "outputs": [
    {
     "data": {
      "text/plain": [
       "[3, 6, 9, 12, 15, 18]"
      ]
     },
     "execution_count": 48,
     "metadata": {},
     "output_type": "execute_result"
    }
   ],
   "source": [
    "[num for num in range(1,21) if num % 3 == 0]"
   ]
  },
  {
   "cell_type": "markdown",
   "metadata": {
    "id": "cWcGMJ_6B_r_"
   },
   "source": [
    "## Looping through lists"
   ]
  },
  {
   "cell_type": "markdown",
   "metadata": {
    "id": "VOXwGHOlB_sA"
   },
   "source": [
    "### Looping through lists using `in`"
   ]
  },
  {
   "cell_type": "code",
   "execution_count": null,
   "metadata": {
    "id": "4IsG4jhsB_sA"
   },
   "outputs": [],
   "source": [
    "friends = ['Joseph', 'Glenn', 'Sally']"
   ]
  },
  {
   "cell_type": "code",
   "execution_count": 50,
   "metadata": {
    "id": "CbrlDd1FB_sB",
    "scrolled": true
   },
   "outputs": [
    {
     "name": "stdout",
     "output_type": "stream",
     "text": [
      "Joseph\n",
      "Glenn\n",
      "Sally\n"
     ]
    }
   ],
   "source": [
    "for f in friends :\n",
    "    print(f)"
   ]
  },
  {
   "cell_type": "markdown",
   "metadata": {
    "id": "F_LieilQB_sB"
   },
   "source": [
    "### Looping with  `enumerate`"
   ]
  },
  {
   "cell_type": "markdown",
   "metadata": {
    "id": "or9-QHloB_sC"
   },
   "source": [
    "You can access both index and items in a list using `enumerate`"
   ]
  },
  {
   "cell_type": "code",
   "execution_count": 56,
   "metadata": {
    "id": "zgAalUbsB_sC",
    "scrolled": true
   },
   "outputs": [
    {
     "name": "stdout",
     "output_type": "stream",
     "text": [
      "0   Joseph\n",
      "1   Glenn\n",
      "2   Sally\n"
     ]
    }
   ],
   "source": [
    "friends = ['Joseph', 'Glenn', 'Sally']\n",
    "for index, friend in enumerate(friends):\n",
    "    print(index,' ',friend)"
   ]
  },
  {
   "cell_type": "markdown",
   "metadata": {
    "id": "g4_dS7X_B_sC"
   },
   "source": [
    "## Concatenating Lists Using the `+` operator"
   ]
  },
  {
   "cell_type": "code",
   "execution_count": 57,
   "metadata": {
    "id": "ykpwBpMoB_sC"
   },
   "outputs": [
    {
     "name": "stdout",
     "output_type": "stream",
     "text": [
      "[1, 2, 3, 4, 5, 6]\n",
      "[1, 2, 3]\n",
      "[4, 5, 6]\n"
     ]
    }
   ],
   "source": [
    "a = [1, 2, 3]\n",
    "b = [4, 5, 6]\n",
    "c = a + b\n",
    "print(c)\n",
    "print(a)\n",
    "print(b)"
   ]
  },
  {
   "cell_type": "markdown",
   "metadata": {
    "id": "5WGK69lSB_sD"
   },
   "source": [
    "## Repeating Lists Using the `*` operator  "
   ]
  },
  {
   "cell_type": "markdown",
   "metadata": {
    "id": "6od4NLD9B_sD"
   },
   "source": [
    "The `*` operator repeats the elements in the list:"
   ]
  },
  {
   "cell_type": "code",
   "execution_count": 15,
   "metadata": {
    "id": "lIO2EwSkB_sD"
   },
   "outputs": [
    {
     "data": {
      "text/plain": [
       "[2, 2, 2, 2]"
      ]
     },
     "execution_count": 15,
     "metadata": {},
     "output_type": "execute_result"
    }
   ],
   "source": [
    "quiz_grades = [2] * 4\n",
    "quiz_grades"
   ]
  },
  {
   "cell_type": "code",
   "execution_count": 59,
   "metadata": {
    "id": "4vud5PcwB_sD"
   },
   "outputs": [
    {
     "data": {
      "text/plain": [
       "[1, 2, 3, 1, 2, 3, 1, 2, 3, 1, 2, 3]"
      ]
     },
     "execution_count": 59,
     "metadata": {},
     "output_type": "execute_result"
    }
   ],
   "source": [
    "[1, 2, 3] * 4"
   ]
  },
  {
   "cell_type": "markdown",
   "metadata": {
    "id": "t8qYzZoFB_sE"
   },
   "source": [
    "## Slicing Lists Using the `:` operator"
   ]
  },
  {
   "cell_type": "markdown",
   "metadata": {
    "id": "VoBoG5BfB_sE"
   },
   "source": [
    "Lists, like strings, could also be sliced with the colon operator."
   ]
  },
  {
   "cell_type": "markdown",
   "metadata": {
    "id": "wo-mAIGaB_sE"
   },
   "source": [
    "Remember:  Just like in strings, the second number is “up to but not including”"
   ]
  },
  {
   "cell_type": "markdown",
   "metadata": {
    "id": "teGdbS6zB_sE"
   },
   "source": [
    "mnemonic: Right Slice of Bread : \\[  )"
   ]
  },
  {
   "cell_type": "code",
   "execution_count": 61,
   "metadata": {
    "id": "Vge0Pb3EB_sE"
   },
   "outputs": [],
   "source": [
    "t = [9, 41, 12, 3, 74, 15]"
   ]
  },
  {
   "cell_type": "code",
   "execution_count": 62,
   "metadata": {
    "id": "-SxWPGHoB_sE"
   },
   "outputs": [
    {
     "data": {
      "text/plain": [
       "[41, 12]"
      ]
     },
     "execution_count": 62,
     "metadata": {},
     "output_type": "execute_result"
    }
   ],
   "source": [
    "t[1:3]"
   ]
  },
  {
   "cell_type": "code",
   "execution_count": 63,
   "metadata": {
    "id": "PE3EXNQuB_sF"
   },
   "outputs": [
    {
     "data": {
      "text/plain": [
       "[9, 41, 12, 3]"
      ]
     },
     "execution_count": 63,
     "metadata": {},
     "output_type": "execute_result"
    }
   ],
   "source": [
    "t[:4]"
   ]
  },
  {
   "cell_type": "code",
   "execution_count": 64,
   "metadata": {
    "id": "0jQ1SloQB_sF"
   },
   "outputs": [
    {
     "data": {
      "text/plain": [
       "[3, 74, 15]"
      ]
     },
     "execution_count": 64,
     "metadata": {},
     "output_type": "execute_result"
    }
   ],
   "source": [
    "t[3:]"
   ]
  },
  {
   "cell_type": "code",
   "execution_count": 65,
   "metadata": {
    "id": "872xVfKyB_sF"
   },
   "outputs": [
    {
     "data": {
      "text/plain": [
       "[9, 41, 12, 3, 74, 15]"
      ]
     },
     "execution_count": 65,
     "metadata": {},
     "output_type": "execute_result"
    }
   ],
   "source": [
    "t[:]"
   ]
  },
  {
   "cell_type": "markdown",
   "metadata": {
    "id": "yhSRY2b1B_sF"
   },
   "source": [
    "## List Methods"
   ]
  },
  {
   "cell_type": "code",
   "execution_count": 66,
   "metadata": {
    "id": "6dSHikU2B_sG"
   },
   "outputs": [
    {
     "data": {
      "text/plain": [
       "list"
      ]
     },
     "execution_count": 66,
     "metadata": {},
     "output_type": "execute_result"
    }
   ],
   "source": [
    "mylist = []\n",
    "type(mylist)"
   ]
  },
  {
   "cell_type": "markdown",
   "metadata": {
    "id": "EZVvvD1WB_sG"
   },
   "source": [
    "The code below prints all available methods for the list data structure."
   ]
  },
  {
   "cell_type": "code",
   "execution_count": 67,
   "metadata": {
    "id": "TizAR9eIB_sG"
   },
   "outputs": [
    {
     "name": "stdout",
     "output_type": "stream",
     "text": [
      "['__add__', '__class__', '__class_getitem__', '__contains__', '__delattr__', '__delitem__', '__dir__', '__doc__', '__eq__', '__format__', '__ge__', '__getattribute__', '__getitem__', '__getstate__', '__gt__', '__hash__', '__iadd__', '__imul__', '__init__', '__init_subclass__', '__iter__', '__le__', '__len__', '__lt__', '__mul__', '__ne__', '__new__', '__reduce__', '__reduce_ex__', '__repr__', '__reversed__', '__rmul__', '__setattr__', '__setitem__', '__sizeof__', '__str__', '__subclasshook__', 'append', 'clear', 'copy', 'count', 'extend', 'index', 'insert', 'pop', 'remove', 'reverse', 'sort']\n"
     ]
    }
   ],
   "source": [
    "print(dir(mylist))"
   ]
  },
  {
   "cell_type": "markdown",
   "metadata": {
    "id": "klDD8xa5B_sG"
   },
   "source": [
    "We can generate a list of non special Python methods for lists using list comprehension and the string method `startswith()`."
   ]
  },
  {
   "cell_type": "code",
   "execution_count": 68,
   "metadata": {
    "id": "WXs6lOXoB_sH"
   },
   "outputs": [
    {
     "data": {
      "text/plain": [
       "['append',\n",
       " 'clear',\n",
       " 'copy',\n",
       " 'count',\n",
       " 'extend',\n",
       " 'index',\n",
       " 'insert',\n",
       " 'pop',\n",
       " 'remove',\n",
       " 'reverse',\n",
       " 'sort']"
      ]
     },
     "execution_count": 68,
     "metadata": {},
     "output_type": "execute_result"
    }
   ],
   "source": [
    "[x for x in dir(mylist) if not x.startswith('__')]\n",
    "#あ"
   ]
  },
  {
   "cell_type": "code",
   "execution_count": 74,
   "metadata": {
    "id": "qwietMoVB_sH",
    "scrolled": false
   },
   "outputs": [
    {
     "data": {
      "text/plain": [
       "['append',\n",
       " 'clear',\n",
       " 'copy',\n",
       " 'count',\n",
       " 'extend',\n",
       " 'index',\n",
       " 'insert',\n",
       " 'pop',\n",
       " 'remove',\n",
       " 'reverse',\n",
       " 'sort']"
      ]
     },
     "execution_count": 74,
     "metadata": {},
     "output_type": "execute_result"
    }
   ],
   "source": [
    "templist = []\n",
    "for x in dir(mylist):\n",
    "    if not x.startswith('__'):\n",
    "        templist.append(x)\n",
    "templist"
   ]
  },
  {
   "cell_type": "markdown",
   "metadata": {
    "id": "E-1sFGqoB_sJ"
   },
   "source": [
    "#### Append"
   ]
  },
  {
   "cell_type": "markdown",
   "metadata": {
    "id": "dg-jj6uSB_sK"
   },
   "source": [
    "Adds a new **element** to the end of a list: [PEW]"
   ]
  },
  {
   "cell_type": "code",
   "execution_count": 75,
   "metadata": {
    "id": "5KtQuBebB_sK"
   },
   "outputs": [
    {
     "data": {
      "text/plain": [
       "['a', 'b', 'c', 'd']"
      ]
     },
     "execution_count": 75,
     "metadata": {},
     "output_type": "execute_result"
    }
   ],
   "source": [
    "t = ['a', 'b', 'c']\n",
    "t.append('d')\n",
    "t"
   ]
  },
  {
   "cell_type": "markdown",
   "metadata": {
    "id": "F6dMuJjPB_sL"
   },
   "source": [
    "#### Extend"
   ]
  },
  {
   "cell_type": "markdown",
   "metadata": {
    "id": "HMV_QnnqB_sL"
   },
   "source": [
    "`extend` takes a **list** as an argument and appends all of the elements [PEW]"
   ]
  },
  {
   "cell_type": "code",
   "execution_count": 76,
   "metadata": {
    "id": "m79Q_dIAB_sM"
   },
   "outputs": [
    {
     "data": {
      "text/plain": [
       "['a', 'b', 'c', 'd', 'e']"
      ]
     },
     "execution_count": 76,
     "metadata": {},
     "output_type": "execute_result"
    }
   ],
   "source": [
    "t1 = ['a', 'b', 'c']\n",
    "t2 = ['d', 'e']\n",
    "t1.extend(t2)\n",
    "t1"
   ]
  },
  {
   "cell_type": "markdown",
   "metadata": {
    "id": "LiHbAbunB_sN"
   },
   "source": [
    "Most list methods are **`void`**; they modify the list and return None. [PEW]"
   ]
  },
  {
   "cell_type": "code",
   "execution_count": 77,
   "metadata": {
    "id": "ZiaZeg9kB_sN"
   },
   "outputs": [
    {
     "name": "stdout",
     "output_type": "stream",
     "text": [
      "None\n"
     ]
    }
   ],
   "source": [
    "print(t1.extend(t2))"
   ]
  },
  {
   "cell_type": "markdown",
   "metadata": {
    "id": "przlzSRqB_sN"
   },
   "source": [
    "## Building a List from Scratch"
   ]
  },
  {
   "cell_type": "markdown",
   "metadata": {
    "id": "g0RW30mxB_sN"
   },
   "source": [
    "- We can create an empty list and then add elements using the append method\n",
    "- The list stays in order and new elements are added at the end of the list"
   ]
  },
  {
   "cell_type": "markdown",
   "metadata": {
    "id": "RPwcsqPmB_sN"
   },
   "source": [
    "### using `list()`"
   ]
  },
  {
   "cell_type": "markdown",
   "metadata": {
    "id": "D0SyMdTsB_sO"
   },
   "source": [
    "`list()` returns an empty list"
   ]
  },
  {
   "cell_type": "code",
   "execution_count": 78,
   "metadata": {
    "id": "WTXJlb07B_sO"
   },
   "outputs": [
    {
     "name": "stdout",
     "output_type": "stream",
     "text": [
      "['book', 99]\n",
      "['book', 99, 'cookie']\n"
     ]
    }
   ],
   "source": [
    "stuff = list()\n",
    "stuff.append('book')\n",
    "stuff.append(99)\n",
    "print(stuff)\n",
    "stuff.append('cookie')\n",
    "print(stuff)"
   ]
  },
  {
   "cell_type": "markdown",
   "metadata": {
    "id": "T7WvqPZWB_sO"
   },
   "source": [
    "### using `[]`"
   ]
  },
  {
   "cell_type": "markdown",
   "metadata": {
    "id": "3urJG2sDB_sO"
   },
   "source": [
    "New lists could also be created by using `[]`"
   ]
  },
  {
   "cell_type": "code",
   "execution_count": 79,
   "metadata": {
    "id": "g7dLcHNHB_sP"
   },
   "outputs": [
    {
     "name": "stdout",
     "output_type": "stream",
     "text": [
      "['book', 99]\n",
      "['book', 99, 'cookie']\n"
     ]
    }
   ],
   "source": [
    "stuff2 = []             #あ\n",
    "stuff2.append('book')\n",
    "stuff2.append(99)\n",
    "print(stuff2)\n",
    "stuff2.append('cookie')\n",
    "print(stuff2)"
   ]
  },
  {
   "cell_type": "markdown",
   "metadata": {
    "id": "XFQM8VWLB_sP"
   },
   "source": [
    "## Is Something in a List? Using `in` and `not in`"
   ]
  },
  {
   "cell_type": "markdown",
   "metadata": {
    "id": "z1V8O7azB_sP"
   },
   "source": [
    "- Python provides two operators that let you check if an item is in a list\n",
    "- These are logical operators that return `True` or `False`\n",
    "- They do not modify the list"
   ]
  },
  {
   "cell_type": "code",
   "execution_count": 80,
   "metadata": {
    "id": "wZri1k8xB_sQ"
   },
   "outputs": [],
   "source": [
    "mylist = [1, 9, 21, 10, 16]"
   ]
  },
  {
   "cell_type": "code",
   "execution_count": 81,
   "metadata": {
    "id": "zEKK3jCHB_sQ"
   },
   "outputs": [
    {
     "data": {
      "text/plain": [
       "True"
      ]
     },
     "execution_count": 81,
     "metadata": {},
     "output_type": "execute_result"
    }
   ],
   "source": [
    "9 in mylist"
   ]
  },
  {
   "cell_type": "code",
   "execution_count": 82,
   "metadata": {
    "id": "6r74H-aDB_sQ"
   },
   "outputs": [
    {
     "data": {
      "text/plain": [
       "False"
      ]
     },
     "execution_count": 82,
     "metadata": {},
     "output_type": "execute_result"
    }
   ],
   "source": [
    "15 in mylist"
   ]
  },
  {
   "cell_type": "code",
   "execution_count": 83,
   "metadata": {
    "id": "mKB9cxUHB_sQ"
   },
   "outputs": [
    {
     "data": {
      "text/plain": [
       "True"
      ]
     },
     "execution_count": 83,
     "metadata": {},
     "output_type": "execute_result"
    }
   ],
   "source": [
    "20 not in mylist"
   ]
  },
  {
   "cell_type": "markdown",
   "metadata": {
    "id": "-hLv7TdMB_sR"
   },
   "source": [
    "## Lists are in Order"
   ]
  },
  {
   "cell_type": "markdown",
   "metadata": {
    "id": "3CwtdqV3B_sR"
   },
   "source": [
    "- A list can hold many items and keeps those items in the order until we do something to change the order\n",
    "- A list can be sorted (i.e., change its order)\n",
    "- The sort method (unlike in strings) means **sort yourself**\n",
    "- The sort method returns `None`"
   ]
  },
  {
   "cell_type": "markdown",
   "metadata": {
    "id": "GjRAy9NXB_sR"
   },
   "source": [
    "The `sort()` method in lists changes the list itself."
   ]
  },
  {
   "cell_type": "code",
   "execution_count": 84,
   "metadata": {
    "id": "fsbnvWjpB_sR"
   },
   "outputs": [
    {
     "name": "stdout",
     "output_type": "stream",
     "text": [
      "before sorting: ['Joseph', 'Glenn', 'Sally']\n",
      "None\n",
      "after sorting: ['Glenn', 'Joseph', 'Sally']\n"
     ]
    }
   ],
   "source": [
    "friends = [ 'Joseph', 'Glenn', 'Sally' ]\n",
    "print('before sorting:', friends)\n",
    "\n",
    "print(friends.sort())\n",
    "\n",
    "print('after sorting:', friends)"
   ]
  },
  {
   "cell_type": "markdown",
   "metadata": {
    "id": "t0uUk225B_sS"
   },
   "source": [
    "#### Lists methods vs. String methods"
   ]
  },
  {
   "cell_type": "markdown",
   "metadata": {
    "id": "df7sHw7xB_sS"
   },
   "source": [
    "In contrast string methods don't change the string, but instead returns a new string."
   ]
  },
  {
   "cell_type": "code",
   "execution_count": 85,
   "metadata": {
    "id": "Vq5pgaNrB_sS",
    "scrolled": true
   },
   "outputs": [
    {
     "name": "stdout",
     "output_type": "stream",
     "text": [
      "before uppercase: One ring to rule them all\n",
      "ONE RING TO RULE THEM ALL\n",
      "after uppercase: One ring to rule them all\n"
     ]
    }
   ],
   "source": [
    "s = 'One ring to rule them all'\n",
    "print('before uppercase:', s)\n",
    "\n",
    "print(s.upper())\n",
    "\n",
    "print('after uppercase:', s)\n",
    "\n",
    "#あ"
   ]
  },
  {
   "cell_type": "code",
   "execution_count": 90,
   "metadata": {
    "id": "A7TDqN2lB_sS"
   },
   "outputs": [
    {
     "name": "stdout",
     "output_type": "stream",
     "text": [
      "[9, 7, 5, 4, 3, 1]\n",
      "[1, 3, 4, 5, 7, 9]\n"
     ]
    }
   ],
   "source": [
    "x = [1,3,4,5,7,9]\n",
    "x.sort(reverse=True)\n",
    "print(x)\n",
    "x.sort()\n",
    "print(x)"
   ]
  },
  {
   "cell_type": "code",
   "execution_count": 91,
   "metadata": {
    "id": "gRtxY6sRB_sT"
   },
   "outputs": [
    {
     "data": {
      "text/plain": [
       "['all', 'one', 'ring', 'rule', 'them', 'to']"
      ]
     },
     "execution_count": 91,
     "metadata": {},
     "output_type": "execute_result"
    }
   ],
   "source": [
    "line = 'one ring to rule them all'\n",
    "str_list = line.split()\n",
    "str_list.sort()\n",
    "str_list"
   ]
  },
  {
   "cell_type": "markdown",
   "metadata": {
    "id": "G1pYs1ScB_sT"
   },
   "source": [
    "## Built-in Functions and Lists"
   ]
  },
  {
   "cell_type": "markdown",
   "metadata": {
    "id": "2Mg5q1uMB_sT"
   },
   "source": [
    "There are a number of functions built into Python that take lists as parameters"
   ]
  },
  {
   "cell_type": "code",
   "execution_count": 92,
   "metadata": {
    "id": "K_yj8BgWB_sT"
   },
   "outputs": [
    {
     "name": "stdout",
     "output_type": "stream",
     "text": [
      "6\n",
      "74\n",
      "3\n",
      "154\n",
      "25.666666666666668\n"
     ]
    }
   ],
   "source": [
    "nums = [3, 41, 12, 9, 74, 15]\n",
    "print(len(nums))\n",
    "print(max(nums))\n",
    "print(min(nums))\n",
    "print(sum(nums))\n",
    "print(sum(nums)/len(nums))"
   ]
  },
  {
   "cell_type": "markdown",
   "metadata": {
    "id": "jAaTDUKZB_sT"
   },
   "source": [
    "#### Reminder\n",
    "As mentioned earlier, it's best that you don't use these functions as identifiers for your own functions and variables."
   ]
  },
  {
   "cell_type": "markdown",
   "metadata": {
    "id": "Ms4KFXY7B_sU"
   },
   "source": [
    "## Lists and strings"
   ]
  },
  {
   "cell_type": "markdown",
   "metadata": {
    "id": "W0lNgOphB_sU"
   },
   "source": [
    "- A string is a sequence of characters and a list is a sequence of values, but a list of characters is not the same as a string.\n",
    "- To convert from a string to a list of characters, you can use `list()`\n",
    "\n",
    "[PEW]"
   ]
  },
  {
   "cell_type": "code",
   "execution_count": 95,
   "metadata": {
    "id": "Z3CNc1AiB_sU",
    "scrolled": true
   },
   "outputs": [
    {
     "name": "stdout",
     "output_type": "stream",
     "text": [
      "['s', 'p', 'a', 'm']\n"
     ]
    }
   ],
   "source": [
    "s = 'spam'\n",
    "t = list(s)\n",
    "print(t)"
   ]
  },
  {
   "cell_type": "code",
   "execution_count": 96,
   "metadata": {
    "id": "HLWHVMbhB_sU"
   },
   "outputs": [
    {
     "data": {
      "text/plain": [
       "['a', 'p', 'a', 'm']"
      ]
     },
     "execution_count": 96,
     "metadata": {},
     "output_type": "execute_result"
    }
   ],
   "source": [
    "t[0] = 'a'\n",
    "t"
   ]
  },
  {
   "cell_type": "markdown",
   "metadata": {
    "id": "xZWM555AB_sV"
   },
   "source": [
    "The `list()` function breaks a string into individual letters. If you want to break a string into words, you can use the `split()` method [PEW]"
   ]
  },
  {
   "cell_type": "code",
   "execution_count": 97,
   "metadata": {
    "id": "LZv-4HpjB_sV"
   },
   "outputs": [
    {
     "name": "stdout",
     "output_type": "stream",
     "text": [
      "['The', 'road', 'goes', 'ever', 'on', 'and', 'on']\n",
      "['goes', 'ever', 'on']\n"
     ]
    }
   ],
   "source": [
    "s = 'The road goes ever on and on'\n",
    "t = s.split()\n",
    "print(t)\n",
    "print(t[2:5])\n",
    "\n",
    "#あ"
   ]
  },
  {
   "cell_type": "markdown",
   "metadata": {
    "id": "kxSGfoLpB_sV"
   },
   "source": [
    "## Parsing lines <a id='ParsingLines'></a>"
   ]
  },
  {
   "cell_type": "markdown",
   "metadata": {
    "id": "sUm39dVrB_sW"
   },
   "source": [
    "Usually when we are reading a file we want to do something to the lines other than just printing the whole line. Often we want to find the \"interesting lines\" and then parse the line to find some interesting part of the line. [PEW]"
   ]
  },
  {
   "cell_type": "markdown",
   "metadata": {
    "id": "4uZSmL3bB_sW"
   },
   "source": [
    "What if we wanted to print out the email address of the lines that start with \"From \"?\n",
    "\n",
    "    From stephen.marquard@uct.ac.za Sat Jan  5 09:14:16 2008"
   ]
  },
  {
   "cell_type": "code",
   "execution_count": 35,
   "metadata": {
    "id": "zN4CQ5_4B_sX",
    "scrolled": true
   },
   "outputs": [
    {
     "name": "stderr",
     "output_type": "stream",
     "text": [
      "'pwd' is not recognized as an internal or external command,\n",
      "operable program or batch file.\n"
     ]
    }
   ],
   "source": [
    "!pwd"
   ]
  },
  {
   "cell_type": "code",
   "execution_count": 38,
   "metadata": {
    "id": "K0pU63bwB_sX",
    "scrolled": true
   },
   "outputs": [
    {
     "name": "stdout",
     "output_type": "stream",
     "text": [
      "['stephen.marquard@uct.ac.za', 'louis@media.berkeley.edu', 'zqian@umich.edu', 'rjlowe@iupui.edu', 'cwen@iupui.edu', 'gsilver@umich.edu', 'wagnermr@iupui.edu', 'antranig@caret.cam.ac.uk', 'gopal.ramasammycook@gmail.com', 'david.horwitz@uct.ac.za', 'ray@media.berkeley.edu', 'mmmay@indiana.edu', 'stuart.freeman@et.gatech.edu', 'tnguyen@iupui.edu', 'chmaurer@iupui.edu', 'aaronz@vt.edu', 'ian@caret.cam.ac.uk', 'csev@umich.edu', 'jimeng@umich.edu', 'josrodri@iupui.edu', 'knoop@umich.edu', 'bkirschn@umich.edu', 'dlhaines@umich.edu', 'hu2@iupui.edu', 'sgithens@caret.cam.ac.uk', 'arwhyte@umich.edu', 'gbhatnag@umich.edu', 'gjthomas@iupui.edu', 'a.fish@lancaster.ac.uk', 'ajpoland@iupui.edu', 'lance@indiana.edu', 'ssmail@indiana.edu', 'jlrenfro@ucdavis.edu', 'nuno@ufp.pt', 'zach.thomas@txstate.edu', 'ktsao@stanford.edu', 'ostermmg@whitman.edu', 'john.ellis@rsmart.com', 'jleasia@umich.edu', 'ggolden@umich.edu', 'thoppaymallika@fhda.edu', 'kimsooil@bu.edu', 'bahollad@indiana.edu', 'jzaremba@unicon.net', 'mbreuker@loi.nl', 'colin.clark@utoronto.ca']\n"
     ]
    }
   ],
   "source": [
    "fhand = open('mbox.txt')\n",
    "my_list = []\n",
    "for line in fhand:\n",
    "    line = line.rstrip()\n",
    "    if not line.startswith('From'):\n",
    "        continue\n",
    "    words = line.split()\n",
    "    if my_list == []:\n",
    "        my_list.append(words[1])\n",
    "    elif words[1] not in my_list:\n",
    "         my_list.append(words[1])\n",
    "print(my_list)"
   ]
  },
  {
   "cell_type": "markdown",
   "metadata": {
    "id": "Wd5e-Bo4B_sY"
   },
   "source": [
    "## Final Words"
   ]
  },
  {
   "cell_type": "markdown",
   "metadata": {
    "id": "b9JEcNeqB_sY"
   },
   "source": [
    "- Lists play an important role in Python\n",
    "- They are useful in\n",
    "    - loops\n",
    "    - defining other data structures (which could be more complex) e.g. arrays, pandas series and dataframes\n",
    "- Remember that indexing for lists starts at 0 (other programming languages  starts indexing at 1, e.g. Matlab)"
   ]
  },
  {
   "cell_type": "markdown",
   "metadata": {
    "id": "4bCQg_8qB_sY"
   },
   "source": [
    "## EXERCISES"
   ]
  },
  {
   "cell_type": "markdown",
   "metadata": {
    "id": "hzOzI27lB_sY"
   },
   "source": [
    "#### Exercise 1\n",
    "\n",
    "Create an empty list then add the following numbers using `append`: 4, 6 9."
   ]
  },
  {
   "cell_type": "code",
   "execution_count": 16,
   "metadata": {},
   "outputs": [
    {
     "name": "stdout",
     "output_type": "stream",
     "text": [
      "[4, 6, 9]\n"
     ]
    }
   ],
   "source": [
    "emptyList = []\n",
    "emptyList.append(4)\n",
    "emptyList.append(6)\n",
    "emptyList.append(9)\n",
    "print(emptyList)"
   ]
  },
  {
   "cell_type": "markdown",
   "metadata": {
    "id": "xtT3mj3BB_sZ"
   },
   "source": [
    "#### Exercise 2\n",
    "\n",
    "Using the `range` function, create a list containing the numbers from 0 to 10."
   ]
  },
  {
   "cell_type": "code",
   "execution_count": 13,
   "metadata": {
    "scrolled": false
   },
   "outputs": [
    {
     "name": "stdout",
     "output_type": "stream",
     "text": [
      "[0, 1, 2, 3, 4, 5, 6, 7, 8, 9, 10]\n"
     ]
    }
   ],
   "source": [
    "t = list(range(11))\n",
    "print(t)"
   ]
  },
  {
   "cell_type": "markdown",
   "metadata": {
    "id": "CmD27hoTB_sZ"
   },
   "source": [
    "#### Exercise 3\n",
    "\n",
    "Create a list containing the valid grade values, then using `enumerate` in a `for` loop, print out all **indices** and **items** in the list.\n",
    "\n",
    "It should print out:\n",
    "\n",
    "    0   1.0\n",
    "    1   1.25\n",
    "    2   1.5\n",
    "    3   1.75\n",
    "    4   2.0\n",
    "    5   2.25\n",
    "    6   2.5\n",
    "    7   3.0\n",
    "      "
   ]
  },
  {
   "cell_type": "code",
   "execution_count": 19,
   "metadata": {
    "scrolled": true
   },
   "outputs": [
    {
     "name": "stdout",
     "output_type": "stream",
     "text": [
      "0 1.0\n",
      "1 1.25\n",
      "2 1.5\n",
      "3 1.75\n",
      "4 2.0\n",
      "5 2.25\n",
      "6 2.5\n",
      "7 3.0\n"
     ]
    }
   ],
   "source": [
    "grades = [1.0, 1.25, 1.5, 1.75, 2.0, 2.25, 2.5, 3.0]\n",
    "for index, grade in enumerate(grades):\n",
    "    print(index, grade)"
   ]
  },
  {
   "cell_type": "markdown",
   "metadata": {
    "id": "74-yOa3mB_sa"
   },
   "source": [
    "#### Exercise 4\n",
    "\n",
    "Using Index Slicing, print out the list of grades higher than 2.0"
   ]
  },
  {
   "cell_type": "code",
   "execution_count": 27,
   "metadata": {
    "scrolled": true
   },
   "outputs": [
    {
     "name": "stdout",
     "output_type": "stream",
     "text": [
      "[2.25, 2.5, 3.0]\n"
     ]
    }
   ],
   "source": [
    "#Dos = grades.index(2.0) + 1\n",
    "#print(grades[dos:])\n",
    "print(grades[5:])"
   ]
  },
  {
   "cell_type": "markdown",
   "metadata": {
    "id": "kYudodbWB_sa"
   },
   "source": [
    "#### Exercise 5\n",
    "\n",
    "Using Index Slicing, print out the list of grades better than 2.0.\n"
   ]
  },
  {
   "cell_type": "code",
   "execution_count": 30,
   "metadata": {
    "scrolled": true
   },
   "outputs": [
    {
     "name": "stdout",
     "output_type": "stream",
     "text": [
      "[1.0, 1.25, 1.5, 1.75]\n"
     ]
    }
   ],
   "source": [
    "#Dos = grades.index(2.0)\n",
    "#print(grades[:Dos])\n",
    "print(grades[:4])"
   ]
  },
  {
   "cell_type": "markdown",
   "metadata": {
    "id": "_zA0tjvBB_sb"
   },
   "source": [
    "#### Exercise 6\n",
    "\n",
    "Using Index Slicing, print out the grades 2.0,2.25,2.5."
   ]
  },
  {
   "cell_type": "code",
   "execution_count": 33,
   "metadata": {
    "scrolled": true
   },
   "outputs": [
    {
     "name": "stdout",
     "output_type": "stream",
     "text": [
      "[2.0, 2.25, 2.5]\n"
     ]
    }
   ],
   "source": [
    "#limit = grades.index(2.5) + 1\n",
    "#print(grades[Dos:limit])\n",
    "print(grades[4:7])"
   ]
  },
  {
   "cell_type": "markdown",
   "metadata": {
    "id": "551TzU9rB_sb"
   },
   "source": [
    "## CHALLENGE\n",
    "\n",
    "Modify the code in the subheading [Parsing Lines](#ParsingLines) to display all the time stamps\n",
    "of the emails in mboxt-short.txt\n"
   ]
  },
  {
   "cell_type": "code",
   "execution_count": 83,
   "metadata": {
    "scrolled": true
   },
   "outputs": [
    {
     "name": "stdout",
     "output_type": "stream",
     "text": [
      "['09:14:16', '18:10:48', '16:10:39', '15:46:24', '15:03:18', '14:50:18', '11:37:30', '11:35:08', '11:12:37', '11:11:52', '11:11:03', '11:10:22', '10:38:42', '10:17:43', '10:04:14', '09:05:31', '07:02:32', '06:08:27', '04:49:08', '04:33:44', '04:07:34', '19:51:21', '17:18:23', '17:07:00', '16:34:40', '16:29:07', '16:23:48']\n"
     ]
    }
   ],
   "source": [
    "fhand = open('mboxt-short.txt')\n",
    "my_list = []\n",
    "for line in fhand:\n",
    "    line = line.rstrip()\n",
    "    if not line.startswith('From'):\n",
    "        continue\n",
    "    words = line.split()\n",
    "    if len(words) > 2:\n",
    "        if my_list == []:\n",
    "            my_list.append(words[5])\n",
    "        elif words[5] not in my_list:\n",
    "             my_list.append(words[5])\n",
    "print(my_list)"
   ]
  },
  {
   "cell_type": "markdown",
   "metadata": {
    "id": "83vosWn5B_sc"
   },
   "source": [
    "\n",
    "[TABLE OF CONTENTS](#contents)"
   ]
  },
  {
   "cell_type": "markdown",
   "metadata": {
    "id": "2bHodU_tB_sd"
   },
   "source": [
    "<a id='chapter9'></a>\n",
    "\n",
    "# CHAPTER  9 - Dictionaries"
   ]
  },
  {
   "cell_type": "markdown",
   "metadata": {
    "id": "gFptCKH8B_sd"
   },
   "source": [
    "#### Important Note\n",
    "    It is hghly suggested to study [Chapter 10 Tuples](#chapter10) before this chapter."
   ]
  },
  {
   "cell_type": "markdown",
   "metadata": {
    "id": "DI3S_y1kB_se"
   },
   "source": [
    "- You can think of a **dictionary** as a mapping between a set of indices (which are called **keys**) and a set of **values**.\n",
    "- Each key maps to a value.\n",
    "- The association of a key and a value is called a **key-value pair** or sometimes an **item**.\n",
    "\n",
    "`[PEW]`"
   ]
  },
  {
   "cell_type": "markdown",
   "metadata": {
    "id": "vOoPebgPB_sf"
   },
   "source": [
    "An understanding of how dictionaries work is important ...\n",
    "  - to understand more complex data structures that require indexing\n",
    "  - to use functions in libraries that require dictionaries to be passed as arguments\n"
   ]
  },
  {
   "cell_type": "markdown",
   "metadata": {
    "id": "VAlJjwynB_sf"
   },
   "source": [
    "## Creating Dictionaries"
   ]
  },
  {
   "cell_type": "markdown",
   "metadata": {
    "id": "f2zliwCCB_sg"
   },
   "source": [
    "You can create an empty dictionary by assigning a variable to `{}`, or to the function `dict()`."
   ]
  },
  {
   "cell_type": "code",
   "execution_count": 17,
   "metadata": {
    "id": "S4E-m_l8B_sg"
   },
   "outputs": [
    {
     "name": "stdout",
     "output_type": "stream",
     "text": [
      "{}\n"
     ]
    }
   ],
   "source": [
    "eng2sp = {}\n",
    "print(eng2sp)"
   ]
  },
  {
   "cell_type": "markdown",
   "metadata": {
    "id": "7HwkqYoDB_sh"
   },
   "source": [
    "The curly brackets, `{}`, represent an empty dictionary. To add items to the dictionary, you can use square brackets:  -`[PEW]`"
   ]
  },
  {
   "cell_type": "code",
   "execution_count": 18,
   "metadata": {
    "id": "Ya-GIknsB_sh"
   },
   "outputs": [],
   "source": [
    "eng2sp['one'] = 'uno'"
   ]
  },
  {
   "cell_type": "markdown",
   "metadata": {
    "id": "JbbLKo4wB_sh"
   },
   "source": [
    "This line creates an item that maps from the key `one` to the value `uno`. If we print the dictionary again, we see a key-value pair with a **colon** (`:`) between the key and value:"
   ]
  },
  {
   "cell_type": "code",
   "execution_count": 19,
   "metadata": {
    "id": "wvaaDYCCB_si"
   },
   "outputs": [
    {
     "name": "stdout",
     "output_type": "stream",
     "text": [
      "{'one': 'uno'}\n"
     ]
    }
   ],
   "source": [
    "print(eng2sp)"
   ]
  },
  {
   "cell_type": "code",
   "execution_count": 20,
   "metadata": {
    "id": "RUm4_mpxB_si"
   },
   "outputs": [],
   "source": [
    "#add 2 more items\n",
    "eng2sp['two'] = 'dos'\n",
    "eng2sp['three'] = 'tres'"
   ]
  },
  {
   "cell_type": "code",
   "execution_count": 21,
   "metadata": {
    "id": "rIDdfHF4B_si"
   },
   "outputs": [
    {
     "name": "stdout",
     "output_type": "stream",
     "text": [
      "{'one': 'uno', 'two': 'dos', 'three': 'tres'}\n"
     ]
    }
   ],
   "source": [
    "print(eng2sp)"
   ]
  },
  {
   "cell_type": "code",
   "execution_count": 22,
   "metadata": {
    "id": "G5bVImDwB_si"
   },
   "outputs": [
    {
     "name": "stdout",
     "output_type": "stream",
     "text": [
      "dos\n"
     ]
    }
   ],
   "source": [
    "print(eng2sp['two'])"
   ]
  },
  {
   "cell_type": "markdown",
   "metadata": {
    "id": "iuw7TERMB_sj"
   },
   "source": [
    "In general, the order of items in a dictionary is **unpredictable**. But that's not a problem because the elements of a dictionary are never indexed with integer indices. Instead, you **use the keys to look up the corresponding values**:"
   ]
  },
  {
   "cell_type": "markdown",
   "metadata": {
    "id": "NBlXIjqNB_sj"
   },
   "source": [
    "### Another Example"
   ]
  },
  {
   "cell_type": "code",
   "execution_count": 23,
   "metadata": {
    "id": "a-VmXZLiB_sj"
   },
   "outputs": [],
   "source": [
    "character = dict()\n",
    "character['name'] = 'Aragorn'\n",
    "character['aliases'] = ('Strider','Lord of Dunedain', 'Estel')\n",
    "character['age'] = 210\n",
    "#あ"
   ]
  },
  {
   "cell_type": "code",
   "execution_count": 25,
   "metadata": {
    "id": "BKsjHtxBB_sk"
   },
   "outputs": [
    {
     "name": "stdout",
     "output_type": "stream",
     "text": [
      "{'name': 'Aragorn', 'aliases': ('Strider', 'Lord of Dunedain', 'Estel'), 'age': 210}\n"
     ]
    }
   ],
   "source": [
    "print(character)"
   ]
  },
  {
   "cell_type": "code",
   "execution_count": 26,
   "metadata": {
    "id": "-uW9gNEbB_sk"
   },
   "outputs": [
    {
     "data": {
      "text/plain": [
       "'Aragorn'"
      ]
     },
     "execution_count": 26,
     "metadata": {},
     "output_type": "execute_result"
    }
   ],
   "source": [
    "character['name']"
   ]
  },
  {
   "cell_type": "code",
   "execution_count": 27,
   "metadata": {
    "id": "ozELmCCSB_sk"
   },
   "outputs": [
    {
     "data": {
      "text/plain": [
       "'Lord of Dunedain'"
      ]
     },
     "execution_count": 27,
     "metadata": {},
     "output_type": "execute_result"
    }
   ],
   "source": [
    "character['aliases'][1]"
   ]
  },
  {
   "cell_type": "code",
   "execution_count": 24,
   "metadata": {
    "id": "XPWKC46GB_sl"
   },
   "outputs": [
    {
     "data": {
      "text/plain": [
       "211"
      ]
     },
     "execution_count": 24,
     "metadata": {},
     "output_type": "execute_result"
    }
   ],
   "source": [
    "character['age'] + 1"
   ]
  },
  {
   "cell_type": "markdown",
   "metadata": {
    "id": "Uk-NNP4FB_sm"
   },
   "source": [
    "## Dictionary Literals (Constants)"
   ]
  },
  {
   "cell_type": "markdown",
   "metadata": {
    "id": "SUcXt5GZB_sm"
   },
   "source": [
    "Dictionary literals use curly braces (`{}`) and have a list of `key` : `value` pairs"
   ]
  },
  {
   "cell_type": "code",
   "execution_count": 29,
   "metadata": {
    "id": "viDg5imcB_sn",
    "scrolled": true
   },
   "outputs": [
    {
     "data": {
      "text/plain": [
       "'Computing for Analytics I'"
      ]
     },
     "execution_count": 29,
     "metadata": {},
     "output_type": "execute_result"
    }
   ],
   "source": [
    "course_dict = {2111 : 'Computing for Analytics I' ,\n",
    "                2112 : 'Business Strategy and Analytics',\n",
    "                2121 :'Computing for Analytics II'}\n",
    "course_dict[2111]\n",
    "\n",
    "#あ"
   ]
  },
  {
   "cell_type": "markdown",
   "metadata": {
    "id": "q2bh8TKZB_sn"
   },
   "source": [
    "## Comparing Lists and Dictionaries"
   ]
  },
  {
   "cell_type": "markdown",
   "metadata": {
    "id": "KalxDhAZB_so"
   },
   "source": [
    "Dictionaries are like lists except that they use **keys** instead of numbers (the **indices**) to look up values."
   ]
  },
  {
   "cell_type": "markdown",
   "metadata": {
    "id": "WRaTyGUxB_so"
   },
   "source": [
    "Both lists and dictionaries are mutable."
   ]
  },
  {
   "cell_type": "markdown",
   "metadata": {
    "id": "4bq-4R2mB_so"
   },
   "source": [
    "#### Lists:"
   ]
  },
  {
   "cell_type": "code",
   "execution_count": 30,
   "metadata": {
    "id": "HjjQuTwfB_so"
   },
   "outputs": [
    {
     "name": "stdout",
     "output_type": "stream",
     "text": [
      "[21, 183]\n",
      "[23, 183]\n"
     ]
    }
   ],
   "source": [
    "int_list = list()\n",
    "int_list.append(21)\n",
    "int_list.append(183)\n",
    "print(int_list)\n",
    "int_list[0] = 23\n",
    "print(int_list)"
   ]
  },
  {
   "cell_type": "markdown",
   "metadata": {
    "id": "_y_59ufHB_sp"
   },
   "source": [
    "#### Dictionaries:"
   ]
  },
  {
   "cell_type": "code",
   "execution_count": 31,
   "metadata": {
    "id": "0UO7d5afB_sp"
   },
   "outputs": [
    {
     "name": "stdout",
     "output_type": "stream",
     "text": [
      "{'trisem': 1, 'course': 2111}\n",
      "{'trisem': 1, 'course': 2121}\n"
     ]
    }
   ],
   "source": [
    "info = dict()\n",
    "info['trisem'] = 1\n",
    "info['course'] = 2111\n",
    "print(info)\n",
    "info['course'] = 2121\n",
    "print(info)\n",
    "\n",
    "#あ"
   ]
  },
  {
   "cell_type": "markdown",
   "metadata": {
    "id": "agPL-mu0B_sp"
   },
   "source": [
    "## Definite Loops and Dictionaries"
   ]
  },
  {
   "cell_type": "markdown",
   "metadata": {
    "id": "KIUZlLYlB_ss"
   },
   "source": [
    "Even though dictionaries are not stored in order, we can write a for loop that goes through all the entries in a dictionary - actually it goes through all of the keys in the dictionary and looks up the values"
   ]
  },
  {
   "cell_type": "code",
   "execution_count": 32,
   "metadata": {
    "id": "5gzWXpT3B_ss"
   },
   "outputs": [
    {
     "name": "stdout",
     "output_type": "stream",
     "text": [
      "2111 : Computing for Analytics I\n",
      "2112 : Business Strategy and Analytics\n",
      "2121 : Computing for Analytics II\n"
     ]
    }
   ],
   "source": [
    "course_dict = {2111 : 'Computing for Analytics I' ,\n",
    "                2112 : 'Business Strategy and Analytics',\n",
    "                2121 :'Computing for Analytics II'}\n",
    "for key in course_dict:\n",
    "    print(key,':',course_dict[key])\n",
    "\n",
    "#あ"
   ]
  },
  {
   "cell_type": "markdown",
   "metadata": {
    "id": "Lcc9OCg8B_st"
   },
   "source": [
    "## Iterating  over Keys, Values, Items, and Key-Value pairs\n",
    "\n"
   ]
  },
  {
   "cell_type": "code",
   "execution_count": 33,
   "metadata": {
    "id": "s5EvG7rTB_st"
   },
   "outputs": [
    {
     "data": {
      "text/plain": [
       "{2111: 'Computing for Analytics I',\n",
       " 2112: 'Business Strategy and Analytics',\n",
       " 2121: 'Computing for Analytics II'}"
      ]
     },
     "execution_count": 33,
     "metadata": {},
     "output_type": "execute_result"
    }
   ],
   "source": [
    "course_dict"
   ]
  },
  {
   "cell_type": "markdown",
   "metadata": {
    "id": "AvY4LJ6vB_su"
   },
   "source": [
    "#### Iterate over `Keys`"
   ]
  },
  {
   "cell_type": "code",
   "execution_count": 34,
   "metadata": {
    "id": "3o2vWrQeB_su"
   },
   "outputs": [
    {
     "name": "stdout",
     "output_type": "stream",
     "text": [
      "2111\n",
      "2112\n",
      "2121\n"
     ]
    }
   ],
   "source": [
    "for key in course_dict:\n",
    "    print(key)"
   ]
  },
  {
   "cell_type": "markdown",
   "metadata": {
    "id": "GTMt13INB_sv"
   },
   "source": [
    "#### Iterate over `Values`"
   ]
  },
  {
   "cell_type": "code",
   "execution_count": 35,
   "metadata": {
    "id": "Gf-0GX1nB_sv"
   },
   "outputs": [
    {
     "name": "stdout",
     "output_type": "stream",
     "text": [
      "Computing for Analytics I\n",
      "Business Strategy and Analytics\n",
      "Computing for Analytics II\n"
     ]
    }
   ],
   "source": [
    "for key in course_dict:\n",
    "    print(course_dict[key])"
   ]
  },
  {
   "cell_type": "markdown",
   "metadata": {
    "id": "Pz8FAjoZB_sv"
   },
   "source": [
    "#### Iterate over `Items`"
   ]
  },
  {
   "cell_type": "markdown",
   "metadata": {
    "id": "uFeEG1R7B_sv"
   },
   "source": [
    "Iterating over items produces tuples"
   ]
  },
  {
   "cell_type": "code",
   "execution_count": 36,
   "metadata": {
    "id": "-99EIdnoB_sw"
   },
   "outputs": [
    {
     "name": "stdout",
     "output_type": "stream",
     "text": [
      "(2111, 'Computing for Analytics I')\n",
      "(2112, 'Business Strategy and Analytics')\n",
      "(2121, 'Computing for Analytics II')\n"
     ]
    }
   ],
   "source": [
    "for item in course_dict.items():\n",
    "    print(item)"
   ]
  },
  {
   "cell_type": "markdown",
   "metadata": {
    "id": "_Hh7zzCZB_sw"
   },
   "source": [
    "#### Iterating over `key-value pairs`"
   ]
  },
  {
   "cell_type": "code",
   "execution_count": 39,
   "metadata": {
    "id": "NIZs28ASB_sy",
    "scrolled": true
   },
   "outputs": [
    {
     "name": "stdout",
     "output_type": "stream",
     "text": [
      "2111 k Computing for Analytics I\n",
      "2112 k Business Strategy and Analytics\n",
      "2121 k Computing for Analytics II\n"
     ]
    }
   ],
   "source": [
    "for k, v in course_dict.items():\n",
    "    print(k,'k', v)"
   ]
  },
  {
   "cell_type": "code",
   "execution_count": 38,
   "metadata": {
    "id": "gxJVRGOzB_sy"
   },
   "outputs": [
    {
     "name": "stdout",
     "output_type": "stream",
     "text": [
      "2111 : Computing for Analytics I\n",
      "2112 : Business Strategy and Analytics\n",
      "2121 : Computing for Analytics II\n"
     ]
    }
   ],
   "source": [
    "for code, name in course_dict.items():\n",
    "    print(code,':', name)"
   ]
  },
  {
   "cell_type": "markdown",
   "metadata": {
    "id": "pF8ufWUpB_sy"
   },
   "source": [
    "## Retrieving Lists of Keys and Values"
   ]
  },
  {
   "cell_type": "markdown",
   "metadata": {
    "id": "DqsyckLyB_sz"
   },
   "source": [
    "Code adapted from [PES]"
   ]
  },
  {
   "cell_type": "markdown",
   "metadata": {
    "id": "aORN3NDAB_sz"
   },
   "source": [
    "You can get a list of keys, values, or items (both) from a dictionary"
   ]
  },
  {
   "cell_type": "markdown",
   "metadata": {
    "id": "5jZs4i0HB_sz"
   },
   "source": [
    "#### Retrieving a list of keys"
   ]
  },
  {
   "cell_type": "code",
   "execution_count": 40,
   "metadata": {
    "id": "ys4RNJB-B_sz"
   },
   "outputs": [
    {
     "data": {
      "text/plain": [
       "{2111: 'Computing for Analytics I',\n",
       " 2112: 'Business Strategy and Analytics',\n",
       " 2121: 'Computing for Analytics II'}"
      ]
     },
     "execution_count": 40,
     "metadata": {},
     "output_type": "execute_result"
    }
   ],
   "source": [
    "course_dict"
   ]
  },
  {
   "cell_type": "code",
   "execution_count": 41,
   "metadata": {
    "id": "jloMf20SB_s0"
   },
   "outputs": [
    {
     "data": {
      "text/plain": [
       "dict_keys([2111, 2112, 2121])"
      ]
     },
     "execution_count": 41,
     "metadata": {},
     "output_type": "execute_result"
    }
   ],
   "source": [
    "course_dict.keys()"
   ]
  },
  {
   "cell_type": "markdown",
   "metadata": {
    "id": "XE8ifK2lB_s0"
   },
   "source": [
    "It would be more useful if we convert the above result to a list:"
   ]
  },
  {
   "cell_type": "code",
   "execution_count": 42,
   "metadata": {
    "id": "_445v313B_s0"
   },
   "outputs": [
    {
     "data": {
      "text/plain": [
       "[2111, 2112, 2121]"
      ]
     },
     "execution_count": 42,
     "metadata": {},
     "output_type": "execute_result"
    }
   ],
   "source": [
    "key_list = list(course_dict.keys())\n",
    "key_list"
   ]
  },
  {
   "cell_type": "markdown",
   "metadata": {
    "id": "4AMa7-QEB_s0"
   },
   "source": [
    "#### Retrieving a list of values"
   ]
  },
  {
   "cell_type": "code",
   "execution_count": 43,
   "metadata": {
    "id": "UhDG4VTQB_s0"
   },
   "outputs": [
    {
     "data": {
      "text/plain": [
       "['Computing for Analytics I',\n",
       " 'Business Strategy and Analytics',\n",
       " 'Computing for Analytics II']"
      ]
     },
     "execution_count": 43,
     "metadata": {},
     "output_type": "execute_result"
    }
   ],
   "source": [
    "value_list = list(course_dict.values())\n",
    "value_list"
   ]
  },
  {
   "cell_type": "markdown",
   "metadata": {
    "id": "KczqL0doB_s1"
   },
   "source": [
    "#### Retrieve list of items (as tuples)"
   ]
  },
  {
   "cell_type": "code",
   "execution_count": 44,
   "metadata": {
    "id": "2Gt8RALyB_s1"
   },
   "outputs": [
    {
     "data": {
      "text/plain": [
       "[(2111, 'Computing for Analytics I'),\n",
       " (2112, 'Business Strategy and Analytics'),\n",
       " (2121, 'Computing for Analytics II')]"
      ]
     },
     "execution_count": 44,
     "metadata": {},
     "output_type": "execute_result"
    }
   ],
   "source": [
    "item_list = list(course_dict.items())\n",
    "item_list"
   ]
  },
  {
   "cell_type": "markdown",
   "metadata": {
    "id": "65QsR_gIB_s1"
   },
   "source": [
    "## Final Words"
   ]
  },
  {
   "cell_type": "markdown",
   "metadata": {
    "id": "q6whuuPAB_s1"
   },
   "source": [
    "- Dictionaries are useful for non-homogenous collections, which do not require order, but items could be retrieved through a key\n",
    "- An understanding of how dictionaries work is important to...\n",
    "  - understand more complex data structures requiring indexing\n",
    "  - use functions in libraries that require dictionaries to be passed as arguments\n"
   ]
  },
  {
   "cell_type": "markdown",
   "metadata": {
    "id": "wyQalrP5B_s1"
   },
   "source": [
    "## EXERCISES"
   ]
  },
  {
   "cell_type": "markdown",
   "metadata": {
    "id": "8EonH_gcB_s2"
   },
   "source": [
    "#### Exercise 1\n",
    "\n",
    "Create a dictionary with the following keys and values showing a partial list of Real GDP growth in Annual percent change from IMF (Source: http://www.imf.org/external/datamapper/NGDP_RPCH@WEO/OEMDC/ADVEC/WEOWORLD)\n",
    "\n",
    "    China 6.5\n",
    "    Japan 0.7\n",
    "    Philippines 6.7\n",
    "    United States 2.3\n",
    "    "
   ]
  },
  {
   "cell_type": "code",
   "execution_count": 48,
   "metadata": {},
   "outputs": [
    {
     "name": "stdout",
     "output_type": "stream",
     "text": [
      "{'China': 6.5, 'Japan': 0.7, 'Philippines': 6.7, 'United States': 2.3}\n"
     ]
    }
   ],
   "source": [
    "GDP_growth = {}\n",
    "GDP_growth['China'] = 6.5\n",
    "GDP_growth['Japan'] = 0.7\n",
    "GDP_growth['Philippines'] = 6.7\n",
    "GDP_growth['United States'] = 2.3"
   ]
  },
  {
   "cell_type": "markdown",
   "metadata": {
    "id": "4g62pEIzB_s2"
   },
   "source": [
    "#### Exercise 2\n",
    "\n",
    "Display all the keys and values from the dictionary you created above\n"
   ]
  },
  {
   "cell_type": "code",
   "execution_count": 55,
   "metadata": {
    "scrolled": true
   },
   "outputs": [
    {
     "name": "stdout",
     "output_type": "stream",
     "text": [
      "China 6.5\n",
      "Japan 0.7\n",
      "Philippines 6.7\n",
      "United States 2.3\n"
     ]
    }
   ],
   "source": [
    "#print(GDP_growth)\n",
    "for key in GDP_growth:\n",
    "    print(key, GDP_growth[key])"
   ]
  },
  {
   "cell_type": "markdown",
   "metadata": {
    "id": "EndsoqxyB_s2"
   },
   "source": [
    "#### Exercise 3\n",
    "\n",
    "Write a program that asks the user to enter a line of text and then counts the number of each word that appeared in the line of text.\n",
    "Use the string function `split()` to make a list of words from a given string\n",
    "e.g.:\n",
    "\n",
    "```python\n",
    "word_list = line.split()\n",
    "```\n",
    "\n",
    "will return a list of words from the string `line` and store it in the variable `word_list`.\n",
    "\n",
    "\n",
    "(Adapted from [PES])"
   ]
  },
  {
   "cell_type": "code",
   "execution_count": 73,
   "metadata": {
    "scrolled": true
   },
   "outputs": [
    {
     "name": "stdout",
     "output_type": "stream",
     "text": [
      "Enter a line of text: Write a program that asks the user to enter a line of text and then counts the number of each word that appeared in the line of text.\n",
      "Write = 1\n",
      "a = 2\n",
      "program = 1\n",
      "that = 2\n",
      "asks = 1\n",
      "the = 3\n",
      "user = 1\n",
      "to = 1\n",
      "enter = 1\n",
      "line = 2\n",
      "of = 3\n",
      "text = 1\n",
      "and = 1\n",
      "then = 1\n",
      "counts = 1\n",
      "number = 1\n",
      "each = 1\n",
      "word = 1\n",
      "appeared = 1\n",
      "in = 1\n",
      "text. = 1\n"
     ]
    }
   ],
   "source": [
    "line = input(\"Enter a line of text: \")\n",
    "word_list = line.split()\n",
    "count_word = {}\n",
    "for word in word_list :\n",
    "    if word in count_word:\n",
    "        count_word[word] += 1\n",
    "    else:\n",
    "        count_word[word] = 1\n",
    "for key in count_word :\n",
    "    print(key, \"=\" , count_word[key])"
   ]
  },
  {
   "cell_type": "markdown",
   "metadata": {
    "id": "PlPSZWziB_s2"
   },
   "source": [
    "[TABLE OF CONTENTS](#contents)"
   ]
  },
  {
   "cell_type": "markdown",
   "metadata": {
    "id": "sFeYs02hB_s3"
   },
   "source": [
    "<a id='chapter10'></a>\n",
    "\n",
    "# CHAPTER 10 - Tuples"
   ]
  },
  {
   "cell_type": "markdown",
   "metadata": {
    "id": "8QdrJ4lYB_s3"
   },
   "source": [
    "## Tuples are Like Lists"
   ]
  },
  {
   "cell_type": "markdown",
   "metadata": {
    "id": "fs4ik3dwB_s4"
   },
   "source": [
    "Tuples are another kind of sequence that functions much like a list - they have elements which are indexed starting at 0"
   ]
  },
  {
   "cell_type": "markdown",
   "metadata": {
    "id": "2slS-4bxB_s4"
   },
   "source": [
    "- Tuples are created using **parenthesis** `()`\n",
    "- The elements in the list are separated by commas\n",
    "- An element in a tuple can be any Python object - another tuple, a list, etc.\n",
    "<br>\n"
   ]
  },
  {
   "cell_type": "code",
   "execution_count": 74,
   "metadata": {
    "id": "wd-o8_YPB_s4"
   },
   "outputs": [
    {
     "name": "stdout",
     "output_type": "stream",
     "text": [
      "('Glenn', 'Sally', 'Joseph')\n"
     ]
    }
   ],
   "source": [
    "x = ('Glenn', 'Sally', 'Joseph')\n",
    "print(x)"
   ]
  },
  {
   "cell_type": "code",
   "execution_count": 75,
   "metadata": {
    "id": "BGyekJu2B_s4"
   },
   "outputs": [
    {
     "name": "stdout",
     "output_type": "stream",
     "text": [
      "(1, 9, 2)\n",
      "9\n"
     ]
    }
   ],
   "source": [
    "y = ( 1, 9, 2 )\n",
    "print(y)\n",
    "print(max(y))"
   ]
  },
  {
   "cell_type": "code",
   "execution_count": 76,
   "metadata": {
    "id": "-WYVUlZYB_s5"
   },
   "outputs": [
    {
     "name": "stdout",
     "output_type": "stream",
     "text": [
      "1\n",
      "9\n",
      "2\n"
     ]
    }
   ],
   "source": [
    "for index in y:\n",
    "    print(index)"
   ]
  },
  {
   "cell_type": "code",
   "execution_count": 78,
   "metadata": {
    "id": "Fru3SFvbB_s5"
   },
   "outputs": [
    {
     "name": "stdout",
     "output_type": "stream",
     "text": [
      "()\n",
      "(3, 7, 9, 1)\n",
      "('elven-kings', 'dwarf-lords', 'mortal men', 'Dark Lord')\n",
      "(1, 'ring', 2.0, 'rule them all')\n",
      "(3, (7, 9), 1)\n",
      "(3, (3, 7, 9, 1), 1.0, (1, 'ring', 2.0, 'rule them all'))\n"
     ]
    }
   ],
   "source": [
    "empty_tuple = ()\n",
    "int_tuple = (3, 7, 9, 1)\n",
    "string_tuple = ('elven-kings', 'dwarf-lords', 'mortal men', 'Dark Lord')\n",
    "mixed_tuple = (1, 'ring', 2.0, 'rule them all')\n",
    "tuple_with_a_tuple = (3, (7, 9), 1)\n",
    "tuple_with_a_tuple_and_a_list = (3, int_tuple, 1.0, mixed_tuple)\n",
    "\n",
    "print(empty_tuple)\n",
    "print(int_tuple)\n",
    "print(string_tuple)\n",
    "print(mixed_tuple)\n",
    "print(tuple_with_a_tuple)\n",
    "print(tuple_with_a_tuple_and_a_list)\n",
    "\n",
    "#あ"
   ]
  },
  {
   "cell_type": "markdown",
   "metadata": {
    "id": "vTdy8hiVB_s5"
   },
   "source": [
    "#### Accessing Elements in a Tuple"
   ]
  },
  {
   "cell_type": "markdown",
   "metadata": {
    "id": "wLJs7SFIB_s5"
   },
   "source": [
    "Elements in a tuple can be accessed using the square bracket operator `[]`.  Slicing is also possible in tuples."
   ]
  },
  {
   "cell_type": "code",
   "execution_count": 79,
   "metadata": {
    "id": "v-bbtLruB_s6"
   },
   "outputs": [
    {
     "name": "stdout",
     "output_type": "stream",
     "text": [
      "(3, 7, 9, 1)\n"
     ]
    }
   ],
   "source": [
    "print(int_tuple)\n",
    "#あ"
   ]
  },
  {
   "cell_type": "code",
   "execution_count": 80,
   "metadata": {
    "id": "KKN3-k7FB_s6"
   },
   "outputs": [
    {
     "name": "stdout",
     "output_type": "stream",
     "text": [
      "3\n",
      "1\n"
     ]
    }
   ],
   "source": [
    "print(int_tuple[0])\n",
    "print(int_tuple[-1])\n",
    "#あ"
   ]
  },
  {
   "cell_type": "code",
   "execution_count": 81,
   "metadata": {
    "id": "OZdWS2iwB_s6"
   },
   "outputs": [
    {
     "name": "stdout",
     "output_type": "stream",
     "text": [
      "(7, 9, 1)\n",
      "(3, 7, 9)\n"
     ]
    }
   ],
   "source": [
    "print(int_tuple[1:])\n",
    "print(int_tuple[:-1])\n",
    "#あ"
   ]
  },
  {
   "cell_type": "code",
   "execution_count": 82,
   "metadata": {
    "id": "GMpcYuE5B_s7"
   },
   "outputs": [
    {
     "name": "stdout",
     "output_type": "stream",
     "text": [
      "(7, 9)\n"
     ]
    }
   ],
   "source": [
    "print(int_tuple[1:-1])\n",
    "#あ"
   ]
  },
  {
   "cell_type": "markdown",
   "metadata": {
    "id": "LfINlfREB_s7"
   },
   "source": [
    "#### Getting the number of elements in  a Tuple with `len()`"
   ]
  },
  {
   "cell_type": "markdown",
   "metadata": {
    "id": "FHsOdd20B_s8"
   },
   "source": [
    "Like in lists, the number of elements in a tuple could be obtained using the `len()` function. [あ ]"
   ]
  },
  {
   "cell_type": "code",
   "execution_count": 83,
   "metadata": {
    "id": "c9m6lJ6aB_s-"
   },
   "outputs": [
    {
     "name": "stdout",
     "output_type": "stream",
     "text": [
      "5\n"
     ]
    }
   ],
   "source": [
    "z = (2, 4, 6, 0, 1)\n",
    "print(len(z))"
   ]
  },
  {
   "cell_type": "markdown",
   "metadata": {
    "id": "KY2VqNWNB_s-"
   },
   "source": [
    "### Quick Symbol Check\n",
    "\n",
    "Recall the use of the following symbols:\n",
    "- Parenthesis — `()` — are used for defining tuples\n",
    "- Square Brackets — `[]` — are used for defining lists\n",
    "- Curly Braces — `{}` — are used for defining dictionaries*\n",
    "- Square Brackets are also used...\n",
    "    - as **index** for accessing specific elements in lists, tuples, and strings\n",
    "    - for **slicing** lists, tuples, and strings\n",
    "    - as **key index** for getting the value in a dictionary*\n",
    "\n",
    "*on dictionaries: Please see [Chapter 9](#chapter9)\n"
   ]
  },
  {
   "cell_type": "markdown",
   "metadata": {
    "id": "N3GOoHDiB_s_"
   },
   "source": [
    "## Tuples are immutable"
   ]
  },
  {
   "cell_type": "markdown",
   "metadata": {
    "id": "4jpdpIveB_tA"
   },
   "source": [
    "You will recall that lists are mutable, that is, you could change the elements in a list:"
   ]
  },
  {
   "cell_type": "code",
   "execution_count": 100,
   "metadata": {
    "id": "rYi1OKgAB_tB"
   },
   "outputs": [
    {
     "name": "stdout",
     "output_type": "stream",
     "text": [
      "[9, 8, 6]\n"
     ]
    }
   ],
   "source": [
    "x = [9, 8, 7]\n",
    "x[2] = 6\n",
    "print(x)"
   ]
  },
  {
   "cell_type": "markdown",
   "metadata": {
    "id": "Z0qVU5BqB_tB"
   },
   "source": [
    "You will also recall that strings, unlike lists, are immutable:"
   ]
  },
  {
   "cell_type": "code",
   "execution_count": 84,
   "metadata": {
    "id": "sYv2lApfB_tC"
   },
   "outputs": [
    {
     "ename": "TypeError",
     "evalue": "'str' object does not support item assignment",
     "output_type": "error",
     "traceback": [
      "\u001b[1;31m---------------------------------------------------------------------------\u001b[0m",
      "\u001b[1;31mTypeError\u001b[0m                                 Traceback (most recent call last)",
      "Cell \u001b[1;32mIn[84], line 2\u001b[0m\n\u001b[0;32m      1\u001b[0m y \u001b[38;5;241m=\u001b[39m \u001b[38;5;124m'\u001b[39m\u001b[38;5;124mABC\u001b[39m\u001b[38;5;124m'\u001b[39m\n\u001b[1;32m----> 2\u001b[0m y[\u001b[38;5;241m2\u001b[39m] \u001b[38;5;241m=\u001b[39m \u001b[38;5;124m'\u001b[39m\u001b[38;5;124mD\u001b[39m\u001b[38;5;124m'\u001b[39m\n",
      "\u001b[1;31mTypeError\u001b[0m: 'str' object does not support item assignment"
     ]
    }
   ],
   "source": [
    "y = 'ABC'\n",
    "y[2] = 'D'\n",
    "#あ"
   ]
  },
  {
   "cell_type": "markdown",
   "metadata": {
    "id": "ANOumRbGB_tC"
   },
   "source": [
    "Now, tuples are, like strings — and unlike lists — immutable."
   ]
  },
  {
   "cell_type": "markdown",
   "metadata": {
    "id": "vIz9F2cKB_tC"
   },
   "source": [
    "Unlike a list, once you create a tuple, you cannot alter its contents - similar to a string"
   ]
  },
  {
   "cell_type": "code",
   "execution_count": 85,
   "metadata": {
    "id": "IJWq98bGB_tC"
   },
   "outputs": [
    {
     "ename": "TypeError",
     "evalue": "'tuple' object does not support item assignment",
     "output_type": "error",
     "traceback": [
      "\u001b[1;31m---------------------------------------------------------------------------\u001b[0m",
      "\u001b[1;31mTypeError\u001b[0m                                 Traceback (most recent call last)",
      "Cell \u001b[1;32mIn[85], line 2\u001b[0m\n\u001b[0;32m      1\u001b[0m z \u001b[38;5;241m=\u001b[39m (\u001b[38;5;241m5\u001b[39m, \u001b[38;5;241m4\u001b[39m, \u001b[38;5;241m3\u001b[39m)\n\u001b[1;32m----> 2\u001b[0m z[\u001b[38;5;241m2\u001b[39m] \u001b[38;5;241m=\u001b[39m \u001b[38;5;241m0\u001b[39m\n",
      "\u001b[1;31mTypeError\u001b[0m: 'tuple' object does not support item assignment"
     ]
    }
   ],
   "source": [
    "z = (5, 4, 3)\n",
    "z[2] = 0"
   ]
  },
  {
   "cell_type": "markdown",
   "metadata": {
    "id": "VwV9SmtGB_tD"
   },
   "source": [
    "##  Things NOT to do With Tuples"
   ]
  },
  {
   "cell_type": "markdown",
   "metadata": {
    "id": "ZwE0sgDQB_tD"
   },
   "source": [
    "Tuples do **not** have the following methods.\n",
    "\n",
    "- sort\n",
    "- append\n",
    "- reverse"
   ]
  },
  {
   "cell_type": "markdown",
   "metadata": {
    "id": "ps_k_mbKB_tD"
   },
   "source": [
    "Let's define a tuple."
   ]
  },
  {
   "cell_type": "code",
   "execution_count": 86,
   "metadata": {
    "id": "3eLUujRmB_tD"
   },
   "outputs": [],
   "source": [
    "my_tuple = (3, 2, 1)"
   ]
  },
  {
   "cell_type": "markdown",
   "metadata": {
    "id": "5GHKFTQdB_tD"
   },
   "source": [
    "The following method calls will produce an error."
   ]
  },
  {
   "cell_type": "code",
   "execution_count": 87,
   "metadata": {
    "id": "okCz3gkdB_tE"
   },
   "outputs": [
    {
     "ename": "AttributeError",
     "evalue": "'tuple' object has no attribute 'sort'",
     "output_type": "error",
     "traceback": [
      "\u001b[1;31m---------------------------------------------------------------------------\u001b[0m",
      "\u001b[1;31mAttributeError\u001b[0m                            Traceback (most recent call last)",
      "Cell \u001b[1;32mIn[87], line 1\u001b[0m\n\u001b[1;32m----> 1\u001b[0m my_tuple\u001b[38;5;241m.\u001b[39msort()\n",
      "\u001b[1;31mAttributeError\u001b[0m: 'tuple' object has no attribute 'sort'"
     ]
    }
   ],
   "source": [
    "my_tuple.sort()"
   ]
  },
  {
   "cell_type": "code",
   "execution_count": 88,
   "metadata": {
    "id": "QNrAuUUkB_tE"
   },
   "outputs": [
    {
     "ename": "AttributeError",
     "evalue": "'tuple' object has no attribute 'append'",
     "output_type": "error",
     "traceback": [
      "\u001b[1;31m---------------------------------------------------------------------------\u001b[0m",
      "\u001b[1;31mAttributeError\u001b[0m                            Traceback (most recent call last)",
      "Cell \u001b[1;32mIn[88], line 1\u001b[0m\n\u001b[1;32m----> 1\u001b[0m my_tuple\u001b[38;5;241m.\u001b[39mappend(\u001b[38;5;241m5\u001b[39m)\n",
      "\u001b[1;31mAttributeError\u001b[0m: 'tuple' object has no attribute 'append'"
     ]
    }
   ],
   "source": [
    "my_tuple.append(5)"
   ]
  },
  {
   "cell_type": "code",
   "execution_count": 89,
   "metadata": {
    "id": "Khtd2gV3B_tE"
   },
   "outputs": [
    {
     "ename": "AttributeError",
     "evalue": "'tuple' object has no attribute 'reverse'",
     "output_type": "error",
     "traceback": [
      "\u001b[1;31m---------------------------------------------------------------------------\u001b[0m",
      "\u001b[1;31mAttributeError\u001b[0m                            Traceback (most recent call last)",
      "Cell \u001b[1;32mIn[89], line 1\u001b[0m\n\u001b[1;32m----> 1\u001b[0m my_tuple\u001b[38;5;241m.\u001b[39mreverse()\n",
      "\u001b[1;31mAttributeError\u001b[0m: 'tuple' object has no attribute 'reverse'"
     ]
    }
   ],
   "source": [
    "my_tuple.reverse()"
   ]
  },
  {
   "cell_type": "markdown",
   "metadata": {
    "id": "vD7uPhXfB_tE"
   },
   "source": [
    "## Methods for Tuples"
   ]
  },
  {
   "cell_type": "markdown",
   "metadata": {
    "id": "tcbUby2cB_tE"
   },
   "source": [
    "We can generate a list of non special Python methods for tuples using list comprehension."
   ]
  },
  {
   "cell_type": "code",
   "execution_count": 90,
   "metadata": {
    "id": "CAIOuQh4B_tF"
   },
   "outputs": [
    {
     "data": {
      "text/plain": [
       "['count', 'index']"
      ]
     },
     "execution_count": 90,
     "metadata": {},
     "output_type": "execute_result"
    }
   ],
   "source": [
    "[x for x in dir(my_tuple) if not x.startswith('__')]\n",
    "#あ"
   ]
  },
  {
   "cell_type": "markdown",
   "metadata": {
    "id": "Jvz1-8H2B_tF"
   },
   "source": [
    "#### count"
   ]
  },
  {
   "cell_type": "markdown",
   "metadata": {
    "id": "SzY2qKzfB_tG"
   },
   "source": [
    "We can count the number of occurances in a tuple using `count()`"
   ]
  },
  {
   "cell_type": "code",
   "execution_count": 91,
   "metadata": {
    "id": "FSfU34OeB_tG"
   },
   "outputs": [
    {
     "data": {
      "text/plain": [
       "11"
      ]
     },
     "execution_count": 91,
     "metadata": {},
     "output_type": "execute_result"
    }
   ],
   "source": [
    "lyrics = ('na', 'na', 'na', 'na', 'na', 'na', 'na', 'na', 'na', 'na', 'na', 'hey', 'Jude')\n",
    "lyrics.count('na')\n",
    "#あ"
   ]
  },
  {
   "cell_type": "markdown",
   "metadata": {
    "id": "e7H7h8cGB_tH"
   },
   "source": [
    "#### index"
   ]
  },
  {
   "cell_type": "markdown",
   "metadata": {
    "id": "wqVxvSq-B_tI"
   },
   "source": [
    "We can get the index of an element in a tuple using `index()`"
   ]
  },
  {
   "cell_type": "code",
   "execution_count": 92,
   "metadata": {
    "id": "FEAEP-1TB_tJ"
   },
   "outputs": [
    {
     "data": {
      "text/plain": [
       "12"
      ]
     },
     "execution_count": 92,
     "metadata": {},
     "output_type": "execute_result"
    }
   ],
   "source": [
    "idx = lyrics.index('Jude')\n",
    "idx\n",
    "#あ"
   ]
  },
  {
   "cell_type": "code",
   "execution_count": 93,
   "metadata": {
    "id": "t6RSWJCrB_tJ"
   },
   "outputs": [
    {
     "data": {
      "text/plain": [
       "'Jude'"
      ]
     },
     "execution_count": 93,
     "metadata": {},
     "output_type": "execute_result"
    }
   ],
   "source": [
    "lyrics[idx]\n",
    "#あ"
   ]
  },
  {
   "cell_type": "markdown",
   "metadata": {
    "id": "8XG4MyZ0B_tK"
   },
   "source": [
    "##  Why Use Tuples over Lists?\n",
    "\n",
    "The advantage of tuples over lists are that they are more efficient."
   ]
  },
  {
   "cell_type": "markdown",
   "metadata": {
    "id": "EVFVhNWFB_tK"
   },
   "source": [
    "- Since Python does not have to build tuple structures to be modifiable, they are simpler and more efficient in terms of memory use and performance than lists\n",
    "- tuples are preferable over lists\n",
    "    - When making variables that you don't have to change\n",
    "    - When making “temporary variables”"
   ]
  },
  {
   "cell_type": "markdown",
   "metadata": {
    "id": "HLQA125TB_tK"
   },
   "source": [
    "## Tuples and Assignment"
   ]
  },
  {
   "cell_type": "markdown",
   "metadata": {
    "id": "fUAN9nH0B_tL"
   },
   "source": [
    "We can put a tuple on the left-hand side of an assignment statement"
   ]
  },
  {
   "cell_type": "code",
   "execution_count": 101,
   "metadata": {
    "id": "0HtrFry-B_tL"
   },
   "outputs": [
    {
     "name": "stdout",
     "output_type": "stream",
     "text": [
      "fred\n"
     ]
    }
   ],
   "source": [
    "(x, y) = (4, 'fred')\n",
    "print(y)"
   ]
  },
  {
   "cell_type": "code",
   "execution_count": 102,
   "metadata": {
    "id": "bzbecRSDB_tM"
   },
   "outputs": [
    {
     "name": "stdout",
     "output_type": "stream",
     "text": [
      "99\n"
     ]
    }
   ],
   "source": [
    "(a, b) = (99, 98)\n",
    "print(a)"
   ]
  },
  {
   "cell_type": "markdown",
   "metadata": {
    "id": "6xSSsbxyB_tO"
   },
   "source": [
    "We can even omit the parenthesis"
   ]
  },
  {
   "cell_type": "code",
   "execution_count": 103,
   "metadata": {
    "id": "0kqa1SGMB_tO"
   },
   "outputs": [
    {
     "data": {
      "text/plain": [
       "(5, 'john')"
      ]
     },
     "execution_count": 103,
     "metadata": {},
     "output_type": "execute_result"
    }
   ],
   "source": [
    "(c, d) = 5, 'john'\n",
    "(c,d)\n",
    "#あ"
   ]
  },
  {
   "cell_type": "raw",
   "metadata": {
    "id": "YKKSyPYDB_tP"
   },
   "source": [
    "c, d = (5, 'john')\n",
    "(c,d)\n",
    "#あ"
   ]
  },
  {
   "cell_type": "markdown",
   "metadata": {
    "id": "LDzPBBucB_tP"
   },
   "source": [
    "The number of elements on both sides have to be the same"
   ]
  },
  {
   "cell_type": "code",
   "execution_count": 104,
   "metadata": {
    "id": "2gaE5tIvB_tP"
   },
   "outputs": [
    {
     "ename": "ValueError",
     "evalue": "not enough values to unpack (expected 3, got 2)",
     "output_type": "error",
     "traceback": [
      "\u001b[1;31m---------------------------------------------------------------------------\u001b[0m",
      "\u001b[1;31mValueError\u001b[0m                                Traceback (most recent call last)",
      "Cell \u001b[1;32mIn[104], line 1\u001b[0m\n\u001b[1;32m----> 1\u001b[0m c, d, e \u001b[38;5;241m=\u001b[39m (\u001b[38;5;241m5\u001b[39m, \u001b[38;5;124m'\u001b[39m\u001b[38;5;124mjohn\u001b[39m\u001b[38;5;124m'\u001b[39m)\n",
      "\u001b[1;31mValueError\u001b[0m: not enough values to unpack (expected 3, got 2)"
     ]
    }
   ],
   "source": [
    "c, d, e = (5, 'john')\n",
    "#あ"
   ]
  },
  {
   "cell_type": "code",
   "execution_count": 94,
   "metadata": {
    "id": "PXNx6xt_B_tQ"
   },
   "outputs": [
    {
     "ename": "ValueError",
     "evalue": "too many values to unpack (expected 2)",
     "output_type": "error",
     "traceback": [
      "\u001b[1;31m---------------------------------------------------------------------------\u001b[0m",
      "\u001b[1;31mValueError\u001b[0m                                Traceback (most recent call last)",
      "Cell \u001b[1;32mIn[94], line 1\u001b[0m\n\u001b[1;32m----> 1\u001b[0m c, d \u001b[38;5;241m=\u001b[39m (\u001b[38;5;241m5\u001b[39m, \u001b[38;5;124m'\u001b[39m\u001b[38;5;124mjohn\u001b[39m\u001b[38;5;124m'\u001b[39m, \u001b[38;5;124m'\u001b[39m\u001b[38;5;124mpaul\u001b[39m\u001b[38;5;124m'\u001b[39m)\n",
      "\u001b[1;31mValueError\u001b[0m: too many values to unpack (expected 2)"
     ]
    }
   ],
   "source": [
    "c, d = (5, 'john', 'paul')\n",
    "#あ"
   ]
  },
  {
   "cell_type": "markdown",
   "metadata": {
    "id": "9T9go03cB_tQ"
   },
   "source": [
    "## Unpacking Tuples"
   ]
  },
  {
   "cell_type": "markdown",
   "metadata": {
    "id": "NOFZWyClB_tQ"
   },
   "source": [
    "Tuples could be unpacked to individual variables. The number of variables should match the number of items in the tuple."
   ]
  },
  {
   "cell_type": "code",
   "execution_count": 105,
   "metadata": {
    "id": "L1aohsaAB_tQ"
   },
   "outputs": [
    {
     "name": "stdout",
     "output_type": "stream",
     "text": [
      "Bilbo Baggins\n",
      "bilbo@shire.me\n"
     ]
    }
   ],
   "source": [
    "contact_info = ('Bilbo', 'Baggins', 'bilbo@shire.me')\n",
    "fname, lname, email = contact_info\n",
    "print(fname, lname)\n",
    "print(email)\n",
    "#あ"
   ]
  },
  {
   "cell_type": "markdown",
   "metadata": {
    "id": "lYGnf6aqB_tQ"
   },
   "source": [
    "## zip() function"
   ]
  },
  {
   "cell_type": "markdown",
   "metadata": {
    "id": "fpTGJl28B_tR"
   },
   "source": [
    "The built-in `zip()` function could be used to generate tuples from data structures like lists or tuples.  "
   ]
  },
  {
   "cell_type": "code",
   "execution_count": 99,
   "metadata": {
    "id": "0GHvME8UB_tR"
   },
   "outputs": [
    {
     "data": {
      "text/plain": [
       "<zip at 0x1d3b4933cc0>"
      ]
     },
     "execution_count": 99,
     "metadata": {},
     "output_type": "execute_result"
    }
   ],
   "source": [
    "int_list = [3, 7, 9, 1]\n",
    "string_list = ['elven-kings', 'dwarf-lords', 'mortal men', 'Dark Lord']\n",
    "zipped = zip(int_list, string_list)\n",
    "zipped"
   ]
  },
  {
   "cell_type": "markdown",
   "metadata": {
    "id": "fqnl0sxnB_tR"
   },
   "source": [
    "The code above produced a **iterator** that can be used in a `for` loop:"
   ]
  },
  {
   "cell_type": "code",
   "execution_count": 100,
   "metadata": {
    "id": "RgX9aFdTB_tS"
   },
   "outputs": [
    {
     "name": "stdout",
     "output_type": "stream",
     "text": [
      "3 ring(s) for the elven-kings\n",
      "7 ring(s) for the dwarf-lords\n",
      "9 ring(s) for the mortal men\n",
      "1 ring(s) for the Dark Lord\n"
     ]
    }
   ],
   "source": [
    "for i in zipped:\n",
    "    print(i[0], 'ring(s) for the', i[1])"
   ]
  },
  {
   "cell_type": "markdown",
   "metadata": {
    "id": "0fP3rLrzB_tS"
   },
   "source": [
    "or converted to a list:"
   ]
  },
  {
   "cell_type": "code",
   "execution_count": 101,
   "metadata": {
    "id": "X3L29M7GB_tS"
   },
   "outputs": [
    {
     "data": {
      "text/plain": [
       "[(3, 'elven-kings'), (7, 'dwarf-lords'), (9, 'mortal men'), (1, 'Dark Lord')]"
      ]
     },
     "execution_count": 101,
     "metadata": {},
     "output_type": "execute_result"
    }
   ],
   "source": [
    "zipped = zip(int_list, string_list)\n",
    "ring_inventory = list(zipped)\n",
    "ring_inventory"
   ]
  },
  {
   "cell_type": "code",
   "execution_count": 102,
   "metadata": {
    "id": "Pa3d_1tHB_tT"
   },
   "outputs": [
    {
     "data": {
      "text/plain": [
       "(9, 'mortal men')"
      ]
     },
     "execution_count": 102,
     "metadata": {},
     "output_type": "execute_result"
    }
   ],
   "source": [
    "ring_inventory[2]"
   ]
  },
  {
   "cell_type": "code",
   "execution_count": 103,
   "metadata": {
    "id": "bnY9p63vB_tU"
   },
   "outputs": [
    {
     "name": "stdout",
     "output_type": "stream",
     "text": [
      "3 ring(s) for the elven-kings\n",
      "7 ring(s) for the dwarf-lords\n",
      "9 ring(s) for the mortal men\n",
      "1 ring(s) for the Dark Lord\n"
     ]
    }
   ],
   "source": [
    "for item in ring_inventory:\n",
    "    print(item[0], 'ring(s) for the', item[1])"
   ]
  },
  {
   "cell_type": "markdown",
   "metadata": {
    "id": "QVZ7bH1PB_tU"
   },
   "source": [
    "## Final Words"
   ]
  },
  {
   "cell_type": "markdown",
   "metadata": {
    "id": "dDKqJJSwB_tV"
   },
   "source": [
    "- Tuples are like lists, except that they are not mutable\n",
    "- Use tuples for values that you don’t expect to change since they are more efficient\n",
    "- Tuples are also important for using functions as some arguments are passed as tuples\n"
   ]
  },
  {
   "cell_type": "markdown",
   "metadata": {
    "id": "b0UkZTT5B_tV"
   },
   "source": [
    "## EXERCISES"
   ]
  },
  {
   "cell_type": "markdown",
   "metadata": {
    "id": "JQ2u36vTB_tV"
   },
   "source": [
    "#### Exercise 1\n",
    "\n",
    "Create a tuple with the following items: `1, 1, 2, 3, 5`. Feed the tuple to the `sum()` built-in function and check the result.\n"
   ]
  },
  {
   "cell_type": "code",
   "execution_count": 104,
   "metadata": {},
   "outputs": [
    {
     "name": "stdout",
     "output_type": "stream",
     "text": [
      "12\n"
     ]
    }
   ],
   "source": [
    "items = (1, 1, 2, 3, 5)\n",
    "t = sum(items)\n",
    "print(t)"
   ]
  },
  {
   "cell_type": "markdown",
   "metadata": {
    "id": "hYMesvP4B_tV"
   },
   "source": [
    "#### Exercise 2\n",
    "\n",
    "Unpack the following tuple into meaningful variables and display them\n",
    "\n",
    "```python\n",
    "ph_info = ('Philippines', 'Manila', 103.3) # The last number is the Population in Millions as of 2016\n",
    "```\n"
   ]
  },
  {
   "cell_type": "code",
   "execution_count": 115,
   "metadata": {
    "scrolled": true
   },
   "outputs": [
    {
     "name": "stdout",
     "output_type": "stream",
     "text": [
      "What country is this: Philippines?\n",
      "Manila? The capital of the Philippines?\n",
      "Philippines population in Millions as of 2016 is 103.3\n"
     ]
    }
   ],
   "source": [
    "ph_info = ('Philippines', 'Manila', 103.3)\n",
    "country, capital, population = ph_info\n",
    "print(\"What country is this:\", country+\"?\")\n",
    "print(capital+\"? The capital of the\", country+\"?\")\n",
    "print(country, \"population in Millions as of 2016 is\", population)"
   ]
  },
  {
   "cell_type": "markdown",
   "metadata": {
    "id": "8_ghnV8IB_tV"
   },
   "source": [
    "#### Important Note\n",
    "\n",
    "It's suggested to study [Chapter 9 Dictionaries](#chapter9) after this chapter\n"
   ]
  },
  {
   "cell_type": "markdown",
   "metadata": {
    "id": "sIbDKRG-B_tW"
   },
   "source": [
    "[TABLE OF CONTENTS](#contents)"
   ]
  },
  {
   "cell_type": "markdown",
   "metadata": {
    "id": "CNkX7HziB_tW"
   },
   "source": [
    "# END"
   ]
  },
  {
   "cell_type": "markdown",
   "metadata": {
    "id": "Dhg0BsWRB_tW"
   },
   "source": [
    "Congratulations for reaching this far. There are still several chapters from Python for Everybody, but the ones covered here are the most important ones as we move forward.  \n"
   ]
  },
  {
   "cell_type": "code",
   "execution_count": null,
   "metadata": {
    "id": "gz2hzn2CB_tW"
   },
   "outputs": [],
   "source": []
  }
 ],
 "metadata": {
  "colab": {
   "provenance": [
    {
     "file_id": "1r9gWOsRRtapPEYVLFF7syT6Jm6o9hf2-",
     "timestamp": 1710303515382
    }
   ]
  },
  "hide_input": false,
  "kernelspec": {
   "display_name": "Python 3 (ipykernel)",
   "language": "python",
   "name": "python3"
  },
  "language_info": {
   "codemirror_mode": {
    "name": "ipython",
    "version": 3
   },
   "file_extension": ".py",
   "mimetype": "text/x-python",
   "name": "python",
   "nbconvert_exporter": "python",
   "pygments_lexer": "ipython3",
   "version": "3.11.5"
  }
 },
 "nbformat": 4,
 "nbformat_minor": 1
}
