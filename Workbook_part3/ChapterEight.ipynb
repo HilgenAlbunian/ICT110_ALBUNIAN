{
 "cells": [
  {
   "cell_type": "markdown",
   "id": "5cd54a53",
   "metadata": {},
   "source": [
    "## EXERCISES"
   ]
  },
  {
   "cell_type": "markdown",
   "id": "cacbf02e",
   "metadata": {},
   "source": [
    "#### Exercise 1\n",
    "\n",
    "Create an empty list then add the following numbers using `append`: 4, 6 9."
   ]
  },
  {
   "cell_type": "code",
   "execution_count": 1,
   "id": "1f992a0c",
   "metadata": {},
   "outputs": [
    {
     "name": "stdout",
     "output_type": "stream",
     "text": [
      "[4, 6, 9]\n"
     ]
    }
   ],
   "source": [
    "emptyList = []\n",
    "emptyList.append(4)\n",
    "emptyList.append(6)\n",
    "emptyList.append(9)\n",
    "print(emptyList)"
   ]
  },
  {
   "cell_type": "markdown",
   "id": "dcabce4e",
   "metadata": {},
   "source": [
    "#### Exercise 2\n",
    "\n",
    "Using the `range` function, create a list containing the numbers from 0 to 10."
   ]
  },
  {
   "cell_type": "code",
   "execution_count": 2,
   "id": "71f65731",
   "metadata": {},
   "outputs": [
    {
     "name": "stdout",
     "output_type": "stream",
     "text": [
      "[0, 1, 2, 3, 4, 5, 6, 7, 8, 9, 10]\n"
     ]
    }
   ],
   "source": [
    "t = list(range(11))\n",
    "print(t)"
   ]
  },
  {
   "cell_type": "markdown",
   "id": "8084cf6d",
   "metadata": {},
   "source": [
    "#### Exercise 3\n",
    "\n",
    "Create a list containing the valid grade values, then using `enumerate` in a `for` loop, print out all **indices** and **items** in the list.\n",
    "\n",
    "It should print out:\n",
    "\n",
    "    0   1.0\n",
    "    1   1.25\n",
    "    2   1.5\n",
    "    3   1.75\n",
    "    4   2.0\n",
    "    5   2.25\n",
    "    6   2.5\n",
    "    7   3.0"
   ]
  },
  {
   "cell_type": "code",
   "execution_count": 3,
   "id": "0fb27efb",
   "metadata": {},
   "outputs": [
    {
     "name": "stdout",
     "output_type": "stream",
     "text": [
      "0 1.0\n",
      "1 1.25\n",
      "2 1.5\n",
      "3 1.75\n",
      "4 2.0\n",
      "5 2.25\n",
      "6 2.5\n",
      "7 3.0\n"
     ]
    }
   ],
   "source": [
    "grades = [1.0, 1.25, 1.5, 1.75, 2.0, 2.25, 2.5, 3.0]\n",
    "for index, grade in enumerate(grades):\n",
    "    print(index, grade)"
   ]
  },
  {
   "cell_type": "markdown",
   "id": "e2068d8d",
   "metadata": {},
   "source": [
    "#### Exercise 4\n",
    "\n",
    "Using Index Slicing, print out the list of grades higher than 2.0"
   ]
  },
  {
   "cell_type": "code",
   "execution_count": 4,
   "id": "5e7c8809",
   "metadata": {},
   "outputs": [
    {
     "name": "stdout",
     "output_type": "stream",
     "text": [
      "[2.25, 2.5, 3.0]\n"
     ]
    }
   ],
   "source": [
    "#Dos = grades.index(2.0) + 1\n",
    "#print(grades[dos:])\n",
    "print(grades[5:])"
   ]
  },
  {
   "cell_type": "markdown",
   "id": "2cf49a11",
   "metadata": {},
   "source": [
    "#### Exercise 5\n",
    "\n",
    "Using Index Slicing, print out the list of grades better than 2.0."
   ]
  },
  {
   "cell_type": "code",
   "execution_count": 5,
   "id": "67ee9581",
   "metadata": {},
   "outputs": [
    {
     "name": "stdout",
     "output_type": "stream",
     "text": [
      "[1.0, 1.25, 1.5, 1.75]\n"
     ]
    }
   ],
   "source": [
    "#Dos = grades.index(2.0)\n",
    "#print(grades[:Dos])\n",
    "print(grades[:4])"
   ]
  },
  {
   "cell_type": "markdown",
   "id": "c79aa3b8",
   "metadata": {},
   "source": [
    "#### Exercise 6\n",
    "\n",
    "Using Index Slicing, print out the grades 2.0,2.25,2.5."
   ]
  },
  {
   "cell_type": "code",
   "execution_count": 6,
   "id": "b27dfbb2",
   "metadata": {},
   "outputs": [
    {
     "name": "stdout",
     "output_type": "stream",
     "text": [
      "[2.0, 2.25, 2.5]\n"
     ]
    }
   ],
   "source": [
    "#limit = grades.index(2.5) + 1\n",
    "#print(grades[Dos:limit])\n",
    "print(grades[4:7])"
   ]
  },
  {
   "cell_type": "markdown",
   "id": "c2a1ab96",
   "metadata": {},
   "source": [
    "## CHALLENGE\n",
    "\n",
    "Modify the code in the subheading [Parsing Lines](#ParsingLines) to display all the time stamps\n",
    "of the emails in mboxt-short.txt"
   ]
  },
  {
   "cell_type": "code",
   "execution_count": 7,
   "id": "6c2624d0",
   "metadata": {},
   "outputs": [
    {
     "name": "stdout",
     "output_type": "stream",
     "text": [
      "['09:14:16', '18:10:48', '16:10:39', '15:46:24', '15:03:18', '14:50:18', '11:37:30', '11:35:08', '11:12:37', '11:11:52', '11:11:03', '11:10:22', '10:38:42', '10:17:43', '10:04:14', '09:05:31', '07:02:32', '06:08:27', '04:49:08', '04:33:44', '04:07:34', '19:51:21', '17:18:23', '17:07:00', '16:34:40', '16:29:07', '16:23:48']\n"
     ]
    }
   ],
   "source": [
    "fhand = open('mboxt-short.txt')\n",
    "my_list = []\n",
    "for line in fhand:\n",
    "    line = line.rstrip()\n",
    "    if not line.startswith('From'):\n",
    "        continue\n",
    "    words = line.split()\n",
    "    if len(words) > 2:\n",
    "        if my_list == []:\n",
    "            my_list.append(words[5])\n",
    "        elif words[5] not in my_list:\n",
    "             my_list.append(words[5])\n",
    "print(my_list)"
   ]
  }
 ],
 "metadata": {
  "kernelspec": {
   "display_name": "Python 3 (ipykernel)",
   "language": "python",
   "name": "python3"
  },
  "language_info": {
   "codemirror_mode": {
    "name": "ipython",
    "version": 3
   },
   "file_extension": ".py",
   "mimetype": "text/x-python",
   "name": "python",
   "nbconvert_exporter": "python",
   "pygments_lexer": "ipython3",
   "version": "3.11.5"
  }
 },
 "nbformat": 4,
 "nbformat_minor": 5
}
