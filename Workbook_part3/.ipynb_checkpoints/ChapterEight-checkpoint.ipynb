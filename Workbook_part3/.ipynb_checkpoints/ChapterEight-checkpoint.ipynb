{
 "cells": [
  {
   "cell_type": "markdown",
   "id": "c60616bd",
   "metadata": {},
   "source": [
    "## EXERCISES"
   ]
  },
  {
   "cell_type": "markdown",
   "id": "66993b5b",
   "metadata": {},
   "source": [
    "#### Exercise 1\n",
    "\n",
    "Create an empty list then add the following numbers using `append`: 4, 6 9."
   ]
  },
  {
   "cell_type": "code",
   "execution_count": 1,
   "id": "60212ab0",
   "metadata": {},
   "outputs": [
    {
     "name": "stdout",
     "output_type": "stream",
     "text": [
      "[4, 6, 9]\n"
     ]
    }
   ],
   "source": [
    "emptyList = []\n",
    "emptyList.append(4)\n",
    "emptyList.append(6)\n",
    "emptyList.append(9)\n",
    "print(emptyList)"
   ]
  },
  {
   "cell_type": "markdown",
   "id": "19f7b0e6",
   "metadata": {},
   "source": [
    "#### Exercise 2\n",
    "\n",
    "Using the `range` function, create a list containing the numbers from 0 to 10."
   ]
  },
  {
   "cell_type": "code",
   "execution_count": null,
   "id": "9e8370d8",
   "metadata": {},
   "outputs": [],
   "source": [
    "t = list(range(11))\n",
    "print(t)"
   ]
  },
  {
   "cell_type": "markdown",
   "id": "4d7f51b2",
   "metadata": {},
   "source": [
    "#### Exercise 3\n",
    "\n",
    "Create a list containing the valid grade values, then using `enumerate` in a `for` loop, print out all **indices** and **items** in the list.\n",
    "\n",
    "It should print out:\n",
    "\n",
    "    0   1.0\n",
    "    1   1.25\n",
    "    2   1.5\n",
    "    3   1.75\n",
    "    4   2.0\n",
    "    5   2.25\n",
    "    6   2.5\n",
    "    7   3.0"
   ]
  },
  {
   "cell_type": "code",
   "execution_count": null,
   "id": "d7e858a5",
   "metadata": {},
   "outputs": [],
   "source": []
  },
  {
   "cell_type": "code",
   "execution_count": null,
   "id": "3e8f8acd",
   "metadata": {},
   "outputs": [],
   "source": [
    "grades = [1.0, 1.25, 1.5, 1.75, 2.0, 2.25, 2.5, 3.0]\n",
    "for index, grade in enumerate(grades):\n",
    "    print(index, grade)"
   ]
  },
  {
   "cell_type": "code",
   "execution_count": null,
   "id": "8b75c099",
   "metadata": {},
   "outputs": [],
   "source": [
    "#### Exercise 4\n",
    "\n",
    "Using Index Slicing, print out the list of grades higher than 2.0"
   ]
  },
  {
   "cell_type": "code",
   "execution_count": null,
   "id": "2e9c0800",
   "metadata": {},
   "outputs": [],
   "source": [
    "#Dos = grades.index(2.0) + 1\n",
    "#print(grades[dos:])\n",
    "print(grades[5:])"
   ]
  },
  {
   "cell_type": "code",
   "execution_count": null,
   "id": "87e14ce1",
   "metadata": {},
   "outputs": [],
   "source": [
    "#### Exercise 5\n",
    "\n",
    "Using Index Slicing, print out the list of grades better than 2.0."
   ]
  },
  {
   "cell_type": "code",
   "execution_count": null,
   "id": "bba1af4d",
   "metadata": {},
   "outputs": [],
   "source": [
    "#Dos = grades.index(2.0)\n",
    "#print(grades[:Dos])\n",
    "print(grades[:4])"
   ]
  },
  {
   "cell_type": "code",
   "execution_count": null,
   "id": "6a1d4e77",
   "metadata": {},
   "outputs": [],
   "source": [
    "#### Exercise 6\n",
    "\n",
    "Using Index Slicing, print out the grades 2.0,2.25,2.5."
   ]
  },
  {
   "cell_type": "code",
   "execution_count": null,
   "id": "625b720a",
   "metadata": {},
   "outputs": [],
   "source": [
    "#limit = grades.index(2.5) + 1\n",
    "#print(grades[Dos:limit])\n",
    "print(grades[4:7])"
   ]
  },
  {
   "cell_type": "code",
   "execution_count": null,
   "id": "5058c599",
   "metadata": {},
   "outputs": [],
   "source": [
    "## CHALLENGE\n",
    "\n",
    "Modify the code in the subheading [Parsing Lines](#ParsingLines) to display all the time stamps\n",
    "of the emails in mboxt-short.txt"
   ]
  },
  {
   "cell_type": "code",
   "execution_count": null,
   "id": "c69f1bd6",
   "metadata": {},
   "outputs": [],
   "source": [
    "fhand = open('mboxt-short.txt')\n",
    "my_list = []\n",
    "for line in fhand:\n",
    "    line = line.rstrip()\n",
    "    if not line.startswith('From'):\n",
    "        continue\n",
    "    words = line.split()\n",
    "    if len(words) > 2:\n",
    "        if my_list == []:\n",
    "            my_list.append(words[5])\n",
    "        elif words[5] not in my_list:\n",
    "             my_list.append(words[5])\n",
    "print(my_list)"
   ]
  }
 ],
 "metadata": {
  "kernelspec": {
   "display_name": "Python 3 (ipykernel)",
   "language": "python",
   "name": "python3"
  },
  "language_info": {
   "codemirror_mode": {
    "name": "ipython",
    "version": 3
   },
   "file_extension": ".py",
   "mimetype": "text/x-python",
   "name": "python",
   "nbconvert_exporter": "python",
   "pygments_lexer": "ipython3",
   "version": "3.11.5"
  }
 },
 "nbformat": 4,
 "nbformat_minor": 5
}
