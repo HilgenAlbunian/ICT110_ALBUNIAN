{
 "cells": [
  {
   "cell_type": "markdown",
   "id": "e8cc1ccc",
   "metadata": {},
   "source": [
    "## EXERCISES"
   ]
  },
  {
   "cell_type": "markdown",
   "id": "44f970f2",
   "metadata": {},
   "source": [
    "#### Exercise 1"
   ]
  },
  {
   "cell_type": "markdown",
   "id": "11c94c3d",
   "metadata": {},
   "source": [
    "Given the code below    \n",
    "\n",
    "    text = 'Business Analytics'\n",
    "\n",
    "What will the following expressions produce?\n",
    "    \n",
    "    text[4]\n",
    "    text[2:4]\n",
    "    text[:4]\n",
    "    text[4:]\n",
    "    text[-2]\n",
    "    text[-4:-2]\n",
    "    text[-2:]\n",
    "    text[:-2]\n",
    "    "
   ]
  },
  {
   "cell_type": "code",
   "execution_count": 1,
   "id": "bd24f448",
   "metadata": {},
   "outputs": [
    {
     "name": "stdout",
     "output_type": "stream",
     "text": [
      "n\n",
      "si\n",
      "ness Analytics\n",
      "Busi\n",
      "c\n",
      "ti\n",
      "cs\n",
      "Business Analyti\n"
     ]
    }
   ],
   "source": [
    "text = 'Business Analytics'\n",
    "print(text[4])  # n\n",
    "print(text[2:4]) # si\n",
    "print(text[4:]) # ness Analytics\n",
    "print(text[:4]) # Busi\n",
    "print(text[-2]) # c\n",
    "print(text[-4:-2]) # ti\n",
    "print(text[-2:]) # cs\n",
    "print(text[:-2]) # Business Analyti"
   ]
  },
  {
   "cell_type": "markdown",
   "id": "75022c84",
   "metadata": {},
   "source": [
    "#### Exercise 2"
   ]
  },
  {
   "cell_type": "markdown",
   "id": "d2f1ee96",
   "metadata": {},
   "source": [
    "Given the code below:\n",
    "    \n",
    "    phrase = 'One Ring to rule them all'\n",
    "\n",
    "What string slicing expression gives out the following words:\n",
    "\n",
    "    'One '\n",
    "    'Ring'\n",
    "    'all'\n",
    "    'them'\n",
    "    'One Ring to rule them all' "
   ]
  },
  {
   "cell_type": "code",
   "execution_count": 2,
   "id": "88e8f651",
   "metadata": {},
   "outputs": [
    {
     "name": "stdout",
     "output_type": "stream",
     "text": [
      "One \n",
      "Ring\n",
      "all\n",
      "them\n",
      "One Ring to rule them all\n"
     ]
    }
   ],
   "source": [
    "phrase = 'One Ring to rule them all'\n",
    "print(phrase[:4])\n",
    "print(phrase[4:8])\n",
    "print(phrase[-3:])\n",
    "print(phrase[17:-4])\n",
    "print(phrase[:])"
   ]
  },
  {
   "cell_type": "markdown",
   "id": "a3d0a58c",
   "metadata": {},
   "source": [
    "\n",
    "## CHALLENGE"
   ]
  },
  {
   "cell_type": "markdown",
   "id": "22194cb8",
   "metadata": {},
   "source": [
    "Write a program which repeatedly reads a **full name**, then does the following:\n",
    "- strips the name of any trailing spaces\n",
    "- capitalizes the first letter\n",
    "- puts the rest into smaller letters"
   ]
  },
  {
   "cell_type": "code",
   "execution_count": 3,
   "id": "2efbd91e",
   "metadata": {},
   "outputs": [
    {
     "name": "stdout",
     "output_type": "stream",
     "text": [
      "Enter your full name:    franz braga\n",
      "Franz braga\n",
      "Enter your full name: FRANZ BRAGA\n",
      "Franz braga\n",
      "Enter your full name:          fRAnZ BrAGa\n",
      "Franz braga\n",
      "Enter your full name: exit\n"
     ]
    }
   ],
   "source": [
    "for i in range(10) :\n",
    "    name = input('Enter your full name: ')\n",
    "    if name == \"exit\" :\n",
    "        break\n",
    "    print(name.strip().capitalize())"
   ]
  }
 ],
 "metadata": {
  "kernelspec": {
   "display_name": "Python 3 (ipykernel)",
   "language": "python",
   "name": "python3"
  },
  "language_info": {
   "codemirror_mode": {
    "name": "ipython",
    "version": 3
   },
   "file_extension": ".py",
   "mimetype": "text/x-python",
   "name": "python",
   "nbconvert_exporter": "python",
   "pygments_lexer": "ipython3",
   "version": "3.11.5"
  }
 },
 "nbformat": 4,
 "nbformat_minor": 5
}
