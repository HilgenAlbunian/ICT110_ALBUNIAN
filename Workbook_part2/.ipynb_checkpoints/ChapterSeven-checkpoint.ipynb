{
 "cells": [
  {
   "cell_type": "markdown",
   "id": "ddd12e57",
   "metadata": {},
   "source": [
    "## EXERCISES"
   ]
  },
  {
   "cell_type": "markdown",
   "id": "596bd755",
   "metadata": {},
   "source": [
    "#### Exercise 1  "
   ]
  },
  {
   "cell_type": "markdown",
   "id": "d3346fa4",
   "metadata": {},
   "source": [
    "Write a program to read through a file and print the contents of the file (line by line) all in upper case.\n",
    "\n",
    "from [PEW] E8-1"
   ]
  },
  {
   "cell_type": "code",
   "execution_count": 16,
   "id": "c4fd86bb",
   "metadata": {
    "scrolled": false
   },
   "outputs": [
    {
     "name": "stdout",
     "output_type": "stream",
     "text": [
      "Enter filename: untitled.txt\n",
      "INTRODUCE: HELLO MY NAME IS FRANZ PETER JOSEPH D. BRAGA\n",
      "AGE: I'M 20 YEARS OLD\n",
      "FROM: CRUZ, BAROTAC NUEVO, ILOILO\n",
      "EMAIL: FRANZPETERJOSEPHBRAGA@GMAIL.COM\n"
     ]
    }
   ],
   "source": [
    "filename = input('Enter filename: ')\n",
    "try:\n",
    "    basa = open(filename, 'r')\n",
    "    for line in basa:\n",
    "        print(line.upper().strip())\n",
    "    basa.close()\n",
    "except FileNotFoundError:\n",
    "    print(f\"File '{filename}' not found.\")"
   ]
  },
  {
   "cell_type": "markdown",
   "id": "c30769dc",
   "metadata": {},
   "source": [
    "#### Exercise 2"
   ]
  },
  {
   "cell_type": "markdown",
   "id": "b0f6e6bd",
   "metadata": {},
   "source": [
    "Write a program to read through a file and output the number of lines in a file.\n",
    "\n",
    "adapted from [PEW]"
   ]
  },
  {
   "cell_type": "code",
   "execution_count": 18,
   "id": "ca95da3b",
   "metadata": {},
   "outputs": [
    {
     "name": "stdout",
     "output_type": "stream",
     "text": [
      "Enter filename: fileJa.txt\n",
      "fileJa.txt has 4 lines.\n"
     ]
    }
   ],
   "source": [
    "filename = input('Enter filename: ')\n",
    "count = 0\n",
    "try:\n",
    "    basa = open(filename, 'r')\n",
    "    for line in basa:\n",
    "        count += 1\n",
    "    print('{} has {} lines.'.format(filename, count))\n",
    "    basa.close()\n",
    "except FileNotFoundError:\n",
    "    print(f\"File '{filename}' not found.\")"
   ]
  },
  {
   "cell_type": "markdown",
   "id": "ceeb345a",
   "metadata": {},
   "source": [
    "## CHALLENGE\n",
    "\n",
    "from [PEW] E8-2"
   ]
  },
  {
   "cell_type": "markdown",
   "id": "9a60e24f",
   "metadata": {},
   "source": [
    "Write a program to prompt for a file name, and then read through the file and look for lines of the form:"
   ]
  },
  {
   "cell_type": "raw",
   "id": "0f31f487",
   "metadata": {},
   "source": [
    "X-DSPAM-Confidence: 0.8475"
   ]
  },
  {
   "cell_type": "markdown",
   "id": "9cb1e131",
   "metadata": {},
   "source": [
    "When you encounter a line that starts with \"X-DSPAM-Confidence:\" pull apart the line to extract the floating-point number on the line. Count these lines and then compute the total of the spam confidence values from these lines. When you reach the end of the file, print out the average spam confidence."
   ]
  },
  {
   "cell_type": "raw",
   "id": "c329303c",
   "metadata": {},
   "source": [
    "Enter the file name: mbox.txt\n",
    "Average spam confidence: 0.894128046745\n",
    "\n",
    "Enter the file name: mbox-short.txt\n",
    "Average spam confidence: 0.750718518519"
   ]
  },
  {
   "cell_type": "code",
   "execution_count": 5,
   "id": "065a49fd",
   "metadata": {},
   "outputs": [
    {
     "name": "stdout",
     "output_type": "stream",
     "text": [
      "Enter the file name: mbox.txt\n",
      "Average spam confidence: 0.8941280467445736\n"
     ]
    }
   ],
   "source": [
    "fileName = input(\"Enter the file name: \")\n",
    "total = 0.0\n",
    "count = 0\n",
    "try : \n",
    "    basa = open(fileName, 'r')\n",
    "    for line in basa :\n",
    "        if line.startswith(\"X-DSPAM-Confidence:\"):\n",
    "                confidence = float(line.split(\":\")[1].strip())\n",
    "                total += confidence\n",
    "                count += 1\n",
    "    if count > 0:\n",
    "        average = total / count\n",
    "        print(\"Average spam confidence:\",average)\n",
    "    else:\n",
    "        print(\"No lines with spam confidence found.\")\n",
    "    basa.close();\n",
    "except FileNotFoundError:\n",
    "    print(f\"File '{fileName}' not found.\")"
   ]
  }
 ],
 "metadata": {
  "kernelspec": {
   "display_name": "Python 3 (ipykernel)",
   "language": "python",
   "name": "python3"
  },
  "language_info": {
   "codemirror_mode": {
    "name": "ipython",
    "version": 3
   },
   "file_extension": ".py",
   "mimetype": "text/x-python",
   "name": "python",
   "nbconvert_exporter": "python",
   "pygments_lexer": "ipython3",
   "version": "3.11.5"
  }
 },
 "nbformat": 4,
 "nbformat_minor": 5
}
