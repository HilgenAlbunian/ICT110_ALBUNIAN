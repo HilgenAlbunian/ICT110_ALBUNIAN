{
 "cells": [
  {
   "cell_type": "markdown",
   "metadata": {
    "id": "7FCKmhLPB9z_"
   },
   "source": [
    "# PYTHON FUNDAMENTALS, Part 2 (Workbook)\n",
    "\n",
    "[CC BY 4.0](https://creativecommons.org/licenses/by/4.0/)"
   ]
  },
  {
   "cell_type": "markdown",
   "metadata": {
    "id": "1CzNX0lIB90L"
   },
   "source": [
    "## Credits\n",
    "\n",
    "Most code snippets and explanatory texts from:\n",
    "- Charles Russel Severance's [Python for Everybody](https://www.py4e.com/) lecture slides\n",
    "  -  Unless annotated as indicated below, text and code came from this source. Additionally, they could be explicitly indicated by the marker `[PES]`\n",
    "\n",
    "and\n",
    "- Charles Russel Severance's [Python for Everybody - Online HTML Book](https://www.py4e.com/html3/)\n",
    "  - Notes and codes from this source are indicated by this the marker `[PEW]`\n",
    "\n",
    "Additional codes and comments from:\n",
    "- J.R. Johansson's [Introduction to Scientific Computing with Python](http://github.com/jrjohansson/scientific-python-lectures)\n",
    "  - Notes and codes from this source are indicated by this the marker `[JRJ]`"
   ]
  },
  {
   "cell_type": "markdown",
   "metadata": {
    "id": "yBN4EW1fB90O"
   },
   "source": [
    "# Before you begin\n",
    "\n",
    "First, make a copy of this notebook so that you can make changes as you please. Run and edit the copy instead of this original notebook. To copy this notebook, go to `File|Make a Copy`.\n",
    "\n",
    "If this notebook is already a copy of the original, clear all outputs in this notebook. Go to the Menu and click on `Cell| All Outputs| Clear`. Once this is done, you're ready to go."
   ]
  },
  {
   "cell_type": "markdown",
   "metadata": {
    "id": "kviM9IU6B90P"
   },
   "source": [
    "# Suggestions for Learning\n",
    "\n",
    "- Code snippets in Raw Cells are meant to be written by Beginners.\n",
    "- Code snippets in Code Cells are for illustration purposes. They are meant to be executed by both Beginners and more experienced Learners. (Beginners, may wish to also type them, if they so choose).\n",
    "\n",
    "For better learning experience, the following are suggested:\n",
    "\n",
    "### For Beginners\n",
    "1. Create a new Code Cell below the code snippets inside Raw Cells (Insert Cell below then convert the cell type to Code Cell).\n",
    "2. Go to your newly-created Code Cell and re-type what you see in the code snippet (don't copy-paste)\n",
    "3. Execute (and experiment) on the Code Cell.\n",
    "4. Remember to learn by doing (not just by reading or seeing)\n",
    "\n",
    "### For Coders\n",
    "1. If you are not yet familiar with the concept, follow Steps 1&2 of the Instructions for Beginners\n",
    "2. If you are already familiar with the concept being presented, convert the Raw Cell into a Code Cell.\n",
    "3. Execute (and experiment) on the Code Cell.\n",
    "4. Learn the \"adjacent concepts\", e.g. read related documentation.\n",
    "5. Help your classmates, because teaching is a wonderful way to learn.\n",
    "\n",
    "### For All\n",
    "* Make this your personal notebook.\n",
    "    * Add your own text annotations in Markup Cells.\n",
    "    * Add comments to parts of code that you find difficult to understand\n",
    "    * Breakdown difficult code into several small pieces (maybe, several Code Cells) that are easier to understand"
   ]
  },
  {
   "cell_type": "markdown",
   "metadata": {
    "id": "qOFBrFP6B90Q"
   },
   "source": [
    "<a id='contents'></a>"
   ]
  },
  {
   "cell_type": "markdown",
   "metadata": {
    "id": "pQdY6R7OB90R"
   },
   "source": [
    "# TABLE OF CONTENTS"
   ]
  },
  {
   "cell_type": "markdown",
   "metadata": {
    "id": "WYRHYG1oB90S"
   },
   "source": [
    "[Chapter 6 Strings](#chapter6)<br>\n",
    "[Chapter 7 Files](#chapter7)<br>\n"
   ]
  },
  {
   "cell_type": "markdown",
   "metadata": {
    "id": "bJU7pdELB90U"
   },
   "source": [
    "<a id='chapter6'></a>"
   ]
  },
  {
   "cell_type": "markdown",
   "metadata": {
    "id": "mySjBPWbB90V"
   },
   "source": [
    "# CHAPTER 6  - `Strings`"
   ]
  },
  {
   "cell_type": "markdown",
   "metadata": {
    "id": "ENZlZ9NzB90V"
   },
   "source": [
    "## The `String` Data Type"
   ]
  },
  {
   "cell_type": "markdown",
   "metadata": {
    "id": "86VosHkSB90W"
   },
   "source": [
    "A string is a sequence of characters."
   ]
  },
  {
   "cell_type": "markdown",
   "metadata": {
    "id": "08B9uczhB90W"
   },
   "source": [
    "Recall:\n",
    "    Python strings can be enclosed in single quote(`'`) or double quotes (`\"`). The back quote (the character that shares the key with tilde `~`) cannot be used to identify strings."
   ]
  },
  {
   "cell_type": "code",
   "execution_count": 1,
   "metadata": {
    "id": "umUVUVbUB90W"
   },
   "outputs": [
    {
     "data": {
      "text/plain": [
       "'Hello'"
      ]
     },
     "execution_count": 1,
     "metadata": {},
     "output_type": "execute_result"
    }
   ],
   "source": [
    "str1 = \"Hello\"\n",
    "str1"
   ]
  },
  {
   "cell_type": "code",
   "execution_count": 2,
   "metadata": {
    "id": "z9sN8zJxB90X"
   },
   "outputs": [
    {
     "data": {
      "text/plain": [
       "'there'"
      ]
     },
     "execution_count": 2,
     "metadata": {},
     "output_type": "execute_result"
    }
   ],
   "source": [
    "str2 = \"there\"\n",
    "str2"
   ]
  },
  {
   "cell_type": "markdown",
   "metadata": {
    "id": "xR6ftf50B90X"
   },
   "source": [
    "When a string contains numbers, it is still a string"
   ]
  },
  {
   "cell_type": "code",
   "execution_count": 3,
   "metadata": {
    "id": "q4NiEigQB90Y",
    "scrolled": true
   },
   "outputs": [],
   "source": [
    "str3 = 123\n",
    "str3 = str3 + 1"
   ]
  },
  {
   "cell_type": "markdown",
   "metadata": {
    "id": "K45ZUcOOB90Y"
   },
   "source": [
    "We can convert numbers in a string into a number using `int()` ..."
   ]
  },
  {
   "cell_type": "code",
   "execution_count": 4,
   "metadata": {
    "id": "_5ThgzD9B90Y"
   },
   "outputs": [
    {
     "name": "stdout",
     "output_type": "stream",
     "text": [
      "125\n"
     ]
    }
   ],
   "source": [
    "x = int(str3) + 1\n",
    "print(x)"
   ]
  },
  {
   "cell_type": "markdown",
   "metadata": {
    "id": "ReH37AsXB90Z"
   },
   "source": [
    "or `float()`"
   ]
  },
  {
   "cell_type": "code",
   "execution_count": 5,
   "metadata": {
    "id": "UuIyo-K0B90a"
   },
   "outputs": [
    {
     "name": "stdout",
     "output_type": "stream",
     "text": [
      "125.0\n"
     ]
    }
   ],
   "source": [
    "x = float(str3) + 1\n",
    "print(x)"
   ]
  },
  {
   "cell_type": "markdown",
   "metadata": {
    "id": "zlKPhNRGB90a"
   },
   "source": [
    "## A string is a sequence of characters"
   ]
  },
  {
   "cell_type": "markdown",
   "metadata": {
    "id": "joHPXddcB90b"
   },
   "source": [
    "- We can get at any single character in a string using an **index** specified in __square brackets__\n",
    "- The index value must be an integer and __starts at zero__"
   ]
  },
  {
   "cell_type": "code",
   "execution_count": 6,
   "metadata": {
    "id": "AathTmX3B90b"
   },
   "outputs": [
    {
     "name": "stdout",
     "output_type": "stream",
     "text": [
      "b\n"
     ]
    }
   ],
   "source": [
    "fruit = 'banana'\n",
    "letter = fruit[0] # remember: index starts at 0\n",
    "print(letter)"
   ]
  },
  {
   "cell_type": "markdown",
   "metadata": {
    "id": "Ed7ZuYIcB90b"
   },
   "source": [
    "The index value can be an expression that is computed."
   ]
  },
  {
   "cell_type": "code",
   "execution_count": 7,
   "metadata": {
    "id": "N02eMHo3B90c"
   },
   "outputs": [
    {
     "name": "stdout",
     "output_type": "stream",
     "text": [
      "n\n"
     ]
    }
   ],
   "source": [
    "x = 3\n",
    "w = fruit[x - 1]\n",
    "print(w)"
   ]
  },
  {
   "cell_type": "markdown",
   "metadata": {
    "id": "EwGIA0SXB90c"
   },
   "source": [
    "[PEW]\n",
    "You can use any expression, including variables and operators, as an index, but the value of the index has to be an integer."
   ]
  },
  {
   "cell_type": "code",
   "execution_count": 8,
   "metadata": {
    "id": "6P_WhjiOB90c"
   },
   "outputs": [
    {
     "ename": "TypeError",
     "evalue": "string indices must be integers, not 'float'",
     "output_type": "error",
     "traceback": [
      "\u001b[1;31m---------------------------------------------------------------------------\u001b[0m",
      "\u001b[1;31mTypeError\u001b[0m                                 Traceback (most recent call last)",
      "Cell \u001b[1;32mIn[8], line 1\u001b[0m\n\u001b[1;32m----> 1\u001b[0m letter \u001b[38;5;241m=\u001b[39m fruit[\u001b[38;5;241m1.5\u001b[39m]\n",
      "\u001b[1;31mTypeError\u001b[0m: string indices must be integers, not 'float'"
     ]
    }
   ],
   "source": [
    "letter = fruit[1.5]"
   ]
  },
  {
   "cell_type": "markdown",
   "metadata": {
    "id": "j_OgCIClB90d"
   },
   "source": [
    "Indexing with a negative number counts from the end of the string. The last element of the string is indexed at `-1`."
   ]
  },
  {
   "cell_type": "code",
   "execution_count": 9,
   "metadata": {
    "id": "CBQ0lRlDB90d"
   },
   "outputs": [
    {
     "data": {
      "text/plain": [
       "'a'"
      ]
     },
     "execution_count": 9,
     "metadata": {},
     "output_type": "execute_result"
    }
   ],
   "source": [
    "fruit[-1]"
   ]
  },
  {
   "cell_type": "code",
   "execution_count": 10,
   "metadata": {
    "id": "ckviziHSB90d"
   },
   "outputs": [
    {
     "data": {
      "text/plain": [
       "'n'"
      ]
     },
     "execution_count": 10,
     "metadata": {},
     "output_type": "execute_result"
    }
   ],
   "source": [
    "fruit[-2]"
   ]
  },
  {
   "cell_type": "markdown",
   "metadata": {
    "id": "RjZIMZ4jB90d"
   },
   "source": [
    "### `String index out of range` error"
   ]
  },
  {
   "cell_type": "markdown",
   "metadata": {
    "id": "zVcPsU53B90e"
   },
   "source": [
    "You will get a python error if you attempt to index beyond the end of a string"
   ]
  },
  {
   "cell_type": "code",
   "execution_count": 11,
   "metadata": {
    "id": "gPZpyHxYB90e"
   },
   "outputs": [
    {
     "ename": "IndexError",
     "evalue": "string index out of range",
     "output_type": "error",
     "traceback": [
      "\u001b[1;31m---------------------------------------------------------------------------\u001b[0m",
      "\u001b[1;31mIndexError\u001b[0m                                Traceback (most recent call last)",
      "Cell \u001b[1;32mIn[11], line 2\u001b[0m\n\u001b[0;32m      1\u001b[0m connection \u001b[38;5;241m=\u001b[39m \u001b[38;5;124m'\u001b[39m\u001b[38;5;124mwifi\u001b[39m\u001b[38;5;124m'\u001b[39m\n\u001b[1;32m----> 2\u001b[0m \u001b[38;5;28mprint\u001b[39m(connection[\u001b[38;5;241m4\u001b[39m])\n",
      "\u001b[1;31mIndexError\u001b[0m: string index out of range"
     ]
    }
   ],
   "source": [
    "connection = 'wifi'\n",
    "print(connection[4])\n",
    "\n"
   ]
  },
  {
   "cell_type": "code",
   "execution_count": 12,
   "metadata": {
    "id": "1rV-hRR0B90e"
   },
   "outputs": [
    {
     "data": {
      "text/plain": [
       "'i'"
      ]
     },
     "execution_count": 12,
     "metadata": {},
     "output_type": "execute_result"
    }
   ],
   "source": [
    "connection[3]"
   ]
  },
  {
   "cell_type": "markdown",
   "metadata": {
    "id": "rvn2XlcgB90e"
   },
   "source": [
    "### String Length"
   ]
  },
  {
   "cell_type": "markdown",
   "metadata": {
    "id": "xeser0FbB90f"
   },
   "source": [
    "`len` is a built-in function that returns the number of characters in a string:"
   ]
  },
  {
   "cell_type": "code",
   "execution_count": 13,
   "metadata": {
    "id": "5E1X5xySB90f"
   },
   "outputs": [
    {
     "name": "stdout",
     "output_type": "stream",
     "text": [
      "6\n"
     ]
    }
   ],
   "source": [
    "fruit = 'banana'\n",
    "print(len(fruit))"
   ]
  },
  {
   "cell_type": "markdown",
   "metadata": {
    "id": "P8bWKzJzB90f"
   },
   "source": [
    "How do we access to the end of the string?"
   ]
  },
  {
   "cell_type": "code",
   "execution_count": 14,
   "metadata": {
    "id": "CZd6k2pIB90f"
   },
   "outputs": [
    {
     "data": {
      "text/plain": [
       "'a'"
      ]
     },
     "execution_count": 14,
     "metadata": {},
     "output_type": "execute_result"
    }
   ],
   "source": [
    "length = len(fruit)\n",
    "fruit[length-1]\n",
    "\n"
   ]
  },
  {
   "cell_type": "markdown",
   "metadata": {
    "id": "O-fWJ1-tB90r"
   },
   "source": [
    "The easier way is to use negative indexing mentioned a while ago."
   ]
  },
  {
   "cell_type": "code",
   "execution_count": 15,
   "metadata": {
    "id": "lTI38CiaB90r"
   },
   "outputs": [
    {
     "data": {
      "text/plain": [
       "'a'"
      ]
     },
     "execution_count": 15,
     "metadata": {},
     "output_type": "execute_result"
    }
   ],
   "source": [
    "fruit[-1]"
   ]
  },
  {
   "cell_type": "markdown",
   "metadata": {
    "id": "k3k28QxAB90s"
   },
   "source": [
    "Be careful not to do the following:"
   ]
  },
  {
   "cell_type": "code",
   "execution_count": 2,
   "metadata": {
    "id": "hKemxBGKB90s"
   },
   "outputs": [
    {
     "ename": "NameError",
     "evalue": "name 'fruit' is not defined",
     "output_type": "error",
     "traceback": [
      "\u001b[1;31m---------------------------------------------------------------------------\u001b[0m",
      "\u001b[1;31mNameError\u001b[0m                                 Traceback (most recent call last)",
      "Cell \u001b[1;32mIn[2], line 1\u001b[0m\n\u001b[1;32m----> 1\u001b[0m last \u001b[38;5;241m=\u001b[39m \u001b[38;5;28mlen\u001b[39m(fruit)\n\u001b[0;32m      2\u001b[0m fruit[last]\n",
      "\u001b[1;31mNameError\u001b[0m: name 'fruit' is not defined"
     ]
    }
   ],
   "source": [
    "last = len(fruit)\n",
    "fruit[last]"
   ]
  },
  {
   "cell_type": "markdown",
   "metadata": {
    "id": "mcm7MQG0B90s"
   },
   "source": [
    "### Looping through strings using `for`"
   ]
  },
  {
   "cell_type": "markdown",
   "metadata": {
    "id": "3h4vptQBB90t"
   },
   "source": [
    "You can access each character in a string using a `for` loop"
   ]
  },
  {
   "cell_type": "code",
   "execution_count": 7,
   "metadata": {
    "id": "aMoCRIFoB90t",
    "scrolled": true
   },
   "outputs": [
    {
     "name": "stdout",
     "output_type": "stream",
     "text": [
      "b\n",
      "a\n",
      "n\n",
      "a\n",
      "n\n",
      "a\n",
      "['b', 'a', 'n', 'a', 'n', 'a']\n"
     ]
    }
   ],
   "source": [
    "fruit = 'banana'\n",
    "f = []\n",
    "for letter in fruit :\n",
    "    f.append(letter)\n",
    "    print(letter)\n",
    "print(f)"
   ]
  },
  {
   "cell_type": "markdown",
   "metadata": {
    "id": "OcVT5kImB90t"
   },
   "source": [
    "## More String Operations"
   ]
  },
  {
   "cell_type": "markdown",
   "metadata": {
    "id": "9hiGlPP7B90t"
   },
   "source": [
    "### Slicing Strings"
   ]
  },
  {
   "cell_type": "markdown",
   "metadata": {
    "id": "KTqz-2OWB90u"
   },
   "source": [
    "A segment of a string is called a slice."
   ]
  },
  {
   "cell_type": "markdown",
   "metadata": {
    "id": "P2sOfEs4B90u"
   },
   "source": [
    "- Slices are defined using a colon (`:`) operator.\n",
    "- If `s` is a string, `s[n:m]` defines a segment from the `n`th index **up to**, but __not including__, the `m`th index\n",
    "- mnemonic that could be used: the right `slice` of bread looks like `[)`\n"
   ]
  },
  {
   "cell_type": "code",
   "execution_count": 18,
   "metadata": {
    "id": "ElogmoW2B90u"
   },
   "outputs": [],
   "source": [
    "s = 'Monty Python'"
   ]
  },
  {
   "cell_type": "markdown",
   "metadata": {
    "id": "tQQeVrkZB90u"
   },
   "source": [
    "Let's get the string index of each character in the string."
   ]
  },
  {
   "cell_type": "code",
   "execution_count": 19,
   "metadata": {
    "id": "7-6WWtVLB90u"
   },
   "outputs": [
    {
     "name": "stdout",
     "output_type": "stream",
     "text": [
      "i  char\n",
      "-------\n",
      "0  M\n",
      "1  o\n",
      "2  n\n",
      "3  t\n",
      "4  y\n",
      "5   \n",
      "6  P\n",
      "7  y\n",
      "8  t\n",
      "9  h\n",
      "10  o\n",
      "11  n\n"
     ]
    }
   ],
   "source": [
    "i =0\n",
    "print('i  char')\n",
    "print('-------')\n",
    "for char in s:\n",
    "    print(i,' '+char)\n",
    "    i = i + 1\n",
    "\n"
   ]
  },
  {
   "cell_type": "markdown",
   "metadata": {
    "id": "1PVRwM6FB90v"
   },
   "source": [
    "Now let's produce string some string slices."
   ]
  },
  {
   "cell_type": "code",
   "execution_count": 20,
   "metadata": {
    "id": "cSQpW9_SB90v"
   },
   "outputs": [
    {
     "name": "stdout",
     "output_type": "stream",
     "text": [
      "Mont\n"
     ]
    }
   ],
   "source": [
    "print(s[0:4])"
   ]
  },
  {
   "cell_type": "code",
   "execution_count": 21,
   "metadata": {
    "id": "_RiiwV_AB90v"
   },
   "outputs": [
    {
     "name": "stdout",
     "output_type": "stream",
     "text": [
      "P\n"
     ]
    }
   ],
   "source": [
    "print(s[6:7])"
   ]
  },
  {
   "cell_type": "markdown",
   "metadata": {
    "id": "huEF1EPPB90v"
   },
   "source": [
    "If we leave off the **first number** of the slice, it is assumed to be the **beginning** of the string."
   ]
  },
  {
   "cell_type": "code",
   "execution_count": 22,
   "metadata": {
    "id": "SVVGbBZCB90y"
   },
   "outputs": [
    {
     "name": "stdout",
     "output_type": "stream",
     "text": [
      "Mo\n"
     ]
    }
   ],
   "source": [
    "print(s[:2])"
   ]
  },
  {
   "cell_type": "markdown",
   "metadata": {
    "id": "lEhsOy7ZB90y"
   },
   "source": [
    "If we leave off the **last number** of the slice, it is assumed to be the **end** of the string."
   ]
  },
  {
   "cell_type": "code",
   "execution_count": null,
   "metadata": {
    "id": "A76nvW4pB90z"
   },
   "outputs": [],
   "source": [
    "print(s[8:])"
   ]
  },
  {
   "cell_type": "markdown",
   "metadata": {
    "id": "z-nwvCpOB90z"
   },
   "source": [
    "If we leave both the **first number and last number** of the slice, we will get the  **whole** string."
   ]
  },
  {
   "cell_type": "code",
   "execution_count": 23,
   "metadata": {
    "id": "xaNHDj6VB90z"
   },
   "outputs": [
    {
     "name": "stdout",
     "output_type": "stream",
     "text": [
      "Monty Python\n"
     ]
    }
   ],
   "source": [
    "print(s[:])"
   ]
  },
  {
   "cell_type": "markdown",
   "metadata": {
    "id": "T7db1dNOB900"
   },
   "source": [
    "Slices also work with negative indexing"
   ]
  },
  {
   "cell_type": "code",
   "execution_count": 24,
   "metadata": {
    "id": "oPyyb2I_B900"
   },
   "outputs": [
    {
     "data": {
      "text/plain": [
       "'Monty Pytho'"
      ]
     },
     "execution_count": 24,
     "metadata": {},
     "output_type": "execute_result"
    }
   ],
   "source": [
    "s[:-1]"
   ]
  },
  {
   "cell_type": "code",
   "execution_count": 25,
   "metadata": {
    "id": "fZ2HWkZqB900"
   },
   "outputs": [
    {
     "data": {
      "text/plain": [
       "'hon'"
      ]
     },
     "execution_count": 25,
     "metadata": {},
     "output_type": "execute_result"
    }
   ],
   "source": [
    "s[-3:]"
   ]
  },
  {
   "cell_type": "markdown",
   "metadata": {
    "id": "D6kprhhNB900"
   },
   "source": [
    "### Strings are Immutable"
   ]
  },
  {
   "cell_type": "markdown",
   "metadata": {
    "id": "J3Tg08lhB901"
   },
   "source": [
    "It is not possible to give a new value to an character in a string.\n",
    "\n"
   ]
  },
  {
   "cell_type": "code",
   "execution_count": 26,
   "metadata": {
    "id": "uJw5HJaVB901"
   },
   "outputs": [
    {
     "ename": "TypeError",
     "evalue": "'str' object does not support item assignment",
     "output_type": "error",
     "traceback": [
      "\u001b[1;31m---------------------------------------------------------------------------\u001b[0m",
      "\u001b[1;31mTypeError\u001b[0m                                 Traceback (most recent call last)",
      "Cell \u001b[1;32mIn[26], line 2\u001b[0m\n\u001b[0;32m      1\u001b[0m greeting \u001b[38;5;241m=\u001b[39m \u001b[38;5;124m'\u001b[39m\u001b[38;5;124mYello, world!\u001b[39m\u001b[38;5;124m'\u001b[39m\n\u001b[1;32m----> 2\u001b[0m greeting[\u001b[38;5;241m0\u001b[39m] \u001b[38;5;241m=\u001b[39m \u001b[38;5;124m'\u001b[39m\u001b[38;5;124mH\u001b[39m\u001b[38;5;124m'\u001b[39m\n",
      "\u001b[1;31mTypeError\u001b[0m: 'str' object does not support item assignment"
     ]
    }
   ],
   "source": [
    "greeting = 'Yello, world!'\n",
    "greeting[0] = 'H'"
   ]
  },
  {
   "cell_type": "markdown",
   "metadata": {
    "id": "WL2xQwQzB901"
   },
   "source": [
    "Nor is it possible to assign a new value to a slice of a string."
   ]
  },
  {
   "cell_type": "code",
   "execution_count": 27,
   "metadata": {
    "id": "dpM9dZtoB901"
   },
   "outputs": [
    {
     "ename": "TypeError",
     "evalue": "'str' object does not support item assignment",
     "output_type": "error",
     "traceback": [
      "\u001b[1;31m---------------------------------------------------------------------------\u001b[0m",
      "\u001b[1;31mTypeError\u001b[0m                                 Traceback (most recent call last)",
      "Cell \u001b[1;32mIn[27], line 1\u001b[0m\n\u001b[1;32m----> 1\u001b[0m greeting[\u001b[38;5;241m0\u001b[39m:\u001b[38;5;241m5\u001b[39m] \u001b[38;5;241m=\u001b[39m  \u001b[38;5;124m'\u001b[39m\u001b[38;5;124mHello\u001b[39m\u001b[38;5;124m'\u001b[39m\n",
      "\u001b[1;31mTypeError\u001b[0m: 'str' object does not support item assignment"
     ]
    }
   ],
   "source": [
    "greeting[0:5] =  'Hello'"
   ]
  },
  {
   "cell_type": "markdown",
   "metadata": {
    "id": "xViycYHVB902"
   },
   "source": [
    "To \"modify\" a string in python, a new string has to be made:"
   ]
  },
  {
   "cell_type": "code",
   "execution_count": 28,
   "metadata": {
    "id": "ZNTXcCIzB902",
    "scrolled": true
   },
   "outputs": [
    {
     "name": "stdout",
     "output_type": "stream",
     "text": [
      "Hello, world!\n"
     ]
    }
   ],
   "source": [
    "new_greeting = 'H' + greeting[1:]\n",
    "print(new_greeting)"
   ]
  },
  {
   "cell_type": "markdown",
   "metadata": {
    "id": "gu4qWu8CB902"
   },
   "source": [
    "### String Concatenation"
   ]
  },
  {
   "cell_type": "markdown",
   "metadata": {
    "id": "6YxyigkLB902"
   },
   "source": [
    "When the  `+`  operator is applied to strings, it means “concatenation”"
   ]
  },
  {
   "cell_type": "code",
   "execution_count": 29,
   "metadata": {
    "id": "IBx6cG5LB903"
   },
   "outputs": [
    {
     "name": "stdout",
     "output_type": "stream",
     "text": [
      "HelloThere\n"
     ]
    }
   ],
   "source": [
    "a = 'Hello'\n",
    "b = a + 'There'\n",
    "print(b)"
   ]
  },
  {
   "cell_type": "code",
   "execution_count": 30,
   "metadata": {
    "id": "jhHyD8niB904"
   },
   "outputs": [
    {
     "name": "stdout",
     "output_type": "stream",
     "text": [
      "Hello There\n"
     ]
    }
   ],
   "source": [
    "c = a + ' ' + 'There'\n",
    "print(c)"
   ]
  },
  {
   "cell_type": "markdown",
   "metadata": {
    "id": "G2kb-D7yB904"
   },
   "source": [
    "## String Library"
   ]
  },
  {
   "cell_type": "markdown",
   "metadata": {
    "id": "aSsGdn_7B905"
   },
   "source": [
    "- Python has a number of string functions which are in the `string` library\n",
    "- These functions are already built into every string - we invoke them by _appending the function to the string variable_\n",
    "- These functions __do not modify__ the original string, instead they return a new string that has been altered"
   ]
  },
  {
   "cell_type": "markdown",
   "metadata": {
    "id": "UjoIpP-wB905"
   },
   "source": [
    "Below are examples of some of the useful string functions."
   ]
  },
  {
   "cell_type": "markdown",
   "metadata": {
    "id": "jPv3o18eB905"
   },
   "source": [
    "#### lower case with function `lower()`"
   ]
  },
  {
   "cell_type": "code",
   "execution_count": 31,
   "metadata": {
    "id": "FtDPeLn5B905"
   },
   "outputs": [
    {
     "name": "stdout",
     "output_type": "stream",
     "text": [
      "enero, febrero, marzo\n"
     ]
    }
   ],
   "source": [
    "text = 'Enero, Febrero, Marzo'\n",
    "spanish_months = text.lower()\n",
    "print(spanish_months)"
   ]
  },
  {
   "cell_type": "markdown",
   "metadata": {
    "id": "0y-sYD1AB906"
   },
   "source": [
    "#### UPPER CASE with function `upper()`"
   ]
  },
  {
   "cell_type": "code",
   "execution_count": 32,
   "metadata": {
    "id": "tr3MLqF1B906"
   },
   "outputs": [
    {
     "data": {
      "text/plain": [
       "'HELLO BOB'"
      ]
     },
     "execution_count": 32,
     "metadata": {},
     "output_type": "execute_result"
    }
   ],
   "source": [
    "greeting = 'Hello Bob'\n",
    "greeting.upper()"
   ]
  },
  {
   "cell_type": "markdown",
   "metadata": {
    "id": "lqHwEpAbB906"
   },
   "source": [
    "#### Stripping Whitespaces with functions `lstrip()`, `rstrip()`, and `strip()`"
   ]
  },
  {
   "cell_type": "code",
   "execution_count": 33,
   "metadata": {
    "id": "wrupSkbXB907"
   },
   "outputs": [],
   "source": [
    "greeting = '   Hello Bob  '"
   ]
  },
  {
   "cell_type": "code",
   "execution_count": 34,
   "metadata": {
    "id": "n_SyLIKqB907"
   },
   "outputs": [
    {
     "data": {
      "text/plain": [
       "'Hello Bob  '"
      ]
     },
     "execution_count": 34,
     "metadata": {},
     "output_type": "execute_result"
    }
   ],
   "source": [
    "greeting.lstrip()"
   ]
  },
  {
   "cell_type": "code",
   "execution_count": 35,
   "metadata": {
    "id": "t4piK4XgB908"
   },
   "outputs": [
    {
     "data": {
      "text/plain": [
       "'   Hello Bob'"
      ]
     },
     "execution_count": 35,
     "metadata": {},
     "output_type": "execute_result"
    }
   ],
   "source": [
    "greeting.rstrip()"
   ]
  },
  {
   "cell_type": "code",
   "execution_count": 36,
   "metadata": {
    "id": "CouvehzuB909"
   },
   "outputs": [
    {
     "data": {
      "text/plain": [
       "'Hello Bob'"
      ]
     },
     "execution_count": 36,
     "metadata": {},
     "output_type": "execute_result"
    }
   ],
   "source": [
    "greeting.strip()"
   ]
  },
  {
   "cell_type": "markdown",
   "metadata": {
    "id": "JxbbtGX4B909"
   },
   "source": [
    "#### Splitting the words with `split()`"
   ]
  },
  {
   "cell_type": "markdown",
   "metadata": {
    "id": "ZH4aURk6B909"
   },
   "source": [
    "This operation returns a **list** data type containing the words in the string. We will talk about lists in a later chapter."
   ]
  },
  {
   "cell_type": "code",
   "execution_count": 37,
   "metadata": {
    "id": "Ks5Iv6wqB90-"
   },
   "outputs": [
    {
     "data": {
      "text/plain": [
       "['One',\n",
       " 'ring',\n",
       " 'to',\n",
       " 'rule',\n",
       " 'them',\n",
       " 'all,',\n",
       " 'one',\n",
       " 'ring',\n",
       " 'to',\n",
       " 'find',\n",
       " 'them.']"
      ]
     },
     "execution_count": 37,
     "metadata": {},
     "output_type": "execute_result"
    }
   ],
   "source": [
    "quotation = 'One ring to rule them all, one ring to find them.'\n",
    "quotation.split()"
   ]
  },
  {
   "cell_type": "markdown",
   "metadata": {
    "id": "bFLNFX6sB90-"
   },
   "source": [
    "### Formating Strings"
   ]
  },
  {
   "cell_type": "markdown",
   "metadata": {
    "id": "ZvNu1KA1B90-"
   },
   "source": [
    "#### Formatting strings with `format()`"
   ]
  },
  {
   "cell_type": "markdown",
   "metadata": {
    "id": "hZyZcK5nB90-"
   },
   "source": [
    "An simple intuitive way of printing a combination of string and variable values is to use the `format` string function.\n",
    "\n",
    "Steps\n",
    "- Create a string with desired text\n",
    "- Put **curly braces** in positions where you'd like variable values to appear.  \n",
    "- Invoke the `format` operation, and pass the variables you want to be displayed. The variable values will be displayed in the sequence with which they are passed to the `format` function."
   ]
  },
  {
   "cell_type": "code",
   "execution_count": 38,
   "metadata": {
    "id": "daBRCh8jB90_"
   },
   "outputs": [
    {
     "data": {
      "text/plain": [
       "'4 scores and  7 years ago'"
      ]
     },
     "execution_count": 38,
     "metadata": {},
     "output_type": "execute_result"
    }
   ],
   "source": [
    "speech = '{} scores and  {} years ago'\n",
    "speech.format(4, 7)\n",
    "\n"
   ]
  },
  {
   "cell_type": "markdown",
   "metadata": {
    "id": "VNpG7StLB90_"
   },
   "source": [
    "The code below accomplishes the same thing, without the extra assignment statement."
   ]
  },
  {
   "cell_type": "code",
   "execution_count": 39,
   "metadata": {
    "id": "Ce1Xrk0DB90_"
   },
   "outputs": [
    {
     "data": {
      "text/plain": [
       "'4 scores and  7 years ago'"
      ]
     },
     "execution_count": 39,
     "metadata": {},
     "output_type": "execute_result"
    }
   ],
   "source": [
    "'{} scores and  {} years ago'.format(4, 7)"
   ]
  },
  {
   "cell_type": "code",
   "execution_count": 40,
   "metadata": {
    "id": "e5Zxkoi8B91A"
   },
   "outputs": [
    {
     "data": {
      "text/plain": [
       "'512 divided by 3 equals 170.66666666666666'"
      ]
     },
     "execution_count": 40,
     "metadata": {},
     "output_type": "execute_result"
    }
   ],
   "source": [
    "'{} divided by {} equals {}'.format(512, 3, 512/3)\n"
   ]
  },
  {
   "cell_type": "markdown",
   "metadata": {
    "id": "s5hibJjaB91A"
   },
   "source": [
    "#### Other useful string operations"
   ]
  },
  {
   "cell_type": "markdown",
   "metadata": {
    "id": "q5t35_hfB91A"
   },
   "source": [
    "    startswith()\n",
    "    endswith()\n",
    "    capitalize()\n",
    "    center()\n",
    "    find()\n",
    "    replace()"
   ]
  },
  {
   "cell_type": "markdown",
   "metadata": {
    "id": "sikgqYgrB91B"
   },
   "source": [
    "####  strings and the `print` function"
   ]
  },
  {
   "cell_type": "markdown",
   "metadata": {
    "id": "MQ_0gLyiB91B"
   },
   "source": [
    "The print statement concatenates strings with a space [JRJ]"
   ]
  },
  {
   "cell_type": "code",
   "execution_count": 41,
   "metadata": {
    "id": "uCx7Nw_wB91C"
   },
   "outputs": [
    {
     "name": "stdout",
     "output_type": "stream",
     "text": [
      "str1 str2 str3\n"
     ]
    }
   ],
   "source": [
    "print(\"str1\", \"str2\", \"str3\")"
   ]
  },
  {
   "cell_type": "markdown",
   "metadata": {
    "id": "IHJxk6WxB91C"
   },
   "source": [
    "The print statement converts all arguments to strings  [JRJ]"
   ]
  },
  {
   "cell_type": "code",
   "execution_count": 42,
   "metadata": {
    "id": "2J4jf-kPB91D",
    "scrolled": false
   },
   "outputs": [
    {
     "name": "stdout",
     "output_type": "stream",
     "text": [
      "str1 1.123456 True 25\n"
     ]
    }
   ],
   "source": [
    "print(\"str1\", round(1.123456, 6), True or False, 5**2)"
   ]
  },
  {
   "cell_type": "markdown",
   "metadata": {
    "id": "J6huvWdiB91D"
   },
   "source": [
    "## Getting Help on Strings"
   ]
  },
  {
   "cell_type": "markdown",
   "metadata": {
    "id": "dbt77Mw5B91D"
   },
   "source": [
    "#### `dir()` function to get a list of string operations"
   ]
  },
  {
   "cell_type": "markdown",
   "metadata": {
    "id": "GnEaYjI6B91E",
    "scrolled": true
   },
   "source": [
    "You can get a list of functions (or methods) on strings by using the `dir()` function on a string literal. Functions that start and end with double underscores (`__`) are special methods used by Python. Disregard them for the meantime."
   ]
  },
  {
   "cell_type": "code",
   "execution_count": 43,
   "metadata": {
    "id": "OTfZj5puB91E",
    "scrolled": false
   },
   "outputs": [
    {
     "data": {
      "text/plain": [
       "['__add__',\n",
       " '__class__',\n",
       " '__contains__',\n",
       " '__delattr__',\n",
       " '__dir__',\n",
       " '__doc__',\n",
       " '__eq__',\n",
       " '__format__',\n",
       " '__ge__',\n",
       " '__getattribute__',\n",
       " '__getitem__',\n",
       " '__getnewargs__',\n",
       " '__getstate__',\n",
       " '__gt__',\n",
       " '__hash__',\n",
       " '__init__',\n",
       " '__init_subclass__',\n",
       " '__iter__',\n",
       " '__le__',\n",
       " '__len__',\n",
       " '__lt__',\n",
       " '__mod__',\n",
       " '__mul__',\n",
       " '__ne__',\n",
       " '__new__',\n",
       " '__reduce__',\n",
       " '__reduce_ex__',\n",
       " '__repr__',\n",
       " '__rmod__',\n",
       " '__rmul__',\n",
       " '__setattr__',\n",
       " '__sizeof__',\n",
       " '__str__',\n",
       " '__subclasshook__',\n",
       " 'capitalize',\n",
       " 'casefold',\n",
       " 'center',\n",
       " 'count',\n",
       " 'encode',\n",
       " 'endswith',\n",
       " 'expandtabs',\n",
       " 'find',\n",
       " 'format',\n",
       " 'format_map',\n",
       " 'index',\n",
       " 'isalnum',\n",
       " 'isalpha',\n",
       " 'isascii',\n",
       " 'isdecimal',\n",
       " 'isdigit',\n",
       " 'isidentifier',\n",
       " 'islower',\n",
       " 'isnumeric',\n",
       " 'isprintable',\n",
       " 'isspace',\n",
       " 'istitle',\n",
       " 'isupper',\n",
       " 'join',\n",
       " 'ljust',\n",
       " 'lower',\n",
       " 'lstrip',\n",
       " 'maketrans',\n",
       " 'partition',\n",
       " 'removeprefix',\n",
       " 'removesuffix',\n",
       " 'replace',\n",
       " 'rfind',\n",
       " 'rindex',\n",
       " 'rjust',\n",
       " 'rpartition',\n",
       " 'rsplit',\n",
       " 'rstrip',\n",
       " 'split',\n",
       " 'splitlines',\n",
       " 'startswith',\n",
       " 'strip',\n",
       " 'swapcase',\n",
       " 'title',\n",
       " 'translate',\n",
       " 'upper',\n",
       " 'zfill']"
      ]
     },
     "execution_count": 43,
     "metadata": {},
     "output_type": "execute_result"
    }
   ],
   "source": [
    "my_string = 'Hello world'\n",
    "dir(my_string)"
   ]
  },
  {
   "cell_type": "markdown",
   "metadata": {
    "id": "gzS96ue1B91E"
   },
   "source": [
    "Below is a listing of string methods with the special methods removed."
   ]
  },
  {
   "cell_type": "markdown",
   "metadata": {
    "id": "tYowOXVAB91F"
   },
   "source": [
    "    ['capitalize', 'casefold', 'center', 'count', 'encode', 'endswith', 'expandtabs', 'find', 'format', 'format_map', 'index', 'isalnum', 'isalpha', 'isdecimal', 'isdigit', 'isidentifier', 'islower', 'isnumeric', 'isprintable', 'isspace', 'istitle', 'isupper', 'join', 'ljust', 'lower', 'lstrip', 'maketrans', 'partition', 'replace', 'rfind', 'rindex', 'rjust', 'rpartition', 'rsplit', 'rstrip', 'split', 'splitlines', 'startswith', 'strip', 'swapcase', 'title', 'translate', 'upper', 'zfill']"
   ]
  },
  {
   "cell_type": "markdown",
   "metadata": {
    "id": "c4hBB-goB91F"
   },
   "source": [
    "#### Using the `help()` function"
   ]
  },
  {
   "cell_type": "markdown",
   "metadata": {
    "id": "AHcmXGaWB91F"
   },
   "source": [
    "A way to get help is by calling the `help()` function. To use it, just pass `s.method` as argument to the function (where `s` is a string variable and `method` is the method you want to get help on. See example below."
   ]
  },
  {
   "cell_type": "code",
   "execution_count": 44,
   "metadata": {
    "id": "D8AWPq9OB91G"
   },
   "outputs": [],
   "source": [
    "s = \"some_text\""
   ]
  },
  {
   "cell_type": "code",
   "execution_count": null,
   "metadata": {
    "id": "SXglD-irB91G",
    "scrolled": true
   },
   "outputs": [],
   "source": [
    "help(s.index)"
   ]
  },
  {
   "cell_type": "markdown",
   "metadata": {
    "id": "GePXWW7_B91G"
   },
   "source": [
    "#### `?` in  Jupyter notebooks"
   ]
  },
  {
   "cell_type": "markdown",
   "metadata": {
    "id": "srXAcDfuB91H"
   },
   "source": [
    "In Jupyter, you could get help putting a question mark before or after a valid method call."
   ]
  },
  {
   "cell_type": "code",
   "execution_count": null,
   "metadata": {
    "id": "pjHBqvUvB91H"
   },
   "outputs": [],
   "source": [
    "?s.startswith"
   ]
  },
  {
   "cell_type": "code",
   "execution_count": null,
   "metadata": {
    "id": "JHa-nUT7B91H"
   },
   "outputs": [],
   "source": [
    "s.startswith?"
   ]
  },
  {
   "cell_type": "markdown",
   "metadata": {
    "id": "X19dCS67B91I"
   },
   "source": [
    "#### **Python reference**  Lookup"
   ]
  },
  {
   "cell_type": "markdown",
   "metadata": {
    "id": "b-V4iqeWB91I"
   },
   "source": [
    "You could also get help by going to the official Python reference (go to Jupyter's Menu `Help|Python Reference`)\n"
   ]
  },
  {
   "cell_type": "markdown",
   "metadata": {
    "id": "kTEb7fq0B91I"
   },
   "source": [
    "#### Internet Lookup"
   ]
  },
  {
   "cell_type": "markdown",
   "metadata": {
    "id": "HZld_IiYB91I"
   },
   "source": [
    "A quick way to get help is by searching in the web. This is especially useful if you wan to get sample code snippets for reuse.  A useful site is `Stackoverflow`.\n",
    "\n",
    "Many times, the web results and Stackoverflow will point you to portions of the official reference.\n",
    "\n",
    "When using solutions from the web, make sure you understand what pieces of code are useful for you, how they work, and how you could adapt them to your own program (if needed).\n"
   ]
  },
  {
   "cell_type": "markdown",
   "metadata": {
    "id": "fX5PAqWXB91I"
   },
   "source": [
    "\n",
    "\n",
    "\n",
    "## Final Words"
   ]
  },
  {
   "cell_type": "markdown",
   "metadata": {
    "id": "46ZEuu8XB91J"
   },
   "source": [
    "- String manipulation is important for reading data,  especially data that still needs cleaning\n",
    "- Slicing is an important skill to learn as it is also applicable to vectors, matrices, Series and Dataframes\n",
    "- A big part of problem solving is done by identifying what tool to use and how to use it. For this, knowing how and where to get help is essential.\n",
    "- The portion of this chapter on getting help on strings is also applicable to the other python modules we'll learn in the upcoming lessons.\n"
   ]
  },
  {
   "cell_type": "markdown",
   "metadata": {
    "id": "zf9nwIXTB91K"
   },
   "source": [
    "## EXERCISES"
   ]
  },
  {
   "cell_type": "markdown",
   "metadata": {
    "id": "EKW_nuUlB91K"
   },
   "source": [
    "#### Exercise 1"
   ]
  },
  {
   "cell_type": "markdown",
   "metadata": {
    "id": "DWrz3R0nB91L"
   },
   "source": [
    "Given the code below    \n",
    "\n",
    "    text = 'Business Analytics'\n",
    "\n",
    "What will the following expressions produce?\n",
    "    \n",
    "    text[4]\n",
    "    text[2:4]\n",
    "    text[:4]\n",
    "    text[4:]\n",
    "    text[-2]\n",
    "    text[-4:-2]\n",
    "    text[-2:]\n",
    "    text[:-2]\n",
    "    "
   ]
  },
  {
   "cell_type": "code",
   "execution_count": 45,
   "metadata": {
    "scrolled": true
   },
   "outputs": [
    {
     "name": "stdout",
     "output_type": "stream",
     "text": [
      "n\n",
      "si\n",
      "ness Analytics\n",
      "Busi\n",
      "c\n",
      "ti\n",
      "cs\n",
      "Business Analyti\n"
     ]
    }
   ],
   "source": [
    "text = 'Business Analytics'\n",
    "print(text[4])  # n\n",
    "print(text[2:4]) # si\n",
    "print(text[4:]) # ness Analytics\n",
    "print(text[:4]) # Busi\n",
    "print(text[-2]) # c\n",
    "print(text[-4:-2]) # ti\n",
    "print(text[-2:]) # cs\n",
    "print(text[:-2]) # Business Analyti"
   ]
  },
  {
   "cell_type": "markdown",
   "metadata": {
    "id": "UBLlCXbPB91L"
   },
   "source": [
    "#### Exercise 2"
   ]
  },
  {
   "cell_type": "markdown",
   "metadata": {
    "id": "rpvw0PGVB91M"
   },
   "source": [
    "Given the code below:\n",
    "    \n",
    "    phrase = 'One Ring to rule them all'\n",
    "\n",
    "What string slicing expression gives out the following words:\n",
    "\n",
    "    'One '\n",
    "    'Ring'\n",
    "    'all'\n",
    "    'them'\n",
    "    'One Ring to rule them all'\n",
    "    "
   ]
  },
  {
   "cell_type": "code",
   "execution_count": 46,
   "metadata": {
    "scrolled": false
   },
   "outputs": [
    {
     "name": "stdout",
     "output_type": "stream",
     "text": [
      "One \n",
      "Ring\n",
      "all\n",
      "them\n",
      "One Ring to rule them all\n"
     ]
    }
   ],
   "source": [
    "phrase = 'One Ring to rule them all'\n",
    "print(phrase[:4])\n",
    "print(phrase[4:8])\n",
    "print(phrase[-3:])\n",
    "print(phrase[17:-4])\n",
    "print(phrase[:])"
   ]
  },
  {
   "cell_type": "markdown",
   "metadata": {
    "id": "mroCKpc9B91M"
   },
   "source": [
    "\n",
    "## CHALLENGE\n"
   ]
  },
  {
   "cell_type": "markdown",
   "metadata": {
    "id": "TL2R46CkB91M"
   },
   "source": [
    "Write a program which repeatedly reads a **full name**, then does the following:\n",
    "- strips the name of any trailing spaces\n",
    "- capitalizes the first letter\n",
    "- puts the rest into smaller letters\n"
   ]
  },
  {
   "cell_type": "code",
   "execution_count": 47,
   "metadata": {
    "scrolled": true
   },
   "outputs": [
    {
     "name": "stdout",
     "output_type": "stream",
     "text": [
      "Enter your full name: king\n",
      "King\n",
      "Enter your full name:     braga franz      \n",
      "Braga franz\n",
      "Enter your full name: FRANZ BRAGA\n",
      "Franz braga\n",
      "Enter your full name: exit\n"
     ]
    }
   ],
   "source": [
    "for i in range(10) :\n",
    "    name = input('Enter your full name: ')\n",
    "    if name == \"exit\" :\n",
    "        break\n",
    "    print(name.strip().capitalize())"
   ]
  },
  {
   "cell_type": "markdown",
   "metadata": {
    "id": "VMECb_PDB91M"
   },
   "source": [
    "[TABLE OF CONTENTS](#contents)"
   ]
  },
  {
   "cell_type": "markdown",
   "metadata": {
    "id": "qc4Xzjj2B91N"
   },
   "source": [
    "<a id='chapter8'></a>"
   ]
  },
  {
   "cell_type": "markdown",
   "metadata": {
    "id": "yzm0axT0B91N"
   },
   "source": [
    "# CHAPTER  7 - Files"
   ]
  },
  {
   "cell_type": "markdown",
   "metadata": {
    "id": "B3ntklY5B91N"
   },
   "source": [
    "Computations in a computer are done in the Main Memory. Data and computations in the main memory are lost when the computer's power is turned off. (This is why you have to reload jupyter notebooks and re-run cells after you have turned off your computer.)\n",
    "\n",
    "**Files** provide us with the ability to save data such that they could be recovered even after the computer's power is turned off. Files are saved in your computer's hard drive, a DVD or in a USB flash drive.\n"
   ]
  },
  {
   "cell_type": "code",
   "execution_count": null,
   "metadata": {
    "id": "0bec87aXB91N"
   },
   "outputs": [],
   "source": [
    "![computer_architechture.png](attachment:computer_architechture.png)"
   ]
  },
  {
   "cell_type": "markdown",
   "metadata": {
    "id": "9Ofic7O_B91N"
   },
   "source": [
    "There are many kinds of files, but in this chapter, we will only talk about text files.\n",
    "\n",
    "You could consider a text file as a sequence of strings.\n"
   ]
  },
  {
   "cell_type": "markdown",
   "metadata": {
    "id": "vh9KLXi8B91O"
   },
   "source": [
    "## Opening Files"
   ]
  },
  {
   "cell_type": "markdown",
   "metadata": {
    "id": "jJMmE4YqB91O"
   },
   "source": [
    "- Before we can read the contents of the file, we must tell Python which file we are going to work with and what we will be doing with the file\n",
    "- This is done with the `open()` function\n",
    "- `open()` returns a **file handle** - a variable used to perform operations on the file\n",
    "- Similar to “File | Open” in a Word Processor"
   ]
  },
  {
   "cell_type": "markdown",
   "metadata": {
    "id": "VkqZF9voB91O"
   },
   "source": [
    "##  The `open()` function and the file handle"
   ]
  },
  {
   "cell_type": "markdown",
   "metadata": {
    "id": "N5fG8E7kB91O"
   },
   "source": [
    "To open a file, you write code similar to the one below."
   ]
  },
  {
   "cell_type": "markdown",
   "metadata": {
    "id": "jdPRx4wHB91P"
   },
   "source": [
    "    handle = open(filename, mode)\n",
    "\n",
    "- returns a `handle` use to manipulate the file\n",
    "- `filename` is a string\n",
    "- `mode` is optional and should be `'r'` if we are planning to read the file and `'w'` if we are going to write to the file"
   ]
  },
  {
   "cell_type": "markdown",
   "metadata": {
    "id": "CNg_1IrwB91P"
   },
   "source": [
    "file_handle = open('words.txt', 'r')\n",
    "print(file_handle)"
   ]
  },
  {
   "cell_type": "markdown",
   "metadata": {
    "id": "0HSImZLZB91P"
   },
   "source": [
    "The file handle is not the actual data contained in the file, but instead it is a \"handle\" that we can use to read the data. You are given a handle if the requested file exists and you have the proper permissions to read the file."
   ]
  },
  {
   "cell_type": "markdown",
   "metadata": {
    "id": "XdmEJmn5B91P"
   },
   "source": [
    "![file_handle.png](attachment:file_handle.png)"
   ]
  },
  {
   "cell_type": "markdown",
   "metadata": {
    "id": "A70Ejb8pB91Q"
   },
   "source": [
    "If the file does not exist, open will fail with a traceback and you will not get a handle to access the contents of the file: [PEW]"
   ]
  },
  {
   "cell_type": "markdown",
   "metadata": {
    "id": "FYODOA7nB91Q"
   },
   "source": [
    "file_handle = open('some_non_existent_filename.txt')"
   ]
  },
  {
   "cell_type": "markdown",
   "metadata": {
    "id": "2wIkGxVdB91Q"
   },
   "source": [
    "##  The newline character (`'\\n'`)"
   ]
  },
  {
   "cell_type": "markdown",
   "metadata": {
    "id": "Mv_yGtzHB91Q"
   },
   "source": [
    "A text file can be thought of as a sequence of lines. To break the file into lines, there is a special character that represents the \"end of the line\" called the newline character.\n",
    "\n",
    "In Python, we represent the newline character as a `backslash-n` in string constants. Even though this looks like two characters, it is actually a single character. When we look at the variable by entering \"stuff\" in the interpreter, it shows us the `\\n` in the string, but when we use print to show the string, we see the string broken into two lines by the newline character.[PEW]"
   ]
  },
  {
   "cell_type": "markdown",
   "metadata": {
    "id": "yXk9IvXhB91Q"
   },
   "source": [
    "stuff = 'Hello\\nWorld!'\n",
    "stuff"
   ]
  },
  {
   "cell_type": "code",
   "execution_count": null,
   "metadata": {
    "id": "60vmeVRnB91R",
    "scrolled": true
   },
   "outputs": [],
   "source": [
    "print(stuff)"
   ]
  },
  {
   "cell_type": "code",
   "execution_count": null,
   "metadata": {
    "id": "e4KF9GLmB91R"
   },
   "outputs": [],
   "source": [
    "stuff = 'X\\nY'\n",
    "print(stuff)"
   ]
  },
  {
   "cell_type": "code",
   "execution_count": null,
   "metadata": {
    "id": "Y9l9tpJ_B91R"
   },
   "outputs": [],
   "source": [
    "len(stuff)"
   ]
  },
  {
   "cell_type": "markdown",
   "metadata": {
    "id": "6AwZdaprB91R"
   },
   "source": [
    "##  Reading Files"
   ]
  },
  {
   "cell_type": "markdown",
   "metadata": {
    "id": "T-AfBir7B91R"
   },
   "source": [
    "- A file handle open for reading can be treated as a sequence of strings where each line in the file is a string in the sequence\n",
    "- We can use the for statement to iterate through a sequence\n",
    "- Remember - a sequence is an ordered set"
   ]
  },
  {
   "cell_type": "code",
   "execution_count": 48,
   "metadata": {
    "id": "rTu6inO4B91S"
   },
   "outputs": [
    {
     "name": "stdout",
     "output_type": "stream",
     "text": [
      "Introduce: Hello my name is franz peter joseph d. braga\n",
      "\n",
      "Age: I'm 20 years old\n",
      "\n",
      "From: Cruz, Barotac Nuevo, Iloilo\n",
      "\n",
      "Email: franzpeterjosephbraga@gmail.com\n"
     ]
    }
   ],
   "source": [
    "f = open('untitled.txt')\n",
    "for line in f:\n",
    "    print(line)"
   ]
  },
  {
   "cell_type": "markdown",
   "metadata": {
    "id": "lAjjbG7MB91S"
   },
   "source": [
    "#### Why are there blank lines?"
   ]
  },
  {
   "cell_type": "markdown",
   "metadata": {
    "id": "wpA2hA_ZB91S"
   },
   "source": [
    "Each line from the file has a newline at the end: The `print` statement adds a newline to each line.\n",
    "We can strip the whitespace from the right-hand side of the string using `rstrip()` from the string library. The newline is considered “white space” and is stripped"
   ]
  },
  {
   "cell_type": "code",
   "execution_count": 49,
   "metadata": {
    "id": "8GY0k-AzB91T"
   },
   "outputs": [
    {
     "name": "stdout",
     "output_type": "stream",
     "text": [
      "Introduce: Hello my name is franz peter joseph d. braga\n",
      "Age: I'm 20 years old\n",
      "From: Cruz, Barotac Nuevo, Iloilo\n",
      "Email: franzpeterjosephbraga@gmail.com\n"
     ]
    }
   ],
   "source": [
    "f = open('untitled.txt')\n",
    "for line in f:\n",
    "    line = line.rstrip()\n",
    "    print(line)"
   ]
  },
  {
   "cell_type": "markdown",
   "metadata": {
    "id": "KEeB4WBGB91T"
   },
   "source": [
    "#### Reading the whole file"
   ]
  },
  {
   "cell_type": "markdown",
   "metadata": {
    "id": "Og2jVUwfB91T"
   },
   "source": [
    "We can read the entire file in one go with the `read()` method"
   ]
  },
  {
   "cell_type": "code",
   "execution_count": 50,
   "metadata": {
    "id": "_4H8q67ZB91T"
   },
   "outputs": [
    {
     "name": "stdout",
     "output_type": "stream",
     "text": [
      "150\n"
     ]
    }
   ],
   "source": [
    "f = open('untitled.txt')\n",
    "text = f.read()\n",
    "print(len(text))\n"
   ]
  },
  {
   "cell_type": "markdown",
   "metadata": {
    "id": "1AouwTh0B91T"
   },
   "source": [
    "### Searching through a file"
   ]
  },
  {
   "cell_type": "markdown",
   "metadata": {
    "id": "Z0ZPRgiWB91U"
   },
   "source": [
    "Our example file for this exercise is [mbox-short.txt](www.py4e.com/code3/mbox-short.txt), a text file that records mail activity for a project. Try viewing the contents of `mbox-short.txt` using your terminal.\n",
    "Our task is to extract all the email addresses from the text file."
   ]
  },
  {
   "cell_type": "markdown",
   "metadata": {
    "id": "tzmbpZalB91U"
   },
   "source": [
    "When you are searching through data in a file, it is a very common pattern to read through a file, ignoring most of the lines and only processing lines which meet a particular condition. We can combine the pattern for reading a file with string methods to build simple search mechanisms."
   ]
  },
  {
   "cell_type": "code",
   "execution_count": 51,
   "metadata": {
    "id": "Ng3279DhB91U"
   },
   "outputs": [
    {
     "name": "stdout",
     "output_type": "stream",
     "text": [
      "From: Cruz, Barotac Nuevo, Iloilo\n"
     ]
    }
   ],
   "source": [
    "fhand = open('untitled.txt')\n",
    "count = 0\n",
    "for line in fhand:\n",
    "    if line.startswith('From:'):\n",
    "        line = line.rstrip()\n",
    "        print(line)"
   ]
  },
  {
   "cell_type": "markdown",
   "metadata": {
    "id": "UvqkHkSzB91U"
   },
   "source": [
    "We can use the `find` string method to simulate a text editor search that finds lines where the search string is anywhere in the line. Since find looks for an occurrence of a string within another string and either returns the position of the string or `-1` if the string was not found, we can write the following loop to show lines which contain the string **\"@uct.ac.za\"** (i.e., they come from the University of Cape Town in South Africa)"
   ]
  },
  {
   "cell_type": "code",
   "execution_count": 52,
   "metadata": {
    "id": "JSjdK1okB91V",
    "scrolled": true
   },
   "outputs": [
    {
     "name": "stdout",
     "output_type": "stream",
     "text": [
      "Introduce: Hello my name is franz peter joseph d. braga\n",
      "From: Cruz, Barotac Nuevo, Iloilo\n",
      "Email: franzpeterjosephbraga@gmail.com\n"
     ]
    }
   ],
   "source": [
    "fhand = open('untitled.txt')\n",
    "for line in fhand:\n",
    "    line = line.rstrip()\n",
    "    if line.find('@gmail.com') == -1:\n",
    "        if line.find('Intro') == -1:\n",
    "            if line.find('From:') == -1 :\n",
    "                continue\n",
    "    print(line)"
   ]
  },
  {
   "cell_type": "markdown",
   "metadata": {
    "id": "shOZMgFUB91V"
   },
   "source": [
    "### Using `try`, `except`, and `open`"
   ]
  },
  {
   "cell_type": "markdown",
   "metadata": {
    "id": "9cy27HhEB91V"
   },
   "source": [
    "Handling files easily lends itself to run time errors, especially when the file you are trying to open does not exist. To prevent run time errors, it is a good practice to put the `open` command of a file inside a `try-except` block."
   ]
  },
  {
   "cell_type": "markdown",
   "metadata": {
    "id": "K6P2ndZrB91W"
   },
   "source": [
    "Execute the code below, entering a name of a file that does not exist."
   ]
  },
  {
   "cell_type": "code",
   "execution_count": 53,
   "metadata": {
    "id": "ax6pJLkrB91W"
   },
   "outputs": [
    {
     "name": "stdout",
     "output_type": "stream",
     "text": [
      "Enter a filename:king\n",
      "king does not exist.\n"
     ]
    }
   ],
   "source": [
    "filename = input('Enter a filename:')\n",
    "try:\n",
    "    f = open(filename,'r')\n",
    "    text = f.read()\n",
    "    print('{} has {} characters.'.format(filename, len(text)))\n",
    "except:\n",
    "    print(filename+ ' does not exist.')\n"
   ]
  },
  {
   "cell_type": "markdown",
   "metadata": {
    "id": "RJhM9vEHB91W"
   },
   "source": [
    "The code below is similar to the one above. Now execute it entering a name of a file that you are sure exists."
   ]
  },
  {
   "cell_type": "code",
   "execution_count": 54,
   "metadata": {
    "id": "EKmm1HxFB91W"
   },
   "outputs": [
    {
     "name": "stdout",
     "output_type": "stream",
     "text": [
      "Enter a filename:Untitled.txt\n",
      "Untitled.txt has 150 characters.\n"
     ]
    }
   ],
   "source": [
    "filename = input('Enter a filename:')\n",
    "try:\n",
    "    f = open(filename,'r')\n",
    "    text = f.read()\n",
    "    print('{} has {} characters.'.format(filename, len(text)))\n",
    "except:\n",
    "    print(filename+ ' does not exist.')\n"
   ]
  },
  {
   "cell_type": "markdown",
   "metadata": {
    "id": "pooX5D_RB91X"
   },
   "source": [
    "### Writing files"
   ]
  },
  {
   "cell_type": "markdown",
   "metadata": {
    "id": "gmv9H3UdB91X"
   },
   "source": [
    "To write a file, you have to open it with mode `'w'` as a second parameter. When you are done writing, you have to `close` the file to make sure that the last bit of data is physically written to the disk so it will not be lost if the power goes off."
   ]
  },
  {
   "cell_type": "code",
   "execution_count": 55,
   "metadata": {
    "id": "RGFIi3eQB91Y"
   },
   "outputs": [],
   "source": [
    "fout = open('output.txt', 'w')\n",
    "fout.write('First line\\n')\n",
    "fout.write('Second line\\n')\n",
    "line3 = '1 Petabyte is {}^{} ({}) bytes\\n'.format(10,15, 10**15)\n",
    "fout.write(line3)\n",
    "fout.close()"
   ]
  },
  {
   "cell_type": "code",
   "execution_count": 57,
   "metadata": {
    "id": "UgmRXh9HB91Y"
   },
   "outputs": [],
   "source": [
    "# If you're using Mac or Linux, execute this cell to view the file that was created.\n",
    "!output.txt"
   ]
  },
  {
   "cell_type": "code",
   "execution_count": 58,
   "metadata": {
    "id": "lg4CLHi7B91Y"
   },
   "outputs": [
    {
     "name": "stdout",
     "output_type": "stream",
     "text": [
      "First line\n",
      "Second line\n",
      "1 Petabyte is 10^15 (1000000000000000) bytes\n"
     ]
    }
   ],
   "source": [
    "# If you're using Windows, execute this cell to view the file that was created.\n",
    "!type output.txt"
   ]
  },
  {
   "cell_type": "code",
   "execution_count": 59,
   "metadata": {
    "scrolled": false
   },
   "outputs": [
    {
     "name": "stdout",
     "output_type": "stream",
     "text": [
      "First line\n",
      "Second line\n",
      "1 Petabyte is 10^15 (1000000000000000) bytes\n"
     ]
    }
   ],
   "source": [
    "f = open('output.txt')\n",
    "for line in f :\n",
    "    line = line.rstrip()\n",
    "    print(line)"
   ]
  },
  {
   "cell_type": "markdown",
   "metadata": {
    "id": "VRDERNAVB91Z"
   },
   "source": [
    "We could close the files which we open for read as well, but we can be a little sloppy if we are only opening a few files since Python makes sure that all open files are closed when the program ends. When we are writing files, we want to explicitly close the files so as to leave nothing to chance."
   ]
  },
  {
   "cell_type": "markdown",
   "metadata": {
    "id": "q0EmNBafB91Z"
   },
   "source": [
    "## Final Words"
   ]
  },
  {
   "cell_type": "markdown",
   "metadata": {
    "id": "hXwuU17WB91Z"
   },
   "source": [
    "- File handling skills are important for manipulating data directly.\n",
    "- However, many python modules (such as **pandas**) already provide methods for handling different types of files, providing many additional options on how to read and interpret the file.\n",
    "- The skills you have learned in this chapter will remove a bit of the mystery behind those file-handling methods provided by the other python modules\n"
   ]
  },
  {
   "cell_type": "markdown",
   "metadata": {
    "id": "OIKKzyu1B91a"
   },
   "source": [
    "## EXERCISES"
   ]
  },
  {
   "cell_type": "markdown",
   "metadata": {
    "id": "X_0nZqFkB91a"
   },
   "source": [
    "#### Exercise 1  "
   ]
  },
  {
   "cell_type": "markdown",
   "metadata": {
    "id": "RSBVihkFB91b"
   },
   "source": [
    "Write a program to read through a file and print the contents of the file (line by line) all in upper case.\n",
    "\n",
    "from [PEW] E8-1"
   ]
  },
  {
   "cell_type": "code",
   "execution_count": 60,
   "metadata": {},
   "outputs": [],
   "source": [
    "file = open('fileJa.txt', 'w')\n",
    "file.write('Look, if you had one shot, one opportunity\\n')\n",
    "file.write('To seize everything you ever wanted\\n')\n",
    "file.write('One moment\\n')\n",
    "file.write('Would you capture it or just let it slip?\\n')\n",
    "file.close()"
   ]
  },
  {
   "cell_type": "code",
   "execution_count": 61,
   "metadata": {
    "scrolled": true
   },
   "outputs": [
    {
     "name": "stdout",
     "output_type": "stream",
     "text": [
      "Enter filename: fileJa.txt\n",
      "LOOK, IF YOU HAD ONE SHOT, ONE OPPORTUNITY\n",
      "TO SEIZE EVERYTHING YOU EVER WANTED\n",
      "ONE MOMENT\n",
      "WOULD YOU CAPTURE IT OR JUST LET IT SLIP?\n",
      "fileJa.txt has 4 lines and a total of 132 characters.\n"
     ]
    }
   ],
   "source": [
    "filename = input('Enter filename: ')\n",
    "count = 0\n",
    "letra = ''\n",
    "try:\n",
    "    basa = open(filename, 'r')\n",
    "    for line in basa:\n",
    "        print(line.upper().strip())\n",
    "        count += 1\n",
    "        letra += line\n",
    "    print('{} has {} lines and a total of {} characters.'.format(filename, count, len(letra)))\n",
    "    basa.close()\n",
    "except FileNotFoundError:\n",
    "    print(f\"File '{filename}' not found.\")"
   ]
  },
  {
   "cell_type": "markdown",
   "metadata": {
    "id": "f-1Oznr6B91b"
   },
   "source": [
    "#### Exercise 2  "
   ]
  },
  {
   "cell_type": "markdown",
   "metadata": {
    "id": "mOZfZxtgB91b"
   },
   "source": [
    "Write a program to read through a file and output the number of lines in a file.\n",
    "\n",
    "adapted from [PEW]"
   ]
  },
  {
   "cell_type": "code",
   "execution_count": 62,
   "metadata": {},
   "outputs": [
    {
     "name": "stdout",
     "output_type": "stream",
     "text": [
      "Enter filename: fileJa.txt\n",
      "LOOK, IF YOU HAD ONE SHOT, ONE OPPORTUNITY\n",
      "TO SEIZE EVERYTHING YOU EVER WANTED\n",
      "ONE MOMENT\n",
      "WOULD YOU CAPTURE IT OR JUST LET IT SLIP?\n",
      "fileJa.txt has 4 lines and a total of 132 characters.\n"
     ]
    }
   ],
   "source": [
    "filename = input('Enter filename: ')\n",
    "count = 0\n",
    "letra = ''\n",
    "try:\n",
    "    basa = open(filename, 'r')\n",
    "    for line in basa:\n",
    "        print(line.upper().strip())\n",
    "        count += 1\n",
    "        letra += line\n",
    "    print('{} has {} lines and a total of {} characters.'.format(filename, count, len(letra)))\n",
    "    basa.close()\n",
    "except FileNotFoundError:\n",
    "    print(f\"File '{filename}' not found.\")"
   ]
  },
  {
   "cell_type": "markdown",
   "metadata": {
    "id": "q1MMNCH6B91b"
   },
   "source": [
    "## CHALLENGE\n",
    "\n",
    "from [PEW] E8-2"
   ]
  },
  {
   "cell_type": "markdown",
   "metadata": {
    "id": "7TAOntyjB91c"
   },
   "source": [
    "Write a program to prompt for a file name, and then read through the file and look for lines of the form:"
   ]
  },
  {
   "cell_type": "raw",
   "metadata": {
    "id": "i0pi6eclB91c"
   },
   "source": [
    "X-DSPAM-Confidence: 0.8475"
   ]
  },
  {
   "cell_type": "markdown",
   "metadata": {
    "id": "xtbULwE_B91d"
   },
   "source": [
    "When you encounter a line that starts with \"X-DSPAM-Confidence:\" pull apart the line to extract the floating-point number on the line. Count these lines and then compute the total of the spam confidence values from these lines. When you reach the end of the file, print out the average spam confidence."
   ]
  },
  {
   "cell_type": "raw",
   "metadata": {
    "id": "z5mQnXq8B91d"
   },
   "source": [
    "Enter the file name: mbox.txt\n",
    "Average spam confidence: 0.894128046745\n",
    "\n",
    "Enter the file name: mbox-short.txt\n",
    "Average spam confidence: 0.750718518519"
   ]
  },
  {
   "cell_type": "code",
   "execution_count": 4,
   "metadata": {},
   "outputs": [
    {
     "name": "stdout",
     "output_type": "stream",
     "text": [
      "Enter the file name: fileJa.txt\n",
      "Average spam confidence: 0.8475\n"
     ]
    }
   ],
   "source": [
    "fileName = input(\"Enter the file name: \")\n",
    "total = 0.0\n",
    "count = 0\n",
    "try : \n",
    "    basa = open(fileName, 'r')\n",
    "    for line in basa :\n",
    "        if line.startswith(\"X-DSPAM-Confidence:\"):\n",
    "                confidence = float(line.split(\":\")[1].strip())\n",
    "                total += confidence\n",
    "                count += 1\n",
    "    if count > 0:\n",
    "        average = total / count\n",
    "        print(\"Average spam confidence:\",average)\n",
    "    else:\n",
    "        print(\"No lines with spam confidence found.\")\n",
    "    basa.close();\n",
    "except FileNotFoundError:\n",
    "    print(f\"File '{fileName}' not found.\")"
   ]
  },
  {
   "cell_type": "markdown",
   "metadata": {
    "id": "zIM7n4mMB91e"
   },
   "source": [
    "<a id='chapter8'></a>"
   ]
  },
  {
   "cell_type": "markdown",
   "metadata": {
    "id": "6MThMAcOB91e"
   },
   "source": [
    "[TABLE OF CONTENTS](#contents)"
   ]
  }
 ],
 "metadata": {
  "colab": {
   "provenance": [
    {
     "file_id": "1xeh25McdHimlZAT1fuUHqsjYzAQPrztI",
     "timestamp": 1710303494108
    }
   ]
  },
  "hide_input": false,
  "kernelspec": {
   "display_name": "Python 3 (ipykernel)",
   "language": "python",
   "name": "python3"
  },
  "language_info": {
   "codemirror_mode": {
    "name": "ipython",
    "version": 3
   },
   "file_extension": ".py",
   "mimetype": "text/x-python",
   "name": "python",
   "nbconvert_exporter": "python",
   "pygments_lexer": "ipython3",
   "version": "3.11.5"
  }
 },
 "nbformat": 4,
 "nbformat_minor": 1
}
